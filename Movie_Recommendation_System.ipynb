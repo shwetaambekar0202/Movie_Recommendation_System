{
  "nbformat": 4,
  "nbformat_minor": 0,
  "metadata": {
    "colab": {
      "provenance": []
    },
    "kernelspec": {
      "name": "python3",
      "display_name": "Python 3"
    },
    "language_info": {
      "name": "python"
    }
  },
  "cells": [
    {
      "cell_type": "markdown",
      "source": [
        "## **Import Library**"
      ],
      "metadata": {
        "id": "ZEVHFjw2hgpc"
      }
    },
    {
      "cell_type": "code",
      "execution_count": 9,
      "metadata": {
        "id": "EwsBej5ihVLQ"
      },
      "outputs": [],
      "source": [
        "import pandas as pd"
      ]
    },
    {
      "cell_type": "code",
      "source": [
        "import numpy as np"
      ],
      "metadata": {
        "id": "VQIp7Mekhqf3"
      },
      "execution_count": 10,
      "outputs": []
    },
    {
      "cell_type": "markdown",
      "source": [
        "## **Import Dataset**"
      ],
      "metadata": {
        "id": "1oebTDD0hv2D"
      }
    },
    {
      "cell_type": "code",
      "source": [
        "df = pd.read_csv(\"https://github.com/YBI-Foundation/Dataset/raw/main/Movies%20Recommendation.csv\")"
      ],
      "metadata": {
        "id": "ZBIQJ_e3htNj"
      },
      "execution_count": 11,
      "outputs": []
    },
    {
      "cell_type": "code",
      "source": [
        "df.head()"
      ],
      "metadata": {
        "colab": {
          "base_uri": "https://localhost:8080/",
          "height": 716
        },
        "id": "tIUbz6D4iKuo",
        "outputId": "da37d0ec-485c-4ca5-de75-5cc1a30c046c"
      },
      "execution_count": 12,
      "outputs": [
        {
          "output_type": "execute_result",
          "data": {
            "text/plain": [
              "   Movie_ID      Movie_Title                       Movie_Genre Movie_Language  \\\n",
              "0         1       Four Rooms                      Crime Comedy             en   \n",
              "1         2        Star Wars  Adventure Action Science Fiction             en   \n",
              "2         3     Finding Nemo                  Animation Family             en   \n",
              "3         4     Forrest Gump              Comedy Drama Romance             en   \n",
              "4         5  American Beauty                             Drama             en   \n",
              "\n",
              "   Movie_Budget  Movie_Popularity Movie_Release_Date  Movie_Revenue  \\\n",
              "0       4000000         22.876230         09-12-1995        4300000   \n",
              "1      11000000        126.393695         25-05-1977      775398007   \n",
              "2      94000000         85.688789         30-05-2003      940335536   \n",
              "3      55000000        138.133331         06-07-1994      677945399   \n",
              "4      15000000         80.878605         15-09-1999      356296601   \n",
              "\n",
              "   Movie_Runtime  Movie_Vote  ...  \\\n",
              "0           98.0         6.5  ...   \n",
              "1          121.0         8.1  ...   \n",
              "2          100.0         7.6  ...   \n",
              "3          142.0         8.2  ...   \n",
              "4          122.0         7.9  ...   \n",
              "\n",
              "                                      Movie_Homepage  \\\n",
              "0                                                NaN   \n",
              "1  http://www.starwars.com/films/star-wars-episod...   \n",
              "2              http://movies.disney.com/finding-nemo   \n",
              "3                                                NaN   \n",
              "4                      http://www.dreamworks.com/ab/   \n",
              "\n",
              "                                      Movie_Keywords  \\\n",
              "0          hotel new year's eve witch bet hotel room   \n",
              "1        android galaxy hermit death star lightsaber   \n",
              "2  father son relationship harbor underwater fish...   \n",
              "3  vietnam veteran hippie mentally disabled runni...   \n",
              "4  male nudity female nudity adultery midlife cri...   \n",
              "\n",
              "                                      Movie_Overview  \\\n",
              "0  It's Ted the Bellhop's first night on the job....   \n",
              "1  Princess Leia is captured and held hostage by ...   \n",
              "2  Nemo, an adventurous young clownfish, is unexp...   \n",
              "3  A man with a low IQ has accomplished great thi...   \n",
              "4  Lester Burnham, a depressed suburban father in...   \n",
              "\n",
              "                              Movie_Production_House  \\\n",
              "0  [{\"name\": \"Miramax Films\", \"id\": 14}, {\"name\":...   \n",
              "1  [{\"name\": \"Lucasfilm\", \"id\": 1}, {\"name\": \"Twe...   \n",
              "2     [{\"name\": \"Pixar Animation Studios\", \"id\": 3}]   \n",
              "3          [{\"name\": \"Paramount Pictures\", \"id\": 4}]   \n",
              "4  [{\"name\": \"DreamWorks SKG\", \"id\": 27}, {\"name\"...   \n",
              "\n",
              "                            Movie_Production_Country  \\\n",
              "0  [{\"iso_3166_1\": \"US\", \"name\": \"United States o...   \n",
              "1  [{\"iso_3166_1\": \"US\", \"name\": \"United States o...   \n",
              "2  [{\"iso_3166_1\": \"US\", \"name\": \"United States o...   \n",
              "3  [{\"iso_3166_1\": \"US\", \"name\": \"United States o...   \n",
              "4  [{\"iso_3166_1\": \"US\", \"name\": \"United States o...   \n",
              "\n",
              "                      Movie_Spoken_Language  \\\n",
              "0  [{\"iso_639_1\": \"en\", \"name\": \"English\"}]   \n",
              "1  [{\"iso_639_1\": \"en\", \"name\": \"English\"}]   \n",
              "2  [{\"iso_639_1\": \"en\", \"name\": \"English\"}]   \n",
              "3  [{\"iso_639_1\": \"en\", \"name\": \"English\"}]   \n",
              "4  [{\"iso_639_1\": \"en\", \"name\": \"English\"}]   \n",
              "\n",
              "                                       Movie_Tagline  \\\n",
              "0  Twelve outrageous guests. Four scandalous requ...   \n",
              "1       A long time ago in a galaxy far, far away...   \n",
              "2  There are 3.7 trillion fish in the ocean, they...   \n",
              "3  The world will never be the same, once you've ...   \n",
              "4                                       Look closer.   \n",
              "\n",
              "                                          Movie_Cast  \\\n",
              "0  Tim Roth Antonio Banderas Jennifer Beals Madon...   \n",
              "1  Mark Hamill Harrison Ford Carrie Fisher Peter ...   \n",
              "2  Albert Brooks Ellen DeGeneres Alexander Gould ...   \n",
              "3  Tom Hanks Robin Wright Gary Sinise Mykelti Wil...   \n",
              "4  Kevin Spacey Annette Bening Thora Birch Wes Be...   \n",
              "\n",
              "                                          Movie_Crew   Movie_Director  \n",
              "0  [{'name': 'Allison Anders', 'gender': 1, 'depa...   Allison Anders  \n",
              "1  [{'name': 'George Lucas', 'gender': 2, 'depart...     George Lucas  \n",
              "2  [{'name': 'Andrew Stanton', 'gender': 2, 'depa...   Andrew Stanton  \n",
              "3  [{'name': 'Alan Silvestri', 'gender': 2, 'depa...  Robert Zemeckis  \n",
              "4  [{'name': 'Thomas Newman', 'gender': 2, 'depar...       Sam Mendes  \n",
              "\n",
              "[5 rows x 21 columns]"
            ],
            "text/html": [
              "\n",
              "\n",
              "  <div id=\"df-5242cf2c-e173-4687-b48d-966020adf37d\">\n",
              "    <div class=\"colab-df-container\">\n",
              "      <div>\n",
              "<style scoped>\n",
              "    .dataframe tbody tr th:only-of-type {\n",
              "        vertical-align: middle;\n",
              "    }\n",
              "\n",
              "    .dataframe tbody tr th {\n",
              "        vertical-align: top;\n",
              "    }\n",
              "\n",
              "    .dataframe thead th {\n",
              "        text-align: right;\n",
              "    }\n",
              "</style>\n",
              "<table border=\"1\" class=\"dataframe\">\n",
              "  <thead>\n",
              "    <tr style=\"text-align: right;\">\n",
              "      <th></th>\n",
              "      <th>Movie_ID</th>\n",
              "      <th>Movie_Title</th>\n",
              "      <th>Movie_Genre</th>\n",
              "      <th>Movie_Language</th>\n",
              "      <th>Movie_Budget</th>\n",
              "      <th>Movie_Popularity</th>\n",
              "      <th>Movie_Release_Date</th>\n",
              "      <th>Movie_Revenue</th>\n",
              "      <th>Movie_Runtime</th>\n",
              "      <th>Movie_Vote</th>\n",
              "      <th>...</th>\n",
              "      <th>Movie_Homepage</th>\n",
              "      <th>Movie_Keywords</th>\n",
              "      <th>Movie_Overview</th>\n",
              "      <th>Movie_Production_House</th>\n",
              "      <th>Movie_Production_Country</th>\n",
              "      <th>Movie_Spoken_Language</th>\n",
              "      <th>Movie_Tagline</th>\n",
              "      <th>Movie_Cast</th>\n",
              "      <th>Movie_Crew</th>\n",
              "      <th>Movie_Director</th>\n",
              "    </tr>\n",
              "  </thead>\n",
              "  <tbody>\n",
              "    <tr>\n",
              "      <th>0</th>\n",
              "      <td>1</td>\n",
              "      <td>Four Rooms</td>\n",
              "      <td>Crime Comedy</td>\n",
              "      <td>en</td>\n",
              "      <td>4000000</td>\n",
              "      <td>22.876230</td>\n",
              "      <td>09-12-1995</td>\n",
              "      <td>4300000</td>\n",
              "      <td>98.0</td>\n",
              "      <td>6.5</td>\n",
              "      <td>...</td>\n",
              "      <td>NaN</td>\n",
              "      <td>hotel new year's eve witch bet hotel room</td>\n",
              "      <td>It's Ted the Bellhop's first night on the job....</td>\n",
              "      <td>[{\"name\": \"Miramax Films\", \"id\": 14}, {\"name\":...</td>\n",
              "      <td>[{\"iso_3166_1\": \"US\", \"name\": \"United States o...</td>\n",
              "      <td>[{\"iso_639_1\": \"en\", \"name\": \"English\"}]</td>\n",
              "      <td>Twelve outrageous guests. Four scandalous requ...</td>\n",
              "      <td>Tim Roth Antonio Banderas Jennifer Beals Madon...</td>\n",
              "      <td>[{'name': 'Allison Anders', 'gender': 1, 'depa...</td>\n",
              "      <td>Allison Anders</td>\n",
              "    </tr>\n",
              "    <tr>\n",
              "      <th>1</th>\n",
              "      <td>2</td>\n",
              "      <td>Star Wars</td>\n",
              "      <td>Adventure Action Science Fiction</td>\n",
              "      <td>en</td>\n",
              "      <td>11000000</td>\n",
              "      <td>126.393695</td>\n",
              "      <td>25-05-1977</td>\n",
              "      <td>775398007</td>\n",
              "      <td>121.0</td>\n",
              "      <td>8.1</td>\n",
              "      <td>...</td>\n",
              "      <td>http://www.starwars.com/films/star-wars-episod...</td>\n",
              "      <td>android galaxy hermit death star lightsaber</td>\n",
              "      <td>Princess Leia is captured and held hostage by ...</td>\n",
              "      <td>[{\"name\": \"Lucasfilm\", \"id\": 1}, {\"name\": \"Twe...</td>\n",
              "      <td>[{\"iso_3166_1\": \"US\", \"name\": \"United States o...</td>\n",
              "      <td>[{\"iso_639_1\": \"en\", \"name\": \"English\"}]</td>\n",
              "      <td>A long time ago in a galaxy far, far away...</td>\n",
              "      <td>Mark Hamill Harrison Ford Carrie Fisher Peter ...</td>\n",
              "      <td>[{'name': 'George Lucas', 'gender': 2, 'depart...</td>\n",
              "      <td>George Lucas</td>\n",
              "    </tr>\n",
              "    <tr>\n",
              "      <th>2</th>\n",
              "      <td>3</td>\n",
              "      <td>Finding Nemo</td>\n",
              "      <td>Animation Family</td>\n",
              "      <td>en</td>\n",
              "      <td>94000000</td>\n",
              "      <td>85.688789</td>\n",
              "      <td>30-05-2003</td>\n",
              "      <td>940335536</td>\n",
              "      <td>100.0</td>\n",
              "      <td>7.6</td>\n",
              "      <td>...</td>\n",
              "      <td>http://movies.disney.com/finding-nemo</td>\n",
              "      <td>father son relationship harbor underwater fish...</td>\n",
              "      <td>Nemo, an adventurous young clownfish, is unexp...</td>\n",
              "      <td>[{\"name\": \"Pixar Animation Studios\", \"id\": 3}]</td>\n",
              "      <td>[{\"iso_3166_1\": \"US\", \"name\": \"United States o...</td>\n",
              "      <td>[{\"iso_639_1\": \"en\", \"name\": \"English\"}]</td>\n",
              "      <td>There are 3.7 trillion fish in the ocean, they...</td>\n",
              "      <td>Albert Brooks Ellen DeGeneres Alexander Gould ...</td>\n",
              "      <td>[{'name': 'Andrew Stanton', 'gender': 2, 'depa...</td>\n",
              "      <td>Andrew Stanton</td>\n",
              "    </tr>\n",
              "    <tr>\n",
              "      <th>3</th>\n",
              "      <td>4</td>\n",
              "      <td>Forrest Gump</td>\n",
              "      <td>Comedy Drama Romance</td>\n",
              "      <td>en</td>\n",
              "      <td>55000000</td>\n",
              "      <td>138.133331</td>\n",
              "      <td>06-07-1994</td>\n",
              "      <td>677945399</td>\n",
              "      <td>142.0</td>\n",
              "      <td>8.2</td>\n",
              "      <td>...</td>\n",
              "      <td>NaN</td>\n",
              "      <td>vietnam veteran hippie mentally disabled runni...</td>\n",
              "      <td>A man with a low IQ has accomplished great thi...</td>\n",
              "      <td>[{\"name\": \"Paramount Pictures\", \"id\": 4}]</td>\n",
              "      <td>[{\"iso_3166_1\": \"US\", \"name\": \"United States o...</td>\n",
              "      <td>[{\"iso_639_1\": \"en\", \"name\": \"English\"}]</td>\n",
              "      <td>The world will never be the same, once you've ...</td>\n",
              "      <td>Tom Hanks Robin Wright Gary Sinise Mykelti Wil...</td>\n",
              "      <td>[{'name': 'Alan Silvestri', 'gender': 2, 'depa...</td>\n",
              "      <td>Robert Zemeckis</td>\n",
              "    </tr>\n",
              "    <tr>\n",
              "      <th>4</th>\n",
              "      <td>5</td>\n",
              "      <td>American Beauty</td>\n",
              "      <td>Drama</td>\n",
              "      <td>en</td>\n",
              "      <td>15000000</td>\n",
              "      <td>80.878605</td>\n",
              "      <td>15-09-1999</td>\n",
              "      <td>356296601</td>\n",
              "      <td>122.0</td>\n",
              "      <td>7.9</td>\n",
              "      <td>...</td>\n",
              "      <td>http://www.dreamworks.com/ab/</td>\n",
              "      <td>male nudity female nudity adultery midlife cri...</td>\n",
              "      <td>Lester Burnham, a depressed suburban father in...</td>\n",
              "      <td>[{\"name\": \"DreamWorks SKG\", \"id\": 27}, {\"name\"...</td>\n",
              "      <td>[{\"iso_3166_1\": \"US\", \"name\": \"United States o...</td>\n",
              "      <td>[{\"iso_639_1\": \"en\", \"name\": \"English\"}]</td>\n",
              "      <td>Look closer.</td>\n",
              "      <td>Kevin Spacey Annette Bening Thora Birch Wes Be...</td>\n",
              "      <td>[{'name': 'Thomas Newman', 'gender': 2, 'depar...</td>\n",
              "      <td>Sam Mendes</td>\n",
              "    </tr>\n",
              "  </tbody>\n",
              "</table>\n",
              "<p>5 rows × 21 columns</p>\n",
              "</div>\n",
              "      <button class=\"colab-df-convert\" onclick=\"convertToInteractive('df-5242cf2c-e173-4687-b48d-966020adf37d')\"\n",
              "              title=\"Convert this dataframe to an interactive table.\"\n",
              "              style=\"display:none;\">\n",
              "\n",
              "  <svg xmlns=\"http://www.w3.org/2000/svg\" height=\"24px\"viewBox=\"0 0 24 24\"\n",
              "       width=\"24px\">\n",
              "    <path d=\"M0 0h24v24H0V0z\" fill=\"none\"/>\n",
              "    <path d=\"M18.56 5.44l.94 2.06.94-2.06 2.06-.94-2.06-.94-.94-2.06-.94 2.06-2.06.94zm-11 1L8.5 8.5l.94-2.06 2.06-.94-2.06-.94L8.5 2.5l-.94 2.06-2.06.94zm10 10l.94 2.06.94-2.06 2.06-.94-2.06-.94-.94-2.06-.94 2.06-2.06.94z\"/><path d=\"M17.41 7.96l-1.37-1.37c-.4-.4-.92-.59-1.43-.59-.52 0-1.04.2-1.43.59L10.3 9.45l-7.72 7.72c-.78.78-.78 2.05 0 2.83L4 21.41c.39.39.9.59 1.41.59.51 0 1.02-.2 1.41-.59l7.78-7.78 2.81-2.81c.8-.78.8-2.07 0-2.86zM5.41 20L4 18.59l7.72-7.72 1.47 1.35L5.41 20z\"/>\n",
              "  </svg>\n",
              "      </button>\n",
              "\n",
              "\n",
              "\n",
              "    <div id=\"df-7bdc0653-d586-444d-b58b-fe7753dbbb3d\">\n",
              "      <button class=\"colab-df-quickchart\" onclick=\"quickchart('df-7bdc0653-d586-444d-b58b-fe7753dbbb3d')\"\n",
              "              title=\"Suggest charts.\"\n",
              "              style=\"display:none;\">\n",
              "\n",
              "<svg xmlns=\"http://www.w3.org/2000/svg\" height=\"24px\"viewBox=\"0 0 24 24\"\n",
              "     width=\"24px\">\n",
              "    <g>\n",
              "        <path d=\"M19 3H5c-1.1 0-2 .9-2 2v14c0 1.1.9 2 2 2h14c1.1 0 2-.9 2-2V5c0-1.1-.9-2-2-2zM9 17H7v-7h2v7zm4 0h-2V7h2v10zm4 0h-2v-4h2v4z\"/>\n",
              "    </g>\n",
              "</svg>\n",
              "      </button>\n",
              "    </div>\n",
              "\n",
              "<style>\n",
              "  .colab-df-quickchart {\n",
              "    background-color: #E8F0FE;\n",
              "    border: none;\n",
              "    border-radius: 50%;\n",
              "    cursor: pointer;\n",
              "    display: none;\n",
              "    fill: #1967D2;\n",
              "    height: 32px;\n",
              "    padding: 0 0 0 0;\n",
              "    width: 32px;\n",
              "  }\n",
              "\n",
              "  .colab-df-quickchart:hover {\n",
              "    background-color: #E2EBFA;\n",
              "    box-shadow: 0px 1px 2px rgba(60, 64, 67, 0.3), 0px 1px 3px 1px rgba(60, 64, 67, 0.15);\n",
              "    fill: #174EA6;\n",
              "  }\n",
              "\n",
              "  [theme=dark] .colab-df-quickchart {\n",
              "    background-color: #3B4455;\n",
              "    fill: #D2E3FC;\n",
              "  }\n",
              "\n",
              "  [theme=dark] .colab-df-quickchart:hover {\n",
              "    background-color: #434B5C;\n",
              "    box-shadow: 0px 1px 3px 1px rgba(0, 0, 0, 0.15);\n",
              "    filter: drop-shadow(0px 1px 2px rgba(0, 0, 0, 0.3));\n",
              "    fill: #FFFFFF;\n",
              "  }\n",
              "</style>\n",
              "\n",
              "    <script>\n",
              "      async function quickchart(key) {\n",
              "        const containerElement = document.querySelector('#' + key);\n",
              "        const charts = await google.colab.kernel.invokeFunction(\n",
              "            'suggestCharts', [key], {});\n",
              "      }\n",
              "    </script>\n",
              "\n",
              "      <script>\n",
              "\n",
              "function displayQuickchartButton(domScope) {\n",
              "  let quickchartButtonEl =\n",
              "    domScope.querySelector('#df-7bdc0653-d586-444d-b58b-fe7753dbbb3d button.colab-df-quickchart');\n",
              "  quickchartButtonEl.style.display =\n",
              "    google.colab.kernel.accessAllowed ? 'block' : 'none';\n",
              "}\n",
              "\n",
              "        displayQuickchartButton(document);\n",
              "      </script>\n",
              "      <style>\n",
              "    .colab-df-container {\n",
              "      display:flex;\n",
              "      flex-wrap:wrap;\n",
              "      gap: 12px;\n",
              "    }\n",
              "\n",
              "    .colab-df-convert {\n",
              "      background-color: #E8F0FE;\n",
              "      border: none;\n",
              "      border-radius: 50%;\n",
              "      cursor: pointer;\n",
              "      display: none;\n",
              "      fill: #1967D2;\n",
              "      height: 32px;\n",
              "      padding: 0 0 0 0;\n",
              "      width: 32px;\n",
              "    }\n",
              "\n",
              "    .colab-df-convert:hover {\n",
              "      background-color: #E2EBFA;\n",
              "      box-shadow: 0px 1px 2px rgba(60, 64, 67, 0.3), 0px 1px 3px 1px rgba(60, 64, 67, 0.15);\n",
              "      fill: #174EA6;\n",
              "    }\n",
              "\n",
              "    [theme=dark] .colab-df-convert {\n",
              "      background-color: #3B4455;\n",
              "      fill: #D2E3FC;\n",
              "    }\n",
              "\n",
              "    [theme=dark] .colab-df-convert:hover {\n",
              "      background-color: #434B5C;\n",
              "      box-shadow: 0px 1px 3px 1px rgba(0, 0, 0, 0.15);\n",
              "      filter: drop-shadow(0px 1px 2px rgba(0, 0, 0, 0.3));\n",
              "      fill: #FFFFFF;\n",
              "    }\n",
              "  </style>\n",
              "\n",
              "      <script>\n",
              "        const buttonEl =\n",
              "          document.querySelector('#df-5242cf2c-e173-4687-b48d-966020adf37d button.colab-df-convert');\n",
              "        buttonEl.style.display =\n",
              "          google.colab.kernel.accessAllowed ? 'block' : 'none';\n",
              "\n",
              "        async function convertToInteractive(key) {\n",
              "          const element = document.querySelector('#df-5242cf2c-e173-4687-b48d-966020adf37d');\n",
              "          const dataTable =\n",
              "            await google.colab.kernel.invokeFunction('convertToInteractive',\n",
              "                                                     [key], {});\n",
              "          if (!dataTable) return;\n",
              "\n",
              "          const docLinkHtml = 'Like what you see? Visit the ' +\n",
              "            '<a target=\"_blank\" href=https://colab.research.google.com/notebooks/data_table.ipynb>data table notebook</a>'\n",
              "            + ' to learn more about interactive tables.';\n",
              "          element.innerHTML = '';\n",
              "          dataTable['output_type'] = 'display_data';\n",
              "          await google.colab.output.renderOutput(dataTable, element);\n",
              "          const docLink = document.createElement('div');\n",
              "          docLink.innerHTML = docLinkHtml;\n",
              "          element.appendChild(docLink);\n",
              "        }\n",
              "      </script>\n",
              "    </div>\n",
              "  </div>\n"
            ]
          },
          "metadata": {},
          "execution_count": 12
        }
      ]
    },
    {
      "cell_type": "code",
      "source": [
        "df.info()"
      ],
      "metadata": {
        "colab": {
          "base_uri": "https://localhost:8080/"
        },
        "id": "0-2N8i-HiOBR",
        "outputId": "8d734c7a-1456-451e-f580-990ca7f12d97"
      },
      "execution_count": 13,
      "outputs": [
        {
          "output_type": "stream",
          "name": "stdout",
          "text": [
            "<class 'pandas.core.frame.DataFrame'>\n",
            "RangeIndex: 4760 entries, 0 to 4759\n",
            "Data columns (total 21 columns):\n",
            " #   Column                    Non-Null Count  Dtype  \n",
            "---  ------                    --------------  -----  \n",
            " 0   Movie_ID                  4760 non-null   int64  \n",
            " 1   Movie_Title               4760 non-null   object \n",
            " 2   Movie_Genre               4760 non-null   object \n",
            " 3   Movie_Language            4760 non-null   object \n",
            " 4   Movie_Budget              4760 non-null   int64  \n",
            " 5   Movie_Popularity          4760 non-null   float64\n",
            " 6   Movie_Release_Date        4760 non-null   object \n",
            " 7   Movie_Revenue             4760 non-null   int64  \n",
            " 8   Movie_Runtime             4758 non-null   float64\n",
            " 9   Movie_Vote                4760 non-null   float64\n",
            " 10  Movie_Vote_Count          4760 non-null   int64  \n",
            " 11  Movie_Homepage            1699 non-null   object \n",
            " 12  Movie_Keywords            4373 non-null   object \n",
            " 13  Movie_Overview            4757 non-null   object \n",
            " 14  Movie_Production_House    4760 non-null   object \n",
            " 15  Movie_Production_Country  4760 non-null   object \n",
            " 16  Movie_Spoken_Language     4760 non-null   object \n",
            " 17  Movie_Tagline             3942 non-null   object \n",
            " 18  Movie_Cast                4733 non-null   object \n",
            " 19  Movie_Crew                4760 non-null   object \n",
            " 20  Movie_Director            4738 non-null   object \n",
            "dtypes: float64(3), int64(4), object(14)\n",
            "memory usage: 781.1+ KB\n"
          ]
        }
      ]
    },
    {
      "cell_type": "code",
      "source": [
        "df.shape"
      ],
      "metadata": {
        "colab": {
          "base_uri": "https://localhost:8080/"
        },
        "id": "JJ8a7ZadjFuL",
        "outputId": "8b963d5b-f85b-44ca-a397-14d42732c5e5"
      },
      "execution_count": 14,
      "outputs": [
        {
          "output_type": "execute_result",
          "data": {
            "text/plain": [
              "(4760, 21)"
            ]
          },
          "metadata": {},
          "execution_count": 14
        }
      ]
    },
    {
      "cell_type": "code",
      "source": [
        "df.columns"
      ],
      "metadata": {
        "colab": {
          "base_uri": "https://localhost:8080/"
        },
        "id": "ORnCwxFvjWK-",
        "outputId": "8cb33abe-073d-4a0c-9db1-df50a1818e05"
      },
      "execution_count": 15,
      "outputs": [
        {
          "output_type": "execute_result",
          "data": {
            "text/plain": [
              "Index(['Movie_ID', 'Movie_Title', 'Movie_Genre', 'Movie_Language',\n",
              "       'Movie_Budget', 'Movie_Popularity', 'Movie_Release_Date',\n",
              "       'Movie_Revenue', 'Movie_Runtime', 'Movie_Vote', 'Movie_Vote_Count',\n",
              "       'Movie_Homepage', 'Movie_Keywords', 'Movie_Overview',\n",
              "       'Movie_Production_House', 'Movie_Production_Country',\n",
              "       'Movie_Spoken_Language', 'Movie_Tagline', 'Movie_Cast', 'Movie_Crew',\n",
              "       'Movie_Director'],\n",
              "      dtype='object')"
            ]
          },
          "metadata": {},
          "execution_count": 15
        }
      ]
    },
    {
      "cell_type": "markdown",
      "source": [
        "## **Get Feature Selection**"
      ],
      "metadata": {
        "id": "q_6Q2GORje3v"
      }
    },
    {
      "cell_type": "code",
      "source": [
        "df_features = df[['Movie_Genre','Movie_Keywords','Movie_Tagline', 'Movie_Cast','Movie_Director']].fillna('')"
      ],
      "metadata": {
        "id": "FEVe7TYQjaeb"
      },
      "execution_count": 16,
      "outputs": []
    },
    {
      "cell_type": "markdown",
      "source": [
        "**Selected five existing features to recommend movies.**"
      ],
      "metadata": {
        "id": "jOlSOSl6kG8e"
      }
    },
    {
      "cell_type": "code",
      "source": [
        "df_features.shape"
      ],
      "metadata": {
        "colab": {
          "base_uri": "https://localhost:8080/"
        },
        "id": "3MrTvXnnkDE2",
        "outputId": "2a1dc563-034b-4c13-a3f6-cb8c1b20b1e7"
      },
      "execution_count": 17,
      "outputs": [
        {
          "output_type": "execute_result",
          "data": {
            "text/plain": [
              "(4760, 5)"
            ]
          },
          "metadata": {},
          "execution_count": 17
        }
      ]
    },
    {
      "cell_type": "code",
      "source": [
        "df_features"
      ],
      "metadata": {
        "colab": {
          "base_uri": "https://localhost:8080/",
          "height": 467
        },
        "id": "EAT6CCcwkbZA",
        "outputId": "6818a2b1-e2fc-4634-87d5-4d681bb6ce8b"
      },
      "execution_count": 18,
      "outputs": [
        {
          "output_type": "execute_result",
          "data": {
            "text/plain": [
              "                           Movie_Genre  \\\n",
              "0                         Crime Comedy   \n",
              "1     Adventure Action Science Fiction   \n",
              "2                     Animation Family   \n",
              "3                 Comedy Drama Romance   \n",
              "4                                Drama   \n",
              "...                                ...   \n",
              "4755                            Horror   \n",
              "4756               Comedy Family Drama   \n",
              "4757                    Thriller Drama   \n",
              "4758                            Family   \n",
              "4759                       Documentary   \n",
              "\n",
              "                                         Movie_Keywords  \\\n",
              "0             hotel new year's eve witch bet hotel room   \n",
              "1           android galaxy hermit death star lightsaber   \n",
              "2     father son relationship harbor underwater fish...   \n",
              "3     vietnam veteran hippie mentally disabled runni...   \n",
              "4     male nudity female nudity adultery midlife cri...   \n",
              "...                                                 ...   \n",
              "4755                                                      \n",
              "4756                                                      \n",
              "4757                     christian film sex trafficking   \n",
              "4758                                                      \n",
              "4759  music actors legendary perfomer classic hollyw...   \n",
              "\n",
              "                                          Movie_Tagline  \\\n",
              "0     Twelve outrageous guests. Four scandalous requ...   \n",
              "1          A long time ago in a galaxy far, far away...   \n",
              "2     There are 3.7 trillion fish in the ocean, they...   \n",
              "3     The world will never be the same, once you've ...   \n",
              "4                                          Look closer.   \n",
              "...                                                 ...   \n",
              "4755                The hot spot where Satan's waitin'.   \n",
              "4756           It’s better to stand out than to fit in.   \n",
              "4757           She never knew it could happen to her...   \n",
              "4758                                                      \n",
              "4759                                                      \n",
              "\n",
              "                                             Movie_Cast     Movie_Director  \n",
              "0     Tim Roth Antonio Banderas Jennifer Beals Madon...     Allison Anders  \n",
              "1     Mark Hamill Harrison Ford Carrie Fisher Peter ...       George Lucas  \n",
              "2     Albert Brooks Ellen DeGeneres Alexander Gould ...     Andrew Stanton  \n",
              "3     Tom Hanks Robin Wright Gary Sinise Mykelti Wil...    Robert Zemeckis  \n",
              "4     Kevin Spacey Annette Bening Thora Birch Wes Be...         Sam Mendes  \n",
              "...                                                 ...                ...  \n",
              "4755  Lisa Hart Carroll Michael Des Barres Paul Drak...         Pece Dingo  \n",
              "4756  Roni Akurati Brighton Sharbino Jason Lee Anjul...       Frank Lotito  \n",
              "4757  Nicole Smolen Kim Baldwin Ariana Stephens Brys...       Jaco Booyens  \n",
              "4758                                                                        \n",
              "4759                                    Tony Oppedisano  Simon Napier-Bell  \n",
              "\n",
              "[4760 rows x 5 columns]"
            ],
            "text/html": [
              "\n",
              "\n",
              "  <div id=\"df-a706a5d8-818f-4d8e-898e-1f6688ea828f\">\n",
              "    <div class=\"colab-df-container\">\n",
              "      <div>\n",
              "<style scoped>\n",
              "    .dataframe tbody tr th:only-of-type {\n",
              "        vertical-align: middle;\n",
              "    }\n",
              "\n",
              "    .dataframe tbody tr th {\n",
              "        vertical-align: top;\n",
              "    }\n",
              "\n",
              "    .dataframe thead th {\n",
              "        text-align: right;\n",
              "    }\n",
              "</style>\n",
              "<table border=\"1\" class=\"dataframe\">\n",
              "  <thead>\n",
              "    <tr style=\"text-align: right;\">\n",
              "      <th></th>\n",
              "      <th>Movie_Genre</th>\n",
              "      <th>Movie_Keywords</th>\n",
              "      <th>Movie_Tagline</th>\n",
              "      <th>Movie_Cast</th>\n",
              "      <th>Movie_Director</th>\n",
              "    </tr>\n",
              "  </thead>\n",
              "  <tbody>\n",
              "    <tr>\n",
              "      <th>0</th>\n",
              "      <td>Crime Comedy</td>\n",
              "      <td>hotel new year's eve witch bet hotel room</td>\n",
              "      <td>Twelve outrageous guests. Four scandalous requ...</td>\n",
              "      <td>Tim Roth Antonio Banderas Jennifer Beals Madon...</td>\n",
              "      <td>Allison Anders</td>\n",
              "    </tr>\n",
              "    <tr>\n",
              "      <th>1</th>\n",
              "      <td>Adventure Action Science Fiction</td>\n",
              "      <td>android galaxy hermit death star lightsaber</td>\n",
              "      <td>A long time ago in a galaxy far, far away...</td>\n",
              "      <td>Mark Hamill Harrison Ford Carrie Fisher Peter ...</td>\n",
              "      <td>George Lucas</td>\n",
              "    </tr>\n",
              "    <tr>\n",
              "      <th>2</th>\n",
              "      <td>Animation Family</td>\n",
              "      <td>father son relationship harbor underwater fish...</td>\n",
              "      <td>There are 3.7 trillion fish in the ocean, they...</td>\n",
              "      <td>Albert Brooks Ellen DeGeneres Alexander Gould ...</td>\n",
              "      <td>Andrew Stanton</td>\n",
              "    </tr>\n",
              "    <tr>\n",
              "      <th>3</th>\n",
              "      <td>Comedy Drama Romance</td>\n",
              "      <td>vietnam veteran hippie mentally disabled runni...</td>\n",
              "      <td>The world will never be the same, once you've ...</td>\n",
              "      <td>Tom Hanks Robin Wright Gary Sinise Mykelti Wil...</td>\n",
              "      <td>Robert Zemeckis</td>\n",
              "    </tr>\n",
              "    <tr>\n",
              "      <th>4</th>\n",
              "      <td>Drama</td>\n",
              "      <td>male nudity female nudity adultery midlife cri...</td>\n",
              "      <td>Look closer.</td>\n",
              "      <td>Kevin Spacey Annette Bening Thora Birch Wes Be...</td>\n",
              "      <td>Sam Mendes</td>\n",
              "    </tr>\n",
              "    <tr>\n",
              "      <th>...</th>\n",
              "      <td>...</td>\n",
              "      <td>...</td>\n",
              "      <td>...</td>\n",
              "      <td>...</td>\n",
              "      <td>...</td>\n",
              "    </tr>\n",
              "    <tr>\n",
              "      <th>4755</th>\n",
              "      <td>Horror</td>\n",
              "      <td></td>\n",
              "      <td>The hot spot where Satan's waitin'.</td>\n",
              "      <td>Lisa Hart Carroll Michael Des Barres Paul Drak...</td>\n",
              "      <td>Pece Dingo</td>\n",
              "    </tr>\n",
              "    <tr>\n",
              "      <th>4756</th>\n",
              "      <td>Comedy Family Drama</td>\n",
              "      <td></td>\n",
              "      <td>It’s better to stand out than to fit in.</td>\n",
              "      <td>Roni Akurati Brighton Sharbino Jason Lee Anjul...</td>\n",
              "      <td>Frank Lotito</td>\n",
              "    </tr>\n",
              "    <tr>\n",
              "      <th>4757</th>\n",
              "      <td>Thriller Drama</td>\n",
              "      <td>christian film sex trafficking</td>\n",
              "      <td>She never knew it could happen to her...</td>\n",
              "      <td>Nicole Smolen Kim Baldwin Ariana Stephens Brys...</td>\n",
              "      <td>Jaco Booyens</td>\n",
              "    </tr>\n",
              "    <tr>\n",
              "      <th>4758</th>\n",
              "      <td>Family</td>\n",
              "      <td></td>\n",
              "      <td></td>\n",
              "      <td></td>\n",
              "      <td></td>\n",
              "    </tr>\n",
              "    <tr>\n",
              "      <th>4759</th>\n",
              "      <td>Documentary</td>\n",
              "      <td>music actors legendary perfomer classic hollyw...</td>\n",
              "      <td></td>\n",
              "      <td>Tony Oppedisano</td>\n",
              "      <td>Simon Napier-Bell</td>\n",
              "    </tr>\n",
              "  </tbody>\n",
              "</table>\n",
              "<p>4760 rows × 5 columns</p>\n",
              "</div>\n",
              "      <button class=\"colab-df-convert\" onclick=\"convertToInteractive('df-a706a5d8-818f-4d8e-898e-1f6688ea828f')\"\n",
              "              title=\"Convert this dataframe to an interactive table.\"\n",
              "              style=\"display:none;\">\n",
              "\n",
              "  <svg xmlns=\"http://www.w3.org/2000/svg\" height=\"24px\"viewBox=\"0 0 24 24\"\n",
              "       width=\"24px\">\n",
              "    <path d=\"M0 0h24v24H0V0z\" fill=\"none\"/>\n",
              "    <path d=\"M18.56 5.44l.94 2.06.94-2.06 2.06-.94-2.06-.94-.94-2.06-.94 2.06-2.06.94zm-11 1L8.5 8.5l.94-2.06 2.06-.94-2.06-.94L8.5 2.5l-.94 2.06-2.06.94zm10 10l.94 2.06.94-2.06 2.06-.94-2.06-.94-.94-2.06-.94 2.06-2.06.94z\"/><path d=\"M17.41 7.96l-1.37-1.37c-.4-.4-.92-.59-1.43-.59-.52 0-1.04.2-1.43.59L10.3 9.45l-7.72 7.72c-.78.78-.78 2.05 0 2.83L4 21.41c.39.39.9.59 1.41.59.51 0 1.02-.2 1.41-.59l7.78-7.78 2.81-2.81c.8-.78.8-2.07 0-2.86zM5.41 20L4 18.59l7.72-7.72 1.47 1.35L5.41 20z\"/>\n",
              "  </svg>\n",
              "      </button>\n",
              "\n",
              "\n",
              "\n",
              "    <div id=\"df-55f0454b-9e93-4381-87d8-1dcad6d54395\">\n",
              "      <button class=\"colab-df-quickchart\" onclick=\"quickchart('df-55f0454b-9e93-4381-87d8-1dcad6d54395')\"\n",
              "              title=\"Suggest charts.\"\n",
              "              style=\"display:none;\">\n",
              "\n",
              "<svg xmlns=\"http://www.w3.org/2000/svg\" height=\"24px\"viewBox=\"0 0 24 24\"\n",
              "     width=\"24px\">\n",
              "    <g>\n",
              "        <path d=\"M19 3H5c-1.1 0-2 .9-2 2v14c0 1.1.9 2 2 2h14c1.1 0 2-.9 2-2V5c0-1.1-.9-2-2-2zM9 17H7v-7h2v7zm4 0h-2V7h2v10zm4 0h-2v-4h2v4z\"/>\n",
              "    </g>\n",
              "</svg>\n",
              "      </button>\n",
              "    </div>\n",
              "\n",
              "<style>\n",
              "  .colab-df-quickchart {\n",
              "    background-color: #E8F0FE;\n",
              "    border: none;\n",
              "    border-radius: 50%;\n",
              "    cursor: pointer;\n",
              "    display: none;\n",
              "    fill: #1967D2;\n",
              "    height: 32px;\n",
              "    padding: 0 0 0 0;\n",
              "    width: 32px;\n",
              "  }\n",
              "\n",
              "  .colab-df-quickchart:hover {\n",
              "    background-color: #E2EBFA;\n",
              "    box-shadow: 0px 1px 2px rgba(60, 64, 67, 0.3), 0px 1px 3px 1px rgba(60, 64, 67, 0.15);\n",
              "    fill: #174EA6;\n",
              "  }\n",
              "\n",
              "  [theme=dark] .colab-df-quickchart {\n",
              "    background-color: #3B4455;\n",
              "    fill: #D2E3FC;\n",
              "  }\n",
              "\n",
              "  [theme=dark] .colab-df-quickchart:hover {\n",
              "    background-color: #434B5C;\n",
              "    box-shadow: 0px 1px 3px 1px rgba(0, 0, 0, 0.15);\n",
              "    filter: drop-shadow(0px 1px 2px rgba(0, 0, 0, 0.3));\n",
              "    fill: #FFFFFF;\n",
              "  }\n",
              "</style>\n",
              "\n",
              "    <script>\n",
              "      async function quickchart(key) {\n",
              "        const containerElement = document.querySelector('#' + key);\n",
              "        const charts = await google.colab.kernel.invokeFunction(\n",
              "            'suggestCharts', [key], {});\n",
              "      }\n",
              "    </script>\n",
              "\n",
              "      <script>\n",
              "\n",
              "function displayQuickchartButton(domScope) {\n",
              "  let quickchartButtonEl =\n",
              "    domScope.querySelector('#df-55f0454b-9e93-4381-87d8-1dcad6d54395 button.colab-df-quickchart');\n",
              "  quickchartButtonEl.style.display =\n",
              "    google.colab.kernel.accessAllowed ? 'block' : 'none';\n",
              "}\n",
              "\n",
              "        displayQuickchartButton(document);\n",
              "      </script>\n",
              "      <style>\n",
              "    .colab-df-container {\n",
              "      display:flex;\n",
              "      flex-wrap:wrap;\n",
              "      gap: 12px;\n",
              "    }\n",
              "\n",
              "    .colab-df-convert {\n",
              "      background-color: #E8F0FE;\n",
              "      border: none;\n",
              "      border-radius: 50%;\n",
              "      cursor: pointer;\n",
              "      display: none;\n",
              "      fill: #1967D2;\n",
              "      height: 32px;\n",
              "      padding: 0 0 0 0;\n",
              "      width: 32px;\n",
              "    }\n",
              "\n",
              "    .colab-df-convert:hover {\n",
              "      background-color: #E2EBFA;\n",
              "      box-shadow: 0px 1px 2px rgba(60, 64, 67, 0.3), 0px 1px 3px 1px rgba(60, 64, 67, 0.15);\n",
              "      fill: #174EA6;\n",
              "    }\n",
              "\n",
              "    [theme=dark] .colab-df-convert {\n",
              "      background-color: #3B4455;\n",
              "      fill: #D2E3FC;\n",
              "    }\n",
              "\n",
              "    [theme=dark] .colab-df-convert:hover {\n",
              "      background-color: #434B5C;\n",
              "      box-shadow: 0px 1px 3px 1px rgba(0, 0, 0, 0.15);\n",
              "      filter: drop-shadow(0px 1px 2px rgba(0, 0, 0, 0.3));\n",
              "      fill: #FFFFFF;\n",
              "    }\n",
              "  </style>\n",
              "\n",
              "      <script>\n",
              "        const buttonEl =\n",
              "          document.querySelector('#df-a706a5d8-818f-4d8e-898e-1f6688ea828f button.colab-df-convert');\n",
              "        buttonEl.style.display =\n",
              "          google.colab.kernel.accessAllowed ? 'block' : 'none';\n",
              "\n",
              "        async function convertToInteractive(key) {\n",
              "          const element = document.querySelector('#df-a706a5d8-818f-4d8e-898e-1f6688ea828f');\n",
              "          const dataTable =\n",
              "            await google.colab.kernel.invokeFunction('convertToInteractive',\n",
              "                                                     [key], {});\n",
              "          if (!dataTable) return;\n",
              "\n",
              "          const docLinkHtml = 'Like what you see? Visit the ' +\n",
              "            '<a target=\"_blank\" href=https://colab.research.google.com/notebooks/data_table.ipynb>data table notebook</a>'\n",
              "            + ' to learn more about interactive tables.';\n",
              "          element.innerHTML = '';\n",
              "          dataTable['output_type'] = 'display_data';\n",
              "          await google.colab.output.renderOutput(dataTable, element);\n",
              "          const docLink = document.createElement('div');\n",
              "          docLink.innerHTML = docLinkHtml;\n",
              "          element.appendChild(docLink);\n",
              "        }\n",
              "      </script>\n",
              "    </div>\n",
              "  </div>\n"
            ]
          },
          "metadata": {},
          "execution_count": 18
        }
      ]
    },
    {
      "cell_type": "code",
      "source": [
        "x = df_features['Movie_Genre']+' '+df_features['Movie_Keywords']+' '+df_features['Movie_Cast']+' '+df_features['Movie_Director']"
      ],
      "metadata": {
        "id": "iGRH7Lz1keCv"
      },
      "execution_count": 19,
      "outputs": []
    },
    {
      "cell_type": "code",
      "source": [
        "x"
      ],
      "metadata": {
        "colab": {
          "base_uri": "https://localhost:8080/"
        },
        "id": "WowYVRW0lKUn",
        "outputId": "e4a537f2-d348-4ed4-b0be-d4d1bfb67c8a"
      },
      "execution_count": 20,
      "outputs": [
        {
          "output_type": "execute_result",
          "data": {
            "text/plain": [
              "0       Crime Comedy hotel new year's eve witch bet ho...\n",
              "1       Adventure Action Science Fiction android galax...\n",
              "2       Animation Family father son relationship harbo...\n",
              "3       Comedy Drama Romance vietnam veteran hippie me...\n",
              "4       Drama male nudity female nudity adultery midli...\n",
              "                              ...                        \n",
              "4755    Horror  Lisa Hart Carroll Michael Des Barres P...\n",
              "4756    Comedy Family Drama  Roni Akurati Brighton Sha...\n",
              "4757    Thriller Drama christian film sex trafficking ...\n",
              "4758                                            Family   \n",
              "4759    Documentary music actors legendary perfomer cl...\n",
              "Length: 4760, dtype: object"
            ]
          },
          "metadata": {},
          "execution_count": 20
        }
      ]
    },
    {
      "cell_type": "code",
      "source": [
        "x.shape"
      ],
      "metadata": {
        "colab": {
          "base_uri": "https://localhost:8080/"
        },
        "id": "rcpWorp4lNx4",
        "outputId": "6f28e325-7181-4795-8f0d-aaae6680fd5d"
      },
      "execution_count": 21,
      "outputs": [
        {
          "output_type": "execute_result",
          "data": {
            "text/plain": [
              "(4760,)"
            ]
          },
          "metadata": {},
          "execution_count": 21
        }
      ]
    },
    {
      "cell_type": "markdown",
      "source": [
        "# **Get Feature Text Conversion to Tokens**"
      ],
      "metadata": {
        "id": "dvJeXss5lVn5"
      }
    },
    {
      "cell_type": "code",
      "source": [
        "from sklearn.feature_extraction.text import TfidfVectorizer"
      ],
      "metadata": {
        "id": "3WLgrldZlRI3"
      },
      "execution_count": 22,
      "outputs": []
    },
    {
      "cell_type": "code",
      "source": [
        "tfidf = TfidfVectorizer()"
      ],
      "metadata": {
        "id": "6a1Gcbf7l_1I"
      },
      "execution_count": 23,
      "outputs": []
    },
    {
      "cell_type": "code",
      "source": [
        "x = tfidf.fit_transform(x)"
      ],
      "metadata": {
        "id": "9ebiup6WmjMi"
      },
      "execution_count": 24,
      "outputs": []
    },
    {
      "cell_type": "code",
      "source": [
        "x.shape"
      ],
      "metadata": {
        "colab": {
          "base_uri": "https://localhost:8080/"
        },
        "id": "FHUE2rUbmxET",
        "outputId": "27bd6495-82f2-4c3a-8f3a-c042ace4b4bb"
      },
      "execution_count": 25,
      "outputs": [
        {
          "output_type": "execute_result",
          "data": {
            "text/plain": [
              "(4760, 14793)"
            ]
          },
          "metadata": {},
          "execution_count": 25
        }
      ]
    },
    {
      "cell_type": "code",
      "source": [
        "print(x)"
      ],
      "metadata": {
        "colab": {
          "base_uri": "https://localhost:8080/"
        },
        "id": "luCkm13gm0JG",
        "outputId": "5c63ec82-7157-4a63-8b06-d51dff02265c"
      },
      "execution_count": 26,
      "outputs": [
        {
          "output_type": "stream",
          "name": "stdout",
          "text": [
            "  (0, 451)\t0.2529624700412641\n",
            "  (0, 340)\t0.22186595822522218\n",
            "  (0, 13223)\t0.22696638952087883\n",
            "  (0, 8320)\t0.2203194521672099\n",
            "  (0, 8120)\t0.2570602193236106\n",
            "  (0, 1141)\t0.26170586430336973\n",
            "  (0, 6614)\t0.15176615683691097\n",
            "  (0, 976)\t0.2147410259056221\n",
            "  (0, 551)\t0.20775956041922602\n",
            "  (0, 11289)\t0.22348442016772774\n",
            "  (0, 13173)\t0.1625566507971879\n",
            "  (0, 11251)\t0.2351905105945911\n",
            "  (0, 1314)\t0.2529624700412641\n",
            "  (0, 14440)\t0.19775091189557634\n",
            "  (0, 4290)\t0.23083600252509037\n",
            "  (0, 14601)\t0.24929690840058727\n",
            "  (0, 9425)\t0.14722609815291593\n",
            "  (0, 6090)\t0.3909123816244152\n",
            "  (0, 2769)\t0.07013137521238604\n",
            "  (0, 3039)\t0.10114278592423027\n",
            "  (1, 7975)\t0.19940336059236285\n",
            "  (1, 5067)\t0.15892906368147613\n",
            "  (1, 5448)\t0.2602371658111137\n",
            "  (1, 277)\t0.2026820636852067\n",
            "  (1, 3133)\t0.3090633227850981\n",
            "  :\t:\n",
            "  (4757, 13298)\t0.2821845090658871\n",
            "  (4757, 12534)\t0.27717533951060314\n",
            "  (4757, 948)\t0.21587412251266408\n",
            "  (4757, 11859)\t0.17405676459693128\n",
            "  (4757, 9471)\t0.20996098034574007\n",
            "  (4757, 4580)\t0.14530685297245483\n",
            "  (4757, 2536)\t0.18637995346451375\n",
            "  (4757, 7146)\t0.19975991779495703\n",
            "  (4757, 13132)\t0.08750014737505812\n",
            "  (4757, 3796)\t0.06491995824843613\n",
            "  (4758, 4409)\t1.0\n",
            "  (4759, 9739)\t0.32896090472685546\n",
            "  (4759, 10112)\t0.32896090472685546\n",
            "  (4759, 7620)\t0.32896090472685546\n",
            "  (4759, 90)\t0.32896090472685546\n",
            "  (4759, 12135)\t0.31376077159928567\n",
            "  (4759, 6020)\t0.26505306794184125\n",
            "  (4759, 2614)\t0.31376077159928567\n",
            "  (4759, 9307)\t0.3029761055152296\n",
            "  (4759, 3673)\t0.17739442888528711\n",
            "  (4759, 12125)\t0.19514575983587765\n",
            "  (4759, 4765)\t0.19067167176249683\n",
            "  (4759, 13238)\t0.19020597458169872\n",
            "  (4759, 1219)\t0.2054061077092685\n",
            "  (4759, 9222)\t0.15467152443946866\n"
          ]
        }
      ]
    },
    {
      "cell_type": "markdown",
      "source": [
        "# **Get Similarity Score Using Cosine Similarity**"
      ],
      "metadata": {
        "id": "CI93JWESnB6D"
      }
    },
    {
      "cell_type": "markdown",
      "source": [
        "**cosine_similarity computes the L2_normalized dot product of vectors. Euclidean(L2) normalization projects the vector onto the unit sphere, and there dot product is then the cosine of the angle between the points denoted by the vectors.**"
      ],
      "metadata": {
        "id": "o61kgJyQnJh_"
      }
    },
    {
      "cell_type": "code",
      "source": [
        "from sklearn.metrics.pairwise import cosine_similarity"
      ],
      "metadata": {
        "id": "1LK9HJ1ym5qI"
      },
      "execution_count": 27,
      "outputs": []
    },
    {
      "cell_type": "code",
      "source": [
        "Similarity_Score = cosine_similarity(x)"
      ],
      "metadata": {
        "id": "JViAWNDmprmc"
      },
      "execution_count": 28,
      "outputs": []
    },
    {
      "cell_type": "code",
      "source": [
        "Similarity_Score"
      ],
      "metadata": {
        "colab": {
          "base_uri": "https://localhost:8080/"
        },
        "id": "HyTpc600qHQF",
        "outputId": "b9ef3b04-f539-4517-ac43-a2ecefd7675d"
      },
      "execution_count": 29,
      "outputs": [
        {
          "output_type": "execute_result",
          "data": {
            "text/plain": [
              "array([[1.        , 0.        , 0.        , ..., 0.        , 0.        ,\n",
              "        0.        ],\n",
              "       [0.        , 1.        , 0.        , ..., 0.        , 0.        ,\n",
              "        0.        ],\n",
              "       [0.        , 0.        , 1.        , ..., 0.        , 0.09657916,\n",
              "        0.        ],\n",
              "       ...,\n",
              "       [0.        , 0.        , 0.        , ..., 1.        , 0.        ,\n",
              "        0.        ],\n",
              "       [0.        , 0.        , 0.09657916, ..., 0.        , 1.        ,\n",
              "        0.        ],\n",
              "       [0.        , 0.        , 0.        , ..., 0.        , 0.        ,\n",
              "        1.        ]])"
            ]
          },
          "metadata": {},
          "execution_count": 29
        }
      ]
    },
    {
      "cell_type": "code",
      "source": [
        "Similarity_Score.shape"
      ],
      "metadata": {
        "colab": {
          "base_uri": "https://localhost:8080/"
        },
        "id": "ARweD636qMaR",
        "outputId": "628fd6f9-a5ce-4d05-f9b6-0d000963844a"
      },
      "execution_count": 30,
      "outputs": [
        {
          "output_type": "execute_result",
          "data": {
            "text/plain": [
              "(4760, 4760)"
            ]
          },
          "metadata": {},
          "execution_count": 30
        }
      ]
    },
    {
      "cell_type": "markdown",
      "source": [
        "# **Get Movie Name as input from User and Validate for Closest Spelling**"
      ],
      "metadata": {
        "id": "FR3L6K_UqWls"
      }
    },
    {
      "cell_type": "code",
      "source": [
        "Favourite_Movie_Name = input('Enter your favourite movie name : ')"
      ],
      "metadata": {
        "colab": {
          "base_uri": "https://localhost:8080/"
        },
        "id": "biUL2hGrqR4x",
        "outputId": "fad5df07-36be-47c3-8421-8857155a7efe"
      },
      "execution_count": 31,
      "outputs": [
        {
          "name": "stdout",
          "output_type": "stream",
          "text": [
            "Enter your favourite movie name : avtaar\n"
          ]
        }
      ]
    },
    {
      "cell_type": "code",
      "source": [
        "All_Movies_Title_List = df['Movie_Title'].tolist()"
      ],
      "metadata": {
        "id": "wD3Fj7vAq2xN"
      },
      "execution_count": 32,
      "outputs": []
    },
    {
      "cell_type": "code",
      "source": [
        "import difflib"
      ],
      "metadata": {
        "id": "YjSao99krG0L"
      },
      "execution_count": 33,
      "outputs": []
    },
    {
      "cell_type": "code",
      "source": [
        "Movie_Recommendation = difflib.get_close_matches(Favourite_Movie_Name,All_Movies_Title_List)"
      ],
      "metadata": {
        "id": "Xk7NRYlrrLb2"
      },
      "execution_count": 34,
      "outputs": []
    },
    {
      "cell_type": "code",
      "source": [
        "print(Movie_Recommendation)"
      ],
      "metadata": {
        "colab": {
          "base_uri": "https://localhost:8080/"
        },
        "id": "nxo7A_KKreRt",
        "outputId": "4a591928-49d2-4817-cb89-a92b93df4d92"
      },
      "execution_count": 35,
      "outputs": [
        {
          "output_type": "stream",
          "name": "stdout",
          "text": [
            "['Avatar', 'Gattaca']\n"
          ]
        }
      ]
    },
    {
      "cell_type": "code",
      "source": [
        "Close_Match = Movie_Recommendation[0]"
      ],
      "metadata": {
        "id": "iGAc3Zl4rsDw"
      },
      "execution_count": 36,
      "outputs": []
    },
    {
      "cell_type": "code",
      "source": [
        "print(Close_Match)"
      ],
      "metadata": {
        "colab": {
          "base_uri": "https://localhost:8080/"
        },
        "id": "5WrplGplr0Tu",
        "outputId": "6ff362ff-d96e-49af-d2de-105b403c23ec"
      },
      "execution_count": 37,
      "outputs": [
        {
          "output_type": "stream",
          "name": "stdout",
          "text": [
            "Avatar\n"
          ]
        }
      ]
    },
    {
      "cell_type": "code",
      "source": [
        "Index_of_Close_Match_Movie = df[df.Movie_Title == Close_Match ]['Movie_ID'].values[0]"
      ],
      "metadata": {
        "id": "vr3rEg3Zr7WI"
      },
      "execution_count": 38,
      "outputs": []
    },
    {
      "cell_type": "code",
      "source": [
        "print(Index_of_Close_Match_Movie)"
      ],
      "metadata": {
        "colab": {
          "base_uri": "https://localhost:8080/"
        },
        "id": "_mGyDHCfsbTl",
        "outputId": "b615c909-e549-4f43-bb2a-e13a9984a582"
      },
      "execution_count": 39,
      "outputs": [
        {
          "output_type": "stream",
          "name": "stdout",
          "text": [
            "2692\n"
          ]
        }
      ]
    },
    {
      "cell_type": "code",
      "source": [
        "# getting a List of similar movies\n",
        "Recommendation_Score = list(enumerate(Similarity_Score[Index_of_Close_Match_Movie]))"
      ],
      "metadata": {
        "id": "bQ5ZR-_sshVy"
      },
      "execution_count": 40,
      "outputs": []
    },
    {
      "cell_type": "code",
      "source": [
        "print(Recommendation_Score)"
      ],
      "metadata": {
        "colab": {
          "base_uri": "https://localhost:8080/"
        },
        "id": "-VWpu0-2tojX",
        "outputId": "2d51ceb7-5985-4353-ab98-124a724b2096"
      },
      "execution_count": 41,
      "outputs": [
        {
          "output_type": "stream",
          "name": "stdout",
          "text": [
            "[(0, 0.00951194486747085), (1, 0.0), (2, 0.0), (3, 0.0034205618014125872), (4, 0.0033087946527756654), (5, 0.0126207155412974), (6, 0.006581358190743837), (7, 0.0025914724761808457), (8, 0.003248916958753586), (9, 0.0), (10, 0.009540767661354446), (11, 0.0033273906459246115), (12, 0.00336341773936994), (13, 0.0), (14, 0.0), (15, 0.003539563962782384), (16, 0.007337751248493263), (17, 0.0), (18, 0.019470639197998456), (19, 0.0), (20, 0.0034637191738611773), (21, 0.019926379149077425), (22, 0.0), (23, 0.0033618764431036304), (24, 0.0031633254317803), (25, 0.029404526734989916), (26, 0.003239755981374983), (27, 0.006146453727564919), (28, 0.0), (29, 0.0031870706949259434), (30, 0.006142200484101858), (31, 0.009332936526710515), (32, 0.002846358997591096), (33, 0.003045160942576218), (34, 0.009460578978622486), (35, 0.0), (36, 0.0), (37, 0.0), (38, 0.010304797051504598), (39, 0.006655484656287038), (40, 0.009457336301461072), (41, 0.0035431985668867966), (42, 0.009734343902071053), (43, 0.013141225254392205), (44, 0.00850000075302405), (45, 0.1353426091066774), (46, 0.005622895384776444), (47, 0.01419337235006094), (48, 0.01977562337421779), (49, 0.0), (50, 0.009908565535909086), (51, 0.019354473201843348), (52, 0.01719607904728221), (53, 0.0), (54, 0.0), (55, 0.0), (56, 0.0), (57, 0.0), (58, 0.0), (59, 0.0), (60, 0.0030055173472423435), (61, 0.003183686405924882), (62, 0.05079197417765932), (63, 0.002808148428404152), (64, 0.0), (65, 0.04066753963879694), (66, 0.003238228017323657), (67, 0.04600992891358392), (68, 0.029734330566190906), (69, 0.006562072438802383), (70, 0.016173676251983973), (71, 0.003333911491065854), (72, 0.01443478625123024), (73, 0.0), (74, 0.0035530654525082225), (75, 0.0), (76, 0.005493207105776911), (77, 0.00573357893724606), (78, 0.005153512662154917), (79, 0.00340159362537288), (80, 0.005697241583297226), (81, 0.009297337411677912), (82, 0.0030001924196449946), (83, 0.015349410569920296), (84, 0.08370653233617537), (85, 0.012356827020356693), (86, 0.00993571927243923), (87, 0.02069704342729752), (88, 0.013522447458291554), (89, 0.054163444147426944), (90, 0.00556786203044303), (91, 0.0), (92, 0.0029975698926520775), (93, 0.005605209350149524), (94, 0.005454609652250435), (95, 0.006260021097624452), (96, 0.012780836254424185), (97, 0.003048573689860883), (98, 0.003669122395686671), (99, 0.013520721187628688), (100, 0.0), (101, 0.0), (102, 0.006411804884701731), (103, 0.0026619561901141554), (104, 0.003440384381127364), (105, 0.012877139892641084), (106, 0.011757996580138768), (107, 0.010319752366681865), (108, 0.011207190420157423), (109, 0.02155874236059803), (110, 0.10963491961337665), (111, 0.013098663906991825), (112, 0.017972262506382126), (113, 0.0030347277411999895), (114, 0.0034209053451548332), (115, 0.003373334570935171), (116, 0.008416017370151335), (117, 0.0), (118, 0.006586235537565638), (119, 0.0031897457647782437), (120, 0.011859569690324864), (121, 0.0036575207882538242), (122, 0.009577916245105242), (123, 0.024101129947006212), (124, 0.020662138732898613), (125, 0.006345627752278577), (126, 0.013166643029339115), (127, 0.0031533465162538275), (128, 0.006482589128240074), (129, 0.0030611089450740393), (130, 0.0), (131, 0.0), (132, 0.003211054407127324), (133, 0.0), (134, 0.0), (135, 0.005786503116074804), (136, 0.002961814402702492), (137, 0.016909487581281676), (138, 0.042165172870471945), (139, 0.00954746696063899), (140, 0.002831191877804463), (141, 0.0), (142, 0.013622900942093723), (143, 0.009738295357318912), (144, 0.015421743454249286), (145, 0.016991718560364515), (146, 0.0), (147, 0.01761340796737599), (148, 0.016394504952954685), (149, 0.01442919267492662), (150, 0.0), (151, 0.0), (152, 0.005921532348221073), (153, 0.0), (154, 0.003496538669896561), (155, 0.030665578655409514), (156, 0.002949725700268569), (157, 0.002879828464524059), (158, 0.0031693504647267415), (159, 0.002751340844501689), (160, 0.005798115316417931), (161, 0.04795440865938095), (162, 0.0105565169270161), (163, 0.0), (164, 0.003239286795973021), (165, 0.0028293421480758566), (166, 0.0193265882509384), (167, 0.038452820111570925), (168, 0.0), (169, 0.003229293810490993), (170, 0.013861140437113851), (171, 0.0), (172, 0.052316772703767334), (173, 0.013002104662914574), (174, 0.028514144450846317), (175, 0.0032487219225465014), (176, 0.032394930350898694), (177, 0.0), (178, 0.0034360919960180016), (179, 0.04094809603095818), (180, 0.009821745856296495), (181, 0.018640801120874812), (182, 0.0034474831912274843), (183, 0.0032157442139411027), (184, 0.003342093401991362), (185, 0.046853655032496555), (186, 0.0), (187, 0.00556560728887751), (188, 0.0), (189, 0.005769219174507551), (190, 0.015773658934927257), (191, 0.00550820007354853), (192, 0.003467159961573756), (193, 0.003871314341760502), (194, 0.0028023702507105957), (195, 0.0029373855977430775), (196, 0.0032014814054823347), (197, 0.00284781454059531), (198, 0.00352442890238216), (199, 0.017103126849855457), (200, 0.008565275655543082), (201, 0.016186748650786793), (202, 0.002888821503138826), (203, 0.003546262128071007), (204, 0.0036626679138736995), (205, 0.0), (206, 0.013180331846087323), (207, 0.01728090542000542), (208, 0.00929099645879569), (209, 0.013086950955017483), (210, 0.04643415871527661), (211, 0.00325997864334044), (212, 0.003443626670087365), (213, 0.04303185030614169), (214, 0.0), (215, 0.003579446156339547), (216, 0.013538944237656753), (217, 0.01007391315622519), (218, 0.003572616913915905), (219, 0.0), (220, 0.005999057679746017), (221, 0.003253942435338073), (222, 0.009946813646465307), (223, 0.0), (224, 0.00932800220242103), (225, 0.0), (226, 0.003412857649831126), (227, 0.0031438871553619184), (228, 0.0034168470453849282), (229, 0.0030898041338285366), (230, 0.0), (231, 0.0), (232, 0.0), (233, 0.0063897001725964605), (234, 0.0056257628897006355), (235, 0.003761987514105382), (236, 0.01921721999631451), (237, 0.0), (238, 0.00973120891449111), (239, 0.006172401208151814), (240, 0.03620075127308048), (241, 0.03492279156726387), (242, 0.002953402998769561), (243, 0.007756489449085862), (244, 0.01487067921554524), (245, 0.0), (246, 0.0038364566611930975), (247, 0.003491075245963276), (248, 0.0), (249, 0.003672289120977642), (250, 0.03753003350354256), (251, 0.011671752822384949), (252, 0.0026534589859768705), (253, 0.003419684752887494), (254, 0.07415254419657563), (255, 0.010076283623722789), (256, 0.010838189257712808), (257, 0.033783931480771), (258, 0.0), (259, 0.0), (260, 0.005346082290116895), (261, 0.005795025333180668), (262, 0.0032938374721000322), (263, 0.0), (264, 0.0), (265, 0.0), (266, 0.009450489016126011), (267, 0.0029670405367445557), (268, 0.0030151931946349377), (269, 0.0032221994170765203), (270, 0.013204041534308915), (271, 0.008158008571605604), (272, 0.0), (273, 0.005571996469923334), (274, 0.013817044423015713), (275, 0.0), (276, 0.018208006642681178), (277, 0.06028249192992757), (278, 0.0036960488222327493), (279, 0.0035115574208969946), (280, 0.012232396377558269), (281, 0.013026165532562785), (282, 0.04642645732503345), (283, 0.0035936968683556022), (284, 0.039049357704320664), (285, 0.01235315172158014), (286, 0.0033588550136330387), (287, 0.012565059435916907), (288, 0.005661134983185246), (289, 0.0048181579661985), (290, 0.005316332309167404), (291, 0.015108607122338632), (292, 0.0031478023203725413), (293, 0.002544260471172475), (294, 0.005473890277351363), (295, 0.005620894757145294), (296, 0.007008301347015772), (297, 0.0), (298, 0.0), (299, 0.0), (300, 0.0), (301, 0.0), (302, 0.0), (303, 0.006203683835259767), (304, 0.016675283913408275), (305, 0.0062556902918075126), (306, 0.005946680644655514), (307, 0.0035292068500008228), (308, 0.0033804651132536647), (309, 0.002966528296298241), (310, 0.006071797810700211), (311, 0.008898278518021179), (312, 0.0), (313, 0.006198500607771269), (314, 0.0052545327243324474), (315, 0.006248150871245177), (316, 0.005375332920518835), (317, 0.002965085902892881), (318, 0.0034751880354863423), (319, 0.0), (320, 0.006701236408782853), (321, 0.005694109482437364), (322, 0.005989889866745799), (323, 0.00578241517190063), (324, 0.0032722733501800395), (325, 0.003148524267928325), (326, 0.003690196265681048), (327, 0.006008490878514237), (328, 0.04150176606390927), (329, 0.00883562666335217), (330, 0.0032070357514010646), (331, 0.0), (332, 0.0061964750849294375), (333, 0.014239887349211841), (334, 0.01603248968546593), (335, 0.0), (336, 0.0), (337, 0.0), (338, 0.0), (339, 0.0), (340, 0.0), (341, 0.006306979691429715), (342, 0.014259978665846221), (343, 0.0031976681483207817), (344, 0.0), (345, 0.010123871542347672), (346, 0.003301912510743418), (347, 0.006090053255546891), (348, 0.0033398729329879384), (349, 0.00346838867007204), (350, 0.009932612427557613), (351, 0.0033976914818038524), (352, 0.0), (353, 0.0034764691682901087), (354, 0.00612601113704836), (355, 0.0034459541350382473), (356, 0.00952247077576207), (357, 0.002993168077494548), (358, 0.0032505594377135335), (359, 0.002991577114429326), (360, 0.06247577502502885), (361, 0.0), (362, 0.0), (363, 0.0), (364, 0.003108595349831074), (365, 0.0), (366, 0.0), (367, 0.01013852078939156), (368, 0.010483990825441273), (369, 0.00933806077443381), (370, 0.019269282554450838), (371, 0.010353211331198237), (372, 0.0030706434276757855), (373, 0.0033978460885519665), (374, 0.003397167441708053), (375, 0.00607377705772677), (376, 0.0), (377, 0.0033008215229878546), (378, 0.003210980624049882), (379, 0.0), (380, 0.0065411933368417835), (381, 0.04230098751084006), (382, 0.0), (383, 0.027436553782755876), (384, 0.06423562980304773), (385, 0.010136207274078424), (386, 0.0), (387, 0.039751329139631426), (388, 0.003566947762638092), (389, 0.00613772937952944), (390, 0.0), (391, 0.0), (392, 0.0), (393, 0.0), (394, 0.0), (395, 0.00350088342561994), (396, 0.012111438037375676), (397, 0.00576614396664765), (398, 0.028458882009844828), (399, 0.00337487012371799), (400, 0.003182316002360182), (401, 0.0), (402, 0.0036446730848403988), (403, 0.0028547959744487823), (404, 0.0), (405, 0.0), (406, 0.008633973611708765), (407, 0.0032778362580279576), (408, 0.05510707714750012), (409, 0.0), (410, 0.0031632271515162694), (411, 0.0), (412, 0.003171284483012307), (413, 0.0), (414, 0.0), (415, 0.0), (416, 0.00293915765301593), (417, 0.013464467380271477), (418, 0.016985164257037267), (419, 0.00338317934871599), (420, 0.0063465733539905134), (421, 0.040138388108027355), (422, 0.0095937213782974), (423, 0.0), (424, 0.07470553739058952), (425, 0.006865893892003329), (426, 0.006547551175585042), (427, 0.0), (428, 0.029162968971078028), (429, 0.01863929341249651), (430, 0.03678349165227504), (431, 0.003562352503665187), (432, 0.003637993101186768), (433, 0.009235959384348158), (434, 0.0037699817025237605), (435, 0.013977636751633136), (436, 0.010851301705238963), (437, 0.0027950921025431804), (438, 0.005399554327569195), (439, 0.0), (440, 0.0), (441, 0.0029612333890124028), (442, 0.00818287501007009), (443, 0.01090844047307781), (444, 0.0035823371678163304), (445, 0.0028285755676826924), (446, 0.003208958963666686), (447, 0.020887091935049538), (448, 0.0037928909529977633), (449, 0.0030630770226204545), (450, 0.020067837366404783), (451, 0.005784940517169735), (452, 0.002736958780658924), (453, 0.0023751106941606905), (454, 0.0), (455, 0.08790699149479661), (456, 0.0037959143891014182), (457, 0.0033631423649667846), (458, 0.022423014197561333), (459, 0.033055171249242524), (460, 0.00645635938188911), (461, 0.010088845267801525), (462, 0.03842602648192277), (463, 0.01833072647760047), (464, 0.0031491728868730355), (465, 0.00307337732172412), (466, 0.003320632744009088), (467, 0.005852544067423212), (468, 0.005799828562743659), (469, 0.005463627148335151), (470, 0.009631260989345981), (471, 0.0030637906263445724), (472, 0.003321831301481475), (473, 0.002712424663960656), (474, 0.00959590559448241), (475, 0.0027740168521017705), (476, 0.0032917778038268185), (477, 0.0), (478, 0.0034186593470357917), (479, 0.06407186071357585), (480, 0.0029492048478140707), (481, 0.022193928329588563), (482, 0.008868598504180735), (483, 0.013161126714934374), (484, 0.0), (485, 0.014167550020843146), (486, 0.0), (487, 0.0028930111909523724), (488, 0.0029051946965948515), (489, 0.0036052133710524825), (490, 0.003698388486675971), (491, 0.0), (492, 0.0), (493, 0.00975734515024896), (494, 0.010085374869603468), (495, 0.0030606077732437745), (496, 0.003138921826708177), (497, 0.00879245073953219), (498, 0.0), (499, 0.0037938835459880717), (500, 0.018110771414278685), (501, 0.01681012098569077), (502, 0.0201275314594732), (503, 0.008737112912977662), (504, 0.003232694094603203), (505, 0.0028153558981617653), (506, 0.0), (507, 0.002990328796116995), (508, 0.003654953021296623), (509, 0.009760521653948574), (510, 0.003072012635108143), (511, 0.005667207642982925), (512, 0.007247772716806648), (513, 0.007059865545178594), (514, 0.006290492885805259), (515, 0.01144737259142594), (516, 0.0), (517, 0.0), (518, 0.0035388082045674668), (519, 0.0382851560013547), (520, 0.0), (521, 0.0), (522, 0.03883506949598106), (523, 0.006794125945639745), (524, 0.003125862103580055), (525, 0.0), (526, 0.003788332164867836), (527, 0.0028117389215792463), (528, 0.0), (529, 0.0), (530, 0.017540257651771727), (531, 0.0), (532, 0.01631040967184382), (533, 0.019201363004701197), (534, 0.018412076772323316), (535, 0.0), (536, 0.0), (537, 0.006455414451930203), (538, 0.0), (539, 0.008952642151830443), (540, 0.006200388111549067), (541, 0.003584166893492996), (542, 0.01851242946855311), (543, 0.019610672070685453), (544, 0.013690230917560673), (545, 0.0), (546, 0.0), (547, 0.036210494069628535), (548, 0.0), (549, 0.0), (550, 0.006768667380740828), (551, 0.003370753648756825), (552, 0.0), (553, 0.0), (554, 0.0), (555, 0.0), (556, 0.0), (557, 0.0), (558, 0.012145007034251478), (559, 0.005471814509348609), (560, 0.01731779337518894), (561, 0.0), (562, 0.008684260541745942), (563, 0.010823892390267079), (564, 0.003158311245472943), (565, 0.0), (566, 0.011460517151165922), (567, 0.0), (568, 0.0), (569, 0.0), (570, 0.0), (571, 0.0089085136574572), (572, 0.0), (573, 0.0), (574, 0.0), (575, 0.0), (576, 0.0033998588509570075), (577, 0.0), (578, 0.003213769038801628), (579, 0.003338839136274404), (580, 0.009977321726688679), (581, 0.010753488789244871), (582, 0.0), (583, 0.0), (584, 0.020136696083247654), (585, 0.0), (586, 0.0), (587, 0.00360163736447157), (588, 0.0033127284658765123), (589, 0.003487701284896044), (590, 0.07022634341843544), (591, 0.0), (592, 0.0), (593, 0.03200317183567743), (594, 0.002936693404821234), (595, 0.005999431354561573), (596, 0.003384446727477245), (597, 0.003226359766192276), (598, 0.0029965509157252063), (599, 0.0), (600, 0.0), (601, 0.0), (602, 0.0), (603, 0.0), (604, 0.016812211012763485), (605, 0.003604430418801954), (606, 0.010170021422275247), (607, 0.0030163276918005635), (608, 0.008605092052142436), (609, 0.003093388448811448), (610, 0.0), (611, 0.002641628715969256), (612, 0.0039060139888630573), (613, 0.009064750668306561), (614, 0.0038409933091159833), (615, 0.04655210824370197), (616, 0.0031659888876333867), (617, 0.008500777875798428), (618, 0.02892059607543383), (619, 0.006130332350001085), (620, 0.003169036063331417), (621, 0.01607614831332091), (622, 0.021397841903708227), (623, 0.0037161948816905803), (624, 0.0030725010300180545), (625, 0.005785910889987776), (626, 0.003540086511515827), (627, 0.003930723054297643), (628, 0.10780376064756474), (629, 0.013911735768804433), (630, 0.0), (631, 0.003389846265546386), (632, 0.05021063784248724), (633, 0.006271857446711623), (634, 0.0061116081467132485), (635, 0.006511407722139827), (636, 0.009267258150324708), (637, 0.05908325493998051), (638, 0.0034106186819591222), (639, 0.005623872215992586), (640, 0.005784089908411716), (641, 0.023982836715346137), (642, 0.009335138356409551), (643, 0.02184198622745939), (644, 0.008290730011645157), (645, 0.002683932630516474), (646, 0.0029072760657879795), (647, 0.0028447148074026416), (648, 0.0), (649, 0.0), (650, 0.0), (651, 0.0032108742710086264), (652, 0.018487378254630545), (653, 0.01840849624836232), (654, 0.01604209661345164), (655, 0.003240622233275501), (656, 0.0), (657, 0.00330673192998982), (658, 0.0), (659, 0.003384558586441804), (660, 0.010048089163475693), (661, 0.005624681122443019), (662, 0.0), (663, 0.0), (664, 0.009476808422543682), (665, 0.0), (666, 0.006649340583121886), (667, 0.014587133374366724), (668, 0.01373845756336288), (669, 0.018280915174608448), (670, 0.011984204002819517), (671, 0.0), (672, 0.028389511215563754), (673, 0.057439046696669015), (674, 0.0), (675, 0.020306206729293137), (676, 0.020892069962327744), (677, 0.0), (678, 0.020067829177131388), (679, 0.0), (680, 0.00334790159115957), (681, 0.0), (682, 0.05623255630269887), (683, 0.014309121000641419), (684, 0.012407351690350971), (685, 0.006343028755395335), (686, 0.0), (687, 0.007621675563489795), (688, 0.010114921269171951), (689, 0.015482784519153706), (690, 0.007664391191841963), (691, 0.0029297134763069505), (692, 0.014114544345243535), (693, 0.03361747077519916), (694, 0.04872178600069613), (695, 0.014560615030346245), (696, 0.009939463221742195), (697, 0.00320775884443623), (698, 0.0033392981715606763), (699, 0.0), (700, 0.0), (701, 0.02046506374593184), (702, 0.0), (703, 0.0031388935276989846), (704, 0.0), (705, 0.0033760200060159863), (706, 0.0028774000401726486), (707, 0.0027796035957058296), (708, 0.0), (709, 0.0), (710, 0.035756903492164885), (711, 0.0), (712, 0.002800175885074488), (713, 0.0), (714, 0.0), (715, 0.003447975875948504), (716, 0.010426590941337858), (717, 0.0032521210244016103), (718, 0.0), (719, 0.009237691332480714), (720, 0.0), (721, 0.039403208552830485), (722, 0.00284016637177742), (723, 0.0059138773812478585), (724, 0.0), (725, 0.0), (726, 0.0), (727, 0.010038369400351226), (728, 0.010493024736303088), (729, 0.010750834127592479), (730, 0.0), (731, 0.0037977591669807907), (732, 0.010064190979789214), (733, 0.008675279734589203), (734, 0.0031080140680007696), (735, 0.004135134504076692), (736, 0.0), (737, 0.003606680350833066), (738, 0.006660411714929253), (739, 0.0036022012080834474), (740, 0.003288322823361472), (741, 0.0), (742, 0.008542591061543262), (743, 0.010141069047308366), (744, 0.009356308497733515), (745, 0.008966399090615414), (746, 0.0), (747, 0.0), (748, 0.0), (749, 0.0035012771386877216), (750, 0.00983630456561624), (751, 0.0), (752, 0.0), (753, 0.01823986572178905), (754, 0.0), (755, 0.0030370000691284597), (756, 0.00583660789675946), (757, 0.013091558911222182), (758, 0.0), (759, 0.003103020227609976), (760, 0.01709175096324221), (761, 0.06033192696719588), (762, 0.005927088794294973), (763, 0.0), (764, 0.0), (765, 0.006135414383249431), (766, 0.02775544181182069), (767, 0.003203019636806224), (768, 0.0), (769, 0.009375606140133422), (770, 0.0), (771, 0.0), (772, 0.0), (773, 0.0), (774, 0.0510460303277776), (775, 0.0054618555622657355), (776, 0.0), (777, 0.0036006378640080485), (778, 0.0), (779, 0.005350441936535232), (780, 0.0), (781, 0.0), (782, 0.0034356088654019057), (783, 0.003149004017590791), (784, 0.0), (785, 0.0), (786, 0.0), (787, 0.03034594346139989), (788, 0.03472149689021592), (789, 0.0), (790, 0.014697474021546267), (791, 0.003989472740326068), (792, 0.013510979626237676), (793, 0.006910131489707187), (794, 0.0032027612116385623), (795, 0.011181513955366746), (796, 0.0029557723738111307), (797, 0.0), (798, 0.003266840433669112), (799, 0.017846940594028776), (800, 0.008974595076247658), (801, 0.014729406653158531), (802, 0.006750628811303801), (803, 0.006033938343535904), (804, 0.00953809985915928), (805, 0.003298997520641367), (806, 0.014547307640897997), (807, 0.0), (808, 0.010243424176811263), (809, 0.006023025593679234), (810, 0.006398419445843808), (811, 0.006079587513451188), (812, 0.032222803926056164), (813, 0.0037678910997036574), (814, 0.0), (815, 0.003153930015817165), (816, 0.010318231566140269), (817, 0.0031888193858063303), (818, 0.003194200411845507), (819, 0.0), (820, 0.0), (821, 0.0), (822, 0.0), (823, 0.037243980734570595), (824, 0.0028612140111305643), (825, 0.01706680442161756), (826, 0.003220157992181232), (827, 0.01422579662022461), (828, 0.011323777973116017), (829, 0.015906287136917368), (830, 0.04935561092682171), (831, 0.00753186115958674), (832, 0.009886416873154245), (833, 0.009933212145714035), (834, 0.0), (835, 0.0), (836, 0.039329790581955654), (837, 0.0), (838, 0.002852714308846203), (839, 0.0), (840, 0.0), (841, 0.0), (842, 0.018015308334565567), (843, 0.003128540642131129), (844, 0.00703433758815933), (845, 0.011022829852607538), (846, 0.0), (847, 0.0037535733432167333), (848, 0.0033847240486547963), (849, 0.006300261899872025), (850, 0.0036022016847376812), (851, 0.011865338583080259), (852, 0.03436380442427582), (853, 0.01927427818844689), (854, 0.0031542611153981496), (855, 0.006564250518500065), (856, 0.003116158242813314), (857, 0.0035445609917560857), (858, 0.034306773994933315), (859, 0.0), (860, 0.019566770530712246), (861, 0.008175527380322239), (862, 0.008072874704700708), (863, 0.008217993613952937), (864, 0.01253276158030147), (865, 0.0035975162917375506), (866, 0.01711095002694516), (867, 0.0034030518045682456), (868, 0.009607350111135244), (869, 0.010103176265961331), (870, 0.01899868883613664), (871, 0.003265629197400158), (872, 0.0034583006086077402), (873, 0.042873704039710914), (874, 0.043617526162888755), (875, 0.018161367458747305), (876, 0.01947542495657598), (877, 0.005848707375406691), (878, 0.02045282492101825), (879, 0.02074409761775669), (880, 0.009922590149477623), (881, 0.0), (882, 0.0), (883, 0.003261787840687915), (884, 0.0033184773030604823), (885, 0.03409570403047433), (886, 0.003074587244569498), (887, 0.0035772357372689575), (888, 0.02079577588039707), (889, 0.0038423597906233945), (890, 0.0033252569460654356), (891, 0.0067467130377722945), (892, 0.0), (893, 0.005561492775534576), (894, 0.01257702186128484), (895, 0.0032909563203167218), (896, 0.02073752435522344), (897, 0.003325079424705414), (898, 0.00536700143334493), (899, 0.0032479960980014446), (900, 0.008562123119477707), (901, 0.0032444474935295247), (902, 0.005952957375074853), (903, 0.03240867773350669), (904, 0.056292281195899914), (905, 0.018122751020168946), (906, 0.0), (907, 0.0029893973468973364), (908, 0.00944380677334461), (909, 0.0), (910, 0.010310195898194204), (911, 0.010774698827533976), (912, 0.0), (913, 0.0), (914, 0.0), (915, 0.016515774076170248), (916, 0.015753783209693555), (917, 0.025928022214117896), (918, 0.016179401762327583), (919, 0.006181847137769016), (920, 0.0), (921, 0.00303885024018622), (922, 0.0033667131234216075), (923, 0.009274064189630359), (924, 0.002833037272465255), (925, 0.003482304697042468), (926, 0.0), (927, 0.005902895984992073), (928, 0.019607125855994098), (929, 0.0022899914894712586), (930, 0.010525528536802681), (931, 0.01534056075773925), (932, 0.006238349696698339), (933, 0.003092687516907781), (934, 0.003441664907949688), (935, 0.04315719377963537), (936, 0.009370288708043177), (937, 0.019834822809491545), (938, 0.0), (939, 0.015129356330549768), (940, 0.003023322131841942), (941, 0.0028363934617086947), (942, 0.016264845348678995), (943, 0.0), (944, 0.003079412134714307), (945, 0.0), (946, 0.0), (947, 0.022998660357879827), (948, 0.012219931701804668), (949, 0.003750577707182976), (950, 0.0), (951, 0.0027062485958957885), (952, 0.011858621125043125), (953, 0.008788528393465354), (954, 0.0), (955, 0.0), (956, 0.0), (957, 0.0035488958578565794), (958, 0.0), (959, 0.003552393793799652), (960, 0.0), (961, 0.0), (962, 0.003445525713053644), (963, 0.008267994747556557), (964, 0.0), (965, 0.0), (966, 0.003087378020791258), (967, 0.01210576406438562), (968, 0.008110242037311206), (969, 0.0036484372948288294), (970, 0.005298358635705097), (971, 0.0), (972, 0.0), (973, 0.0034228464365036303), (974, 0.005579533540428107), (975, 0.0031350561894811636), (976, 0.01581475059171974), (977, 0.0), (978, 0.0), (979, 0.005188037814719275), (980, 0.009472123056061385), (981, 0.009851605187314061), (982, 0.0), (983, 0.0), (984, 0.00334736813767), (985, 0.003863034156530117), (986, 0.017004045638357924), (987, 0.003463550836170491), (988, 0.02004456311931417), (989, 0.018380611720272933), (990, 0.0), (991, 0.01017713220806636), (992, 0.006409769817006675), (993, 0.003396345817260634), (994, 0.013210396690045556), (995, 0.0), (996, 0.007762804817746151), (997, 0.005833190681626521), (998, 0.003381757905965319), (999, 0.003414223172312805), (1000, 0.016489849343137995), (1001, 0.009438413672428923), (1002, 0.0033053618392864773), (1003, 0.006006521465123374), (1004, 0.003092472964461606), (1005, 0.01019085223090203), (1006, 0.0032629449483638122), (1007, 0.003601289326497392), (1008, 0.0), (1009, 0.007596975466392463), (1010, 0.0), (1011, 0.0), (1012, 0.005806337729691656), (1013, 0.0), (1014, 0.0), (1015, 0.02142184174423816), (1016, 0.0), (1017, 0.019448156100601077), (1018, 0.01516849892999209), (1019, 0.005699647407184582), (1020, 0.0028807264788597354), (1021, 0.06417787742631666), (1022, 0.0), (1023, 0.004018357634996576), (1024, 0.048998142779481654), (1025, 0.0), (1026, 0.003373268614292162), (1027, 0.003395245183712123), (1028, 0.0), (1029, 0.0), (1030, 0.04203188439685986), (1031, 0.0), (1032, 0.003017957156802237), (1033, 0.003250112356996381), (1034, 0.0031273579792393483), (1035, 0.017370790340539302), (1036, 0.0033848965935880703), (1037, 0.0025420451456567503), (1038, 0.0), (1039, 0.0), (1040, 0.00233685434032367), (1041, 0.00892175234823602), (1042, 0.0026418955851185187), (1043, 0.003720837039350858), (1044, 0.009144397061537517), (1045, 0.0), (1046, 0.0), (1047, 0.017479011745245788), (1048, 0.003407393265572785), (1049, 0.0035474602503054392), (1050, 0.010312946111980083), (1051, 0.0), (1052, 0.0033415733163480775), (1053, 0.013561278658166271), (1054, 0.015857577512447877), (1055, 0.0), (1056, 0.0), (1057, 0.030842442326669512), (1058, 0.01794659624713628), (1059, 0.03778066026801258), (1060, 0.034240119697456425), (1061, 0.016676056702205608), (1062, 0.0), (1063, 0.043806331589188965), (1064, 0.0206353962215522), (1065, 0.007773994595578601), (1066, 0.0), (1067, 0.0), (1068, 0.0143033843290356), (1069, 0.0), (1070, 0.09872556168218248), (1071, 0.011045322381046774), (1072, 0.0029894172674767984), (1073, 0.0), (1074, 0.015840709939791184), (1075, 0.003252571028352186), (1076, 0.009472165522301403), (1077, 0.0030091871367010203), (1078, 0.010312790694498596), (1079, 0.003120428648521982), (1080, 0.003238148376839686), (1081, 0.0), (1082, 0.006002189694476724), (1083, 0.008743647649048591), (1084, 0.0033135051713591482), (1085, 0.04826861230927027), (1086, 0.0), (1087, 0.0034495500778996373), (1088, 0.0038780191693090615), (1089, 0.0), (1090, 0.0), (1091, 0.0), (1092, 0.013860625633544617), (1093, 0.0), (1094, 0.0), (1095, 0.02870189937655845), (1096, 0.003329129296603668), (1097, 0.0), (1098, 0.027234830953014207), (1099, 0.006413028075531706), (1100, 0.0035581873898862357), (1101, 0.0), (1102, 0.06925806272899022), (1103, 0.0), (1104, 0.01592615758641742), (1105, 0.0), (1106, 0.0), (1107, 0.018530313965697515), (1108, 0.0), (1109, 0.0037012530820887245), (1110, 0.0037305416512453523), (1111, 0.0), (1112, 0.003563046658529888), (1113, 0.0), (1114, 0.0031684595603058514), (1115, 0.022358047185861405), (1116, 0.009398788810655012), (1117, 0.0032291068689050133), (1118, 0.07514671163495976), (1119, 0.019237022107696407), (1120, 0.005981431620826852), (1121, 0.003742317312520957), (1122, 0.003448987942185579), (1123, 0.00870078935857901), (1124, 0.003418373889809668), (1125, 0.0), (1126, 0.0), (1127, 0.00619279706563887), (1128, 0.009073537145358437), (1129, 0.006057787953169035), (1130, 0.0), (1131, 0.0034185808671409156), (1132, 0.01983510001790848), (1133, 0.0), (1134, 0.04223520663052775), (1135, 0.0), (1136, 0.0030024448757330403), (1137, 0.04195183410204468), (1138, 0.01066505344502297), (1139, 0.0), (1140, 0.01004990856581185), (1141, 0.02001029255685509), (1142, 0.0), (1143, 0.0), (1144, 0.0027520891227759514), (1145, 0.004186371275066937), (1146, 0.033304380441603595), (1147, 0.0), (1148, 0.05997829760140941), (1149, 0.0), (1150, 0.0063420356935053246), (1151, 0.0), (1152, 0.0), (1153, 0.005100771822889244), (1154, 0.006368673040340261), (1155, 0.0), (1156, 0.0), (1157, 0.0), (1158, 0.006137767205305893), (1159, 0.0), (1160, 0.010929798598732353), (1161, 0.0027264559555235618), (1162, 0.01595744919996658), (1163, 0.0031964997546537056), (1164, 0.004757171738826952), (1165, 0.0), (1166, 0.0), (1167, 0.006355695750266564), (1168, 0.004080508798519662), (1169, 0.0038255373690497456), (1170, 0.003443474937391188), (1171, 0.0), (1172, 0.0), (1173, 0.014919140292974514), (1174, 0.00948015187449412), (1175, 0.003587724460688697), (1176, 0.0032902562777538794), (1177, 0.008367368612281316), (1178, 0.0), (1179, 0.00968284264694511), (1180, 0.0), (1181, 0.030955346882669335), (1182, 0.0030508060692083254), (1183, 0.017068324270556684), (1184, 0.02020483759399594), (1185, 0.015577782503159927), (1186, 0.031689197697851466), (1187, 0.0035392586164073687), (1188, 0.00956670204423921), (1189, 0.0), (1190, 0.0), (1191, 0.010459943868153682), (1192, 0.010602618301544), (1193, 0.0), (1194, 0.008036098721910244), (1195, 0.031889417516401834), (1196, 0.0), (1197, 0.0057404667361974325), (1198, 0.0), (1199, 0.0032198910205967404), (1200, 0.0), (1201, 0.0), (1202, 0.007917138612751534), (1203, 0.0032107491947821723), (1204, 0.003502814740423508), (1205, 0.033518904008109134), (1206, 0.003389101604230227), (1207, 0.0058413555006182226), (1208, 0.004064742025485198), (1209, 0.0027809613193645133), (1210, 0.005555672857888731), (1211, 0.005515038328762484), (1212, 0.0), (1213, 0.008309868483300781), (1214, 0.00862797752553274), (1215, 0.008126033784774639), (1216, 0.0034044831279779015), (1217, 0.003062653685573244), (1218, 0.0), (1219, 0.003459257531562007), (1220, 0.00975662812822117), (1221, 0.0), (1222, 0.0), (1223, 0.009383514603570469), (1224, 0.020902185109733795), (1225, 0.009788070038934683), (1226, 0.015337779583372027), (1227, 0.0), (1228, 0.0), (1229, 0.010636167730004377), (1230, 0.015536665246695633), (1231, 0.009448198645554991), (1232, 0.018892057345014392), (1233, 0.0), (1234, 0.013338251091253174), (1235, 0.0), (1236, 0.04798500112086562), (1237, 0.018623510574338604), (1238, 0.0), (1239, 0.0), (1240, 0.0), (1241, 0.027870738955714614), (1242, 0.0), (1243, 0.003761705284115073), (1244, 0.0), (1245, 0.003256555507325301), (1246, 0.0), (1247, 0.0035196085153228894), (1248, 0.01998831014432921), (1249, 0.0), (1250, 0.0), (1251, 0.0037766901957589517), (1252, 0.01956464134278796), (1253, 0.0), (1254, 0.0037172131059751523), (1255, 0.010161391304999847), (1256, 0.0), (1257, 0.044513806689775705), (1258, 0.0), (1259, 0.014053240577310777), (1260, 0.010148207425909167), (1261, 0.036794821880642245), (1262, 0.005883699057329519), (1263, 0.0), (1264, 0.013702972173020867), (1265, 0.0), (1266, 0.005939183173538924), (1267, 0.0), (1268, 0.0), (1269, 0.0), (1270, 0.005896529003216499), (1271, 0.0), (1272, 0.006227954843769251), (1273, 0.0029672696402200864), (1274, 0.0), (1275, 0.020416364018885247), (1276, 0.01267634160560124), (1277, 0.0024877100509592552), (1278, 0.0), (1279, 0.006563084413517431), (1280, 0.006311617914296485), (1281, 0.005913951683563747), (1282, 0.009357737988645674), (1283, 0.03174386695633902), (1284, 0.003738834238037183), (1285, 0.0), (1286, 0.0036117274750387027), (1287, 0.0), (1288, 0.0), (1289, 0.0), (1290, 0.012266356526535346), (1291, 0.0), (1292, 0.016475588277706014), (1293, 0.0), (1294, 0.0033844387077403993), (1295, 0.0), (1296, 0.0), (1297, 0.0), (1298, 0.003338972998008466), (1299, 0.0), (1300, 0.014737925159206145), (1301, 0.0035016166427985595), (1302, 0.006292583191682875), (1303, 0.017611184166218062), (1304, 0.003432020697393262), (1305, 0.003309428927443551), (1306, 0.0032987415368339146), (1307, 0.0), (1308, 0.0031935976978307444), (1309, 0.005433725901848424), (1310, 0.0), (1311, 0.04478143480358805), (1312, 0.0028743829441031134), (1313, 0.003223275662032287), (1314, 0.015760916502574312), (1315, 0.0), (1316, 0.0), (1317, 0.011902748669134948), (1318, 0.003549396275704937), (1319, 0.0033836254248942794), (1320, 0.05511616287967927), (1321, 0.0), (1322, 0.0), (1323, 0.0), (1324, 0.003364849246912982), (1325, 0.021578569176780915), (1326, 0.0), (1327, 0.0), (1328, 0.0), (1329, 0.0), (1330, 0.009611925559862433), (1331, 0.0), (1332, 0.006480465412816423), (1333, 0.0), (1334, 0.013772873936058421), (1335, 0.022033307902743472), (1336, 0.0), (1337, 0.019709909609611727), (1338, 0.01253750942921115), (1339, 0.013586616843522071), (1340, 0.0030106129112662176), (1341, 0.0), (1342, 0.0), (1343, 0.01797925067018016), (1344, 0.010118198016922259), (1345, 0.0), (1346, 0.0), (1347, 0.005821834073023623), (1348, 0.013608497435098834), (1349, 0.003648523986312386), (1350, 0.002940757605160978), (1351, 0.044668954268710995), (1352, 0.002958292778670616), (1353, 0.0), (1354, 0.0), (1355, 0.003338695411610526), (1356, 0.00900673924172878), (1357, 0.003616360132340045), (1358, 0.030943066456539783), (1359, 0.00346539515901298), (1360, 0.017275034527706942), (1361, 0.0), (1362, 0.040439245881851646), (1363, 0.04555426861794812), (1364, 0.0033045178395662207), (1365, 0.0032357658022652003), (1366, 0.00359039930665543), (1367, 0.003084318843110797), (1368, 0.0), (1369, 0.04108977123010989), (1370, 0.0029437553954823627), (1371, 0.012519254749923643), (1372, 0.0031752406209586553), (1373, 0.0), (1374, 0.0), (1375, 0.009610921916723764), (1376, 0.0), (1377, 0.01534463611244129), (1378, 0.0032820766376229424), (1379, 0.0), (1380, 0.006346543592014316), (1381, 0.0066384885733409), (1382, 0.0035145887885123612), (1383, 0.04432357647019924), (1384, 0.00601454432684015), (1385, 0.018953357305380086), (1386, 0.0), (1387, 0.014638480161149617), (1388, 0.008929590085788627), (1389, 0.0), (1390, 0.0), (1391, 0.006394540427079519), (1392, 0.003238198499807062), (1393, 0.010646852819004243), (1394, 0.003203427571229132), (1395, 0.004934364624066632), (1396, 0.006335031783989516), (1397, 0.025019605652443426), (1398, 0.03651024730582246), (1399, 0.0), (1400, 0.009549678005642328), (1401, 0.0), (1402, 0.00344211649541849), (1403, 0.0032249261113638664), (1404, 0.0034943559827354024), (1405, 0.0), (1406, 0.015139983758731993), (1407, 0.006274810376646842), (1408, 0.003144636573061153), (1409, 0.0034486759660376076), (1410, 0.003397208406732996), (1411, 0.0032068139804595185), (1412, 0.01656998075546956), (1413, 0.009406036009154586), (1414, 0.008196400146081473), (1415, 0.0024798331049653293), (1416, 0.003556430904020847), (1417, 0.017848916653537748), (1418, 0.0), (1419, 0.016619055578478335), (1420, 0.006225897093481214), (1421, 0.008895692970455595), (1422, 0.0031902193754870843), (1423, 0.003153615371666503), (1424, 0.0), (1425, 0.0), (1426, 0.006374604001409593), (1427, 0.0026449860318540266), (1428, 0.006088556383291247), (1429, 0.010239851797081269), (1430, 0.03649751074198087), (1431, 0.006185823834547724), (1432, 0.015859569234806976), (1433, 0.00932956641151018), (1434, 0.0027650262302153874), (1435, 0.006576065858882122), (1436, 0.017287497889764497), (1437, 0.0), (1438, 0.01281346692104403), (1439, 0.0033643302568283164), (1440, 0.012863602209397206), (1441, 0.0), (1442, 0.014238744213437975), (1443, 0.0067580456937687255), (1444, 0.0), (1445, 0.0), (1446, 0.0032340220949510583), (1447, 0.0), (1448, 0.008413455362167836), (1449, 0.005768357266509283), (1450, 0.0037301215562107856), (1451, 0.005534069960036108), (1452, 0.006221476424773027), (1453, 0.0), (1454, 0.01105608117127892), (1455, 0.015315877962864502), (1456, 0.003809769152084369), (1457, 0.0), (1458, 0.006578957710132293), (1459, 0.0), (1460, 0.0), (1461, 0.009166992958085618), (1462, 0.008677015786727913), (1463, 0.0032126954908213603), (1464, 0.003119702966106753), (1465, 0.0029737183678217077), (1466, 0.0), (1467, 0.0), (1468, 0.0), (1469, 0.00643838421345987), (1470, 0.0), (1471, 0.01646644591740852), (1472, 0.010289930939918856), (1473, 0.0), (1474, 0.0035371569849855394), (1475, 0.0033338852070156806), (1476, 0.0033597000417156836), (1477, 0.003381642759447548), (1478, 0.020105429212933325), (1479, 0.0037312183919635577), (1480, 0.00622257812305712), (1481, 0.019894317613119092), (1482, 0.0398217969273291), (1483, 0.019651121643348715), (1484, 0.010231535433720835), (1485, 0.0), (1486, 0.0), (1487, 0.0), (1488, 0.010754334023171318), (1489, 0.010944624347880494), (1490, 0.0), (1491, 0.0), (1492, 0.0), (1493, 0.005445560427282229), (1494, 0.003523849194236518), (1495, 0.0), (1496, 0.0), (1497, 0.0034162777151981478), (1498, 0.010372714993682237), (1499, 0.036694326608806074), (1500, 0.0034651225970880766), (1501, 0.0), (1502, 0.006029609542292848), (1503, 0.0035256578501609774), (1504, 0.009556100261862998), (1505, 0.0), (1506, 0.01901415872637044), (1507, 0.01042027543104863), (1508, 0.0), (1509, 0.020305784685390828), (1510, 0.01019431767592857), (1511, 0.0), (1512, 0.0), (1513, 0.011990826766515746), (1514, 0.0029928196896900263), (1515, 0.0), (1516, 0.003382445923793119), (1517, 0.0), (1518, 0.003911476179733672), (1519, 0.008266974535860304), (1520, 0.0), (1521, 0.0), (1522, 0.0), (1523, 0.0), (1524, 0.0), (1525, 0.0), (1526, 0.0), (1527, 0.013319439763278318), (1528, 0.0032046727080752876), (1529, 0.0), (1530, 0.03688927443043723), (1531, 0.006488502132698402), (1532, 0.0), (1533, 0.0038264099851785726), (1534, 0.0), (1535, 0.0), (1536, 0.009649922614050933), (1537, 0.009683270333973709), (1538, 0.0029240404233564616), (1539, 0.0029692416334757598), (1540, 0.0108288159821876), (1541, 0.0), (1542, 0.01727857512939559), (1543, 0.0032885465085735013), (1544, 0.010236595186633172), (1545, 0.0), (1546, 0.005494608273137078), (1547, 0.0035177384280961487), (1548, 0.0), (1549, 0.0), (1550, 0.003365615590270546), (1551, 0.006018942568077552), (1552, 0.0), (1553, 0.0030929535641164886), (1554, 0.00624771434465054), (1555, 0.009679484229300844), (1556, 0.0), (1557, 0.0), (1558, 0.0030014283593060914), (1559, 0.005404171706428343), (1560, 0.03353058069675196), (1561, 0.0), (1562, 0.0061854766136237105), (1563, 0.0), (1564, 0.0), (1565, 0.002805257429942701), (1566, 0.0060134508134868595), (1567, 0.008804838773578712), (1568, 0.005971186570479272), (1569, 0.0), (1570, 0.0031403740709180276), (1571, 0.0031256257770792425), (1572, 0.021843768179735133), (1573, 0.005958866139760493), (1574, 0.0032357826828270995), (1575, 0.006248281901787883), (1576, 0.005890626419746228), (1577, 0.0), (1578, 0.0), (1579, 0.0), (1580, 0.0035734524335385804), (1581, 0.0), (1582, 0.012897989962716315), (1583, 0.0), (1584, 0.0), (1585, 0.009381173934442757), (1586, 0.0), (1587, 0.005870758445345077), (1588, 0.006660115913879874), (1589, 0.0), (1590, 0.006094405663829387), (1591, 0.015874441724075053), (1592, 0.0), (1593, 0.0036439588379947843), (1594, 0.003904691467714731), (1595, 0.01698460914763847), (1596, 0.0), (1597, 0.0034768134816833855), (1598, 0.0031898287012406454), (1599, 0.0), (1600, 0.0), (1601, 0.0), (1602, 0.0), (1603, 0.0), (1604, 0.0), (1605, 0.00293229557421954), (1606, 0.0), (1607, 0.0), (1608, 0.009681481385198207), (1609, 0.0), (1610, 0.0), (1611, 0.0), (1612, 0.003226656494186122), (1613, 0.0), (1614, 0.006437791585868785), (1615, 0.0), (1616, 0.0033586303796196673), (1617, 0.003381292623748891), (1618, 0.0), (1619, 0.003467778281492017), (1620, 0.012206542972384642), (1621, 0.018268885615721403), (1622, 0.005777619351905056), (1623, 0.005418568853650955), (1624, 0.003060814612806833), (1625, 0.002972104447653188), (1626, 0.0), (1627, 0.00797466165686205), (1628, 0.0027431020478977724), (1629, 0.01917215700553145), (1630, 0.0058670531418782475), (1631, 0.005723191497571551), (1632, 0.005967765894523419), (1633, 0.005688819352874415), (1634, 0.03535298841454382), (1635, 0.005532769180107762), (1636, 0.0), (1637, 0.003806172185569624), (1638, 0.0), (1639, 0.0), (1640, 0.0), (1641, 0.00309726328515283), (1642, 0.003144229802977), (1643, 0.00950585360479587), (1644, 0.0), (1645, 0.003236357052022226), (1646, 0.0), (1647, 0.11997741691762638), (1648, 0.00272235580621942), (1649, 0.0), (1650, 0.0035046198212542986), (1651, 0.0), (1652, 0.04630562159341165), (1653, 0.008949001878660604), (1654, 0.0), (1655, 0.00359117151538029), (1656, 0.0034298015997825788), (1657, 0.024855025867483088), (1658, 0.003317966870753496), (1659, 0.006301894060499218), (1660, 0.003517107741129544), (1661, 0.005915581458872139), (1662, 0.006294515540815222), (1663, 0.0031515321333520944), (1664, 0.0), (1665, 0.017060454207841143), (1666, 0.003895284795836808), (1667, 0.017643091415645774), (1668, 0.0), (1669, 0.0), (1670, 0.003171311303398189), (1671, 0.017440430607716533), (1672, 0.002947972203927961), (1673, 0.0), (1674, 0.009183485243520303), (1675, 0.03798337910378083), (1676, 0.0), (1677, 0.0030390281684044354), (1678, 0.018878633643285285), (1679, 0.0), (1680, 0.0177014327408263), (1681, 0.01675867275653632), (1682, 0.003489058683208619), (1683, 0.003150487912462537), (1684, 0.0), (1685, 0.0031600669024020225), (1686, 0.0), (1687, 0.01919638356845088), (1688, 0.0034753226832242123), (1689, 0.0), (1690, 0.0030251114466230316), (1691, 0.0033195729217493325), (1692, 0.0), (1693, 0.0031124494900517195), (1694, 0.01493742128418045), (1695, 0.0), (1696, 0.005755442115215127), (1697, 0.0), (1698, 0.0), (1699, 0.005030693649796878), (1700, 0.0), (1701, 0.006235711015968303), (1702, 0.047133407956447), (1703, 0.003285264195294337), (1704, 0.0), (1705, 0.009791631399264877), (1706, 0.0032351355787014883), (1707, 0.006419570763356636), (1708, 0.0031978533107838948), (1709, 0.0), (1710, 0.003538408039448942), (1711, 0.0037762162746832035), (1712, 0.0032174271910943553), (1713, 0.0395375458468278), (1714, 0.0), (1715, 0.0), (1716, 0.020449247423954126), (1717, 0.0033823224126765237), (1718, 0.0), (1719, 0.0035325904739727915), (1720, 0.03471465463489149), (1721, 0.008644435773697952), (1722, 0.003296596684183968), (1723, 0.006350838613040664), (1724, 0.00642791682604941), (1725, 0.0), (1726, 0.0), (1727, 0.01283929660737367), (1728, 0.0), (1729, 0.0), (1730, 0.003011859380584191), (1731, 0.0), (1732, 0.0058784893648486354), (1733, 0.0036955606444845635), (1734, 0.0), (1735, 0.00977624155384734), (1736, 0.013829135798444346), (1737, 0.0), (1738, 0.009738962232341716), (1739, 0.017859129326567757), (1740, 0.019223515742544887), (1741, 0.0), (1742, 0.0031160133281262527), (1743, 0.003148629233569772), (1744, 0.0030074865170649297), (1745, 0.0), (1746, 0.0), (1747, 0.0028579475781543616), (1748, 0.0035082377596102102), (1749, 0.0330973426668304), (1750, 0.0), (1751, 0.0), (1752, 0.029705076625412614), (1753, 0.0048771384266727055), (1754, 0.013514110498746533), (1755, 0.0), (1756, 0.0), (1757, 0.03134952083369085), (1758, 0.0), (1759, 0.00318082722765973), (1760, 0.009444051918984883), (1761, 0.005985013795702292), (1762, 0.003149182532267525), (1763, 0.03301543604314033), (1764, 0.0030804574206280146), (1765, 0.0034963161149507696), (1766, 0.0), (1767, 0.0), (1768, 0.0034677557129695496), (1769, 0.0), (1770, 0.032898109861054944), (1771, 0.0), (1772, 0.005695111152525948), (1773, 0.005625234153002656), (1774, 0.016454422038386353), (1775, 0.0), (1776, 0.013348888885229417), (1777, 0.0), (1778, 0.0), (1779, 0.009758699367780845), (1780, 0.0034713650996509716), (1781, 0.01327954363362805), (1782, 0.003716391094782138), (1783, 0.0), (1784, 0.005739891362469535), (1785, 0.0), (1786, 0.0), (1787, 0.0), (1788, 0.0066337674719330626), (1789, 0.015301808018333541), (1790, 0.0), (1791, 0.006215901104315189), (1792, 0.003513137299470884), (1793, 0.0035956557645468856), (1794, 0.0), (1795, 0.0), (1796, 0.016977526482966254), (1797, 0.008647627822419126), (1798, 0.0034687698245738155), (1799, 0.007323589832447585), (1800, 0.0), (1801, 0.0029836211960482264), (1802, 0.0), (1803, 0.0), (1804, 0.0), (1805, 0.003685338517759886), (1806, 0.010928302253704584), (1807, 0.0032360173680351973), (1808, 0.003458918243641865), (1809, 0.05448235147155771), (1810, 0.0), (1811, 0.009643151109111087), (1812, 0.0064256773801019155), (1813, 0.0036547245446221423), (1814, 0.0032527135866255294), (1815, 0.017553457452415315), (1816, 0.00965035455567599), (1817, 0.005847663861804124), (1818, 0.0), (1819, 0.00880482424096809), (1820, 0.0), (1821, 0.05641840952178761), (1822, 0.0031892001842926203), (1823, 0.0), (1824, 0.0), (1825, 0.0), (1826, 0.0027090139384922376), (1827, 0.003285807124146443), (1828, 0.003540461784887986), (1829, 0.006931606845172555), (1830, 0.0029735546238332266), (1831, 0.003114178074452735), (1832, 0.014331643928844277), (1833, 0.00285442888697556), (1834, 0.0), (1835, 0.0), (1836, 0.0), (1837, 0.04236453010748775), (1838, 0.005659821621565048), (1839, 0.0), (1840, 0.006177854501108838), (1841, 0.0), (1842, 0.0), (1843, 0.003377366042448033), (1844, 0.0), (1845, 0.008789393470407005), (1846, 0.0060735668389804345), (1847, 0.009221009942636051), (1848, 0.0037143701578773794), (1849, 0.0), (1850, 0.0), (1851, 0.0034386813687800025), (1852, 0.00571443815249277), (1853, 0.018035294241685366), (1854, 0.011862682216192045), (1855, 0.0), (1856, 0.0), (1857, 0.0059299236506666), (1858, 0.014120245841038645), (1859, 0.006398521527886583), (1860, 0.0035798477213064023), (1861, 0.010167680649920527), (1862, 0.0033848290009951924), (1863, 0.0), (1864, 0.00956885611537239), (1865, 0.010272414708945556), (1866, 0.010112591720663887), (1867, 0.0), (1868, 0.0), (1869, 0.003201055932430722), (1870, 0.0), (1871, 0.0034789170092328283), (1872, 0.0033615562127541666), (1873, 0.006465999479637693), (1874, 0.013604535514421628), (1875, 0.0030661364780306096), (1876, 0.01070856788806674), (1877, 0.003051365467273094), (1878, 0.04757838473662879), (1879, 0.0), (1880, 0.0), (1881, 0.006253500315281341), (1882, 0.0031353191705675723), (1883, 0.0), (1884, 0.003186193273682311), (1885, 0.03690963299461899), (1886, 0.08966817746750592), (1887, 0.0038295902953281156), (1888, 0.0), (1889, 0.0), (1890, 0.0037101004641698345), (1891, 0.0031609177627554812), (1892, 0.0077028378335870324), (1893, 0.003442732764598315), (1894, 0.0), (1895, 0.0), (1896, 0.003361629077145984), (1897, 0.00934872606230441), (1898, 0.0), (1899, 0.0), (1900, 0.005415323540129274), (1901, 0.0065873294414739774), (1902, 0.009453815689739563), (1903, 0.0), (1904, 0.005757703840713966), (1905, 0.0032760739618531358), (1906, 0.0), (1907, 0.003434222268424818), (1908, 0.0), (1909, 0.0033651869971874316), (1910, 0.006133408687605571), (1911, 0.0), (1912, 0.0), (1913, 0.0), (1914, 0.005514476168297777), (1915, 0.0), (1916, 0.0035707581888182152), (1917, 0.0), (1918, 0.010563229401261713), (1919, 0.0038993753370534815), (1920, 0.0032590183607602206), (1921, 0.003189755479721616), (1922, 0.0120394248148738), (1923, 0.013715552463007655), (1924, 0.010330251646420034), (1925, 0.006656149110265936), (1926, 0.0), (1927, 0.005819240520611399), (1928, 0.0), (1929, 0.0037932726477197328), (1930, 0.006090170829854204), (1931, 0.009463746324592523), (1932, 0.0), (1933, 0.005832058160208665), (1934, 0.008105919898188025), (1935, 0.0), (1936, 0.0033043214443126876), (1937, 0.014905288452178516), (1938, 0.0), (1939, 0.007294406759075349), (1940, 0.006933053403593893), (1941, 0.006546017406633779), (1942, 0.018652079188739117), (1943, 0.0031935721896527852), (1944, 0.0), (1945, 0.009046445805412763), (1946, 0.0035203336820788583), (1947, 0.003498315213544471), (1948, 0.0), (1949, 0.01626097450810661), (1950, 0.003020954921917679), (1951, 0.0033692577870862105), (1952, 0.0064262462183272305), (1953, 0.005775892649254481), (1954, 0.002995128204653292), (1955, 0.0), (1956, 0.0), (1957, 0.0), (1958, 0.01554224092927381), (1959, 0.003675605756261115), (1960, 0.009238611800938098), (1961, 0.0), (1962, 0.006701040172995211), (1963, 0.0), (1964, 0.008936306103333668), (1965, 0.0), (1966, 0.0), (1967, 0.019539888197433318), (1968, 0.011197274314690127), (1969, 0.0033095000798379587), (1970, 0.048266364915858034), (1971, 0.012862641500270368), (1972, 0.0), (1973, 0.03760204107770781), (1974, 0.0), (1975, 0.006092781210165264), (1976, 0.03672644403340142), (1977, 0.10549209587113169), (1978, 0.0), (1979, 0.0), (1980, 0.002825353577630853), (1981, 0.009155716956486148), (1982, 0.09671415844548989), (1983, 0.021550109108359323), (1984, 0.0), (1985, 0.019050836291992355), (1986, 0.009416930673234342), (1987, 0.00920260602996461), (1988, 0.0), (1989, 0.016639684763553476), (1990, 0.03742836096645915), (1991, 0.04684460790934437), (1992, 0.015202955732131634), (1993, 0.005635979406879348), (1994, 0.04612087145755028), (1995, 0.0032425481508628045), (1996, 0.006201263978824019), (1997, 0.02115212306657778), (1998, 0.006184230172852039), (1999, 0.031205851097066768), (2000, 0.0032558226946899573), (2001, 0.0), (2002, 0.0), (2003, 0.0), (2004, 0.0032685224869394847), (2005, 0.0), (2006, 0.0), (2007, 0.0), (2008, 0.009105636484507292), (2009, 0.0), (2010, 0.00236724925695255), (2011, 0.003203213829218214), (2012, 0.056646551212024325), (2013, 0.02581467488511689), (2014, 0.04301098830437911), (2015, 0.006275784920331047), (2016, 0.013292552565252415), (2017, 0.0), (2018, 0.0447210176627383), (2019, 0.0), (2020, 0.023494895047520507), (2021, 0.0), (2022, 0.0), (2023, 0.021118728536752545), (2024, 0.01759425000263094), (2025, 0.0), (2026, 0.05481511269885756), (2027, 0.0034073271037629448), (2028, 0.0), (2029, 0.013211738519757559), (2030, 0.0), (2031, 0.009087184843193426), (2032, 0.0), (2033, 0.0), (2034, 0.002660020087359269), (2035, 0.0032367520522555817), (2036, 0.0), (2037, 0.02213159509462039), (2038, 0.0), (2039, 0.0034182703794754907), (2040, 0.020192907091720773), (2041, 0.0), (2042, 0.0), (2043, 0.0), (2044, 0.006594620163505516), (2045, 0.009617393563181328), (2046, 0.0), (2047, 0.0036665759512502583), (2048, 0.029734925801563783), (2049, 0.0033028720927794734), (2050, 0.0), (2051, 0.003328270193121966), (2052, 0.0), (2053, 0.02033512858031368), (2054, 0.0), (2055, 0.012496118192159724), (2056, 0.0), (2057, 0.014778758368093371), (2058, 0.0), (2059, 0.0), (2060, 0.00395759382051697), (2061, 0.010152369804650958), (2062, 0.005972284346793936), (2063, 0.0), (2064, 0.0), (2065, 0.01163702662677137), (2066, 0.01737497334613801), (2067, 0.0032007276790389245), (2068, 0.0031742530719335023), (2069, 0.009462536723566315), (2070, 0.01881800557063015), (2071, 0.0), (2072, 0.0036527704819557254), (2073, 0.003354868554889271), (2074, 0.006425200893043922), (2075, 0.011093472985295994), (2076, 0.01181026551984708), (2077, 0.010379421150803895), (2078, 0.006058854913175807), (2079, 0.0), (2080, 0.011172090065061322), (2081, 0.0), (2082, 0.040939221138161744), (2083, 0.003404810484371839), (2084, 0.006283175378034401), (2085, 0.0), (2086, 0.0), (2087, 0.002952609119249154), (2088, 0.009796971142571184), (2089, 0.00995472875910874), (2090, 0.0), (2091, 0.009454526457337332), (2092, 0.0), (2093, 0.013035066332228357), (2094, 0.006658377949231244), (2095, 0.0), (2096, 0.019355948620990535), (2097, 0.014616294299173894), (2098, 0.0), (2099, 0.0034329150045189706), (2100, 0.04235446259598705), (2101, 0.0), (2102, 0.03768900884054773), (2103, 0.0033302988271297087), (2104, 0.01000231249858406), (2105, 0.0033910681774750547), (2106, 0.0), (2107, 0.0), (2108, 0.0032844109718024347), (2109, 0.03722584339661704), (2110, 0.013506228068720748), (2111, 0.00389374731371486), (2112, 0.07407459103549646), (2113, 0.0), (2114, 0.0), (2115, 0.0), (2116, 0.0032035598352272007), (2117, 0.003224637129205076), (2118, 0.0), (2119, 0.014714132849401266), (2120, 0.0), (2121, 0.009167150233571428), (2122, 0.04383507562700999), (2123, 0.048018684238778836), (2124, 0.0), (2125, 0.0), (2126, 0.013772508945816483), (2127, 0.002672108170182076), (2128, 0.0), (2129, 0.0030832716324870535), (2130, 0.006511085326782341), (2131, 0.0033165727822438117), (2132, 0.0029568915105041807), (2133, 0.003391129164069694), (2134, 0.003348821285777243), (2135, 0.0), (2136, 0.0063088300041325195), (2137, 0.004291508305286343), (2138, 0.0), (2139, 0.005464428387911738), (2140, 0.0), (2141, 0.0031310078774811545), (2142, 0.0035212982903452925), (2143, 0.0032096840452246434), (2144, 0.003315787474702948), (2145, 0.0), (2146, 0.0025644660095435878), (2147, 0.046392244199302525), (2148, 0.0032064826179749382), (2149, 0.003033283721636864), (2150, 0.0), (2151, 0.0035007729929180395), (2152, 0.0), (2153, 0.0), (2154, 0.02147020797504578), (2155, 0.04425704501296057), (2156, 0.0), (2157, 0.028999301896085194), (2158, 0.010792252924769657), (2159, 0.0032845773507212987), (2160, 0.0), (2161, 0.0), (2162, 0.013561422212116474), (2163, 0.0029462902915526378), (2164, 0.0), (2165, 0.0), (2166, 0.0038095449481219423), (2167, 0.0), (2168, 0.0), (2169, 0.0032345547703083555), (2170, 0.0), (2171, 0.0), (2172, 0.0), (2173, 0.028586074046731653), (2174, 0.017281865370385615), (2175, 0.0), (2176, 0.0032814008471414467), (2177, 0.0), (2178, 0.015574509740219882), (2179, 0.0), (2180, 0.0), (2181, 0.006731480888469741), (2182, 0.0), (2183, 0.0), (2184, 0.008270461651418466), (2185, 0.0), (2186, 0.0), (2187, 0.04783026386131655), (2188, 0.01152199689036795), (2189, 0.004250518405478555), (2190, 0.003545323335066607), (2191, 0.010025594108684923), (2192, 0.0032296789234963685), (2193, 0.0036341853270391656), (2194, 0.0), (2195, 0.003385439827291773), (2196, 0.02157880019332441), (2197, 0.0060096075644212685), (2198, 0.030663441159959233), (2199, 0.003927850111080641), (2200, 0.0), (2201, 0.003173891524196168), (2202, 0.0), (2203, 0.0), (2204, 0.0), (2205, 0.0), (2206, 0.014105139150897042), (2207, 0.0), (2208, 0.0066480430005797135), (2209, 0.0032535971880536707), (2210, 0.031053681919951576), (2211, 0.002745974707161564), (2212, 0.04860433463378065), (2213, 0.003109562275448772), (2214, 0.061430613662812494), (2215, 0.0), (2216, 0.01934110916722308), (2217, 0.0), (2218, 0.0), (2219, 0.0), (2220, 0.0), (2221, 0.0036045108156693624), (2222, 0.0), (2223, 0.0034181104951965602), (2224, 0.019086190430906615), (2225, 0.0), (2226, 0.003823707367427998), (2227, 0.0), (2228, 0.011029662580560635), (2229, 0.020641348866365095), (2230, 0.00358804829204392), (2231, 0.006055904335386921), (2232, 0.005954647010558395), (2233, 0.0), (2234, 0.0), (2235, 0.01889151602988131), (2236, 0.0038884480162597363), (2237, 0.0033816110196225753), (2238, 0.0), (2239, 0.0), (2240, 0.0027337712964970854), (2241, 0.0), (2242, 0.0033076236877868518), (2243, 0.0), (2244, 0.0), (2245, 0.006456384859929794), (2246, 0.005926348210826498), (2247, 0.0), (2248, 0.0027021500541688503), (2249, 0.0), (2250, 0.014938174688538822), (2251, 0.004208567646989982), (2252, 0.006478257262202287), (2253, 0.0), (2254, 0.021213170234110013), (2255, 0.01100381329315725), (2256, 0.0), (2257, 0.003895270593303236), (2258, 0.0), (2259, 0.0), (2260, 0.003174563345054383), (2261, 0.0), (2262, 0.0), (2263, 0.0), (2264, 0.011832303629432443), (2265, 0.002809581371705538), (2266, 0.004272131536888389), (2267, 0.0), (2268, 0.0031977324438793), (2269, 0.004336283932656703), (2270, 0.003056375140601141), (2271, 0.0), (2272, 0.0), (2273, 0.007170619303092775), (2274, 0.0), (2275, 0.018629848576577505), (2276, 0.025955173814707477), (2277, 0.0031107362835812186), (2278, 0.005864322012966668), (2279, 0.011052023692620667), (2280, 0.015052625283274404), (2281, 0.0), (2282, 0.0), (2283, 0.006059414383352465), (2284, 0.019837401997709708), (2285, 0.0030389505367182483), (2286, 0.003866603965442259), (2287, 0.0028437990213569797), (2288, 0.0032031817858502298), (2289, 0.0030071301420220927), (2290, 0.0), (2291, 0.0), (2292, 0.003196798044486622), (2293, 0.0037428100876905194), (2294, 0.029388758983224655), (2295, 0.0627756270210695), (2296, 0.0), (2297, 0.0), (2298, 0.0), (2299, 0.005220557930767615), (2300, 0.0), (2301, 0.0033381908864235535), (2302, 0.0034249495831437863), (2303, 0.0032056154243080646), (2304, 0.010026590230884945), (2305, 0.0), (2306, 0.0037664369147169265), (2307, 0.0), (2308, 0.04458067097175964), (2309, 0.0032372123812107385), (2310, 0.004048828837336242), (2311, 0.0), (2312, 0.0), (2313, 0.003476697862319639), (2314, 0.006041241567033623), (2315, 0.0), (2316, 0.04719540633979786), (2317, 0.0033640926683676637), (2318, 0.06279885850200988), (2319, 0.0036541663476775885), (2320, 0.004247576604580369), (2321, 0.0566690437054569), (2322, 0.0), (2323, 0.0030852423080884868), (2324, 0.007805343999482014), (2325, 0.0), (2326, 0.004592673647450545), (2327, 0.0), (2328, 0.006749286514777352), (2329, 0.0), (2330, 0.006091550647271333), (2331, 0.0), (2332, 0.0), (2333, 0.0), (2334, 0.018719722439333716), (2335, 0.0), (2336, 0.014633719076869438), (2337, 0.0), (2338, 0.003105560451305046), (2339, 0.0), (2340, 0.0038162684363445003), (2341, 0.0), (2342, 0.0), (2343, 0.03287957763578707), (2344, 0.00854636956981369), (2345, 0.0), (2346, 0.014934712926701052), (2347, 0.0030753598158910597), (2348, 0.008519700421468032), (2349, 0.004190593033808422), (2350, 0.003872932525709505), (2351, 0.0), (2352, 0.0), (2353, 0.0), (2354, 0.0034978486447625914), (2355, 0.007611845652313448), (2356, 0.0033537921996059546), (2357, 0.0), (2358, 0.06923596359294609), (2359, 0.00336118038646649), (2360, 0.0), (2361, 0.0031972678504974786), (2362, 0.0029846583192113703), (2363, 0.010426484814708158), (2364, 0.0), (2365, 0.03845240963616563), (2366, 0.0), (2367, 0.0032516922336982977), (2368, 0.0), (2369, 0.0), (2370, 0.003472475150718726), (2371, 0.04460004794583058), (2372, 0.0), (2373, 0.0), (2374, 0.009628920827350547), (2375, 0.04786679628823677), (2376, 0.0), (2377, 0.0), (2378, 0.0034467506326379474), (2379, 0.004296200525469831), (2380, 0.0), (2381, 0.0), (2382, 0.003117665997578314), (2383, 0.01830011370486781), (2384, 0.0), (2385, 0.0038900710911701918), (2386, 0.003080288079860138), (2387, 0.003506000867543261), (2388, 0.00735276737050858), (2389, 0.0), (2390, 0.00329734577096153), (2391, 0.0036124118177808177), (2392, 0.003945952004879785), (2393, 0.003562752025972121), (2394, 0.030615768824918097), (2395, 0.0), (2396, 0.0032840108328552426), (2397, 0.003532258194430071), (2398, 0.0), (2399, 0.0031717928686636854), (2400, 0.003846612287459503), (2401, 0.0033025414566604577), (2402, 0.0029135293322549174), (2403, 0.0034446471416761304), (2404, 0.0041150478195533), (2405, 0.0031581878470063472), (2406, 0.023041891254081383), (2407, 0.00418631992060342), (2408, 0.03130832858615856), (2409, 0.0), (2410, 0.0040270798077630746), (2411, 0.003361624280933693), (2412, 0.017879911675064142), (2413, 0.04008882840563813), (2414, 0.0), (2415, 0.0036470381712935896), (2416, 0.0040966385877791766), (2417, 0.047933590117376), (2418, 0.0035280390425092207), (2419, 0.0035356694602846402), (2420, 0.0), (2421, 0.006592173179219839), (2422, 0.0033936463197209703), (2423, 0.0038142858824379393), (2424, 0.008474460426632982), (2425, 0.00392474126419585), (2426, 0.0), (2427, 0.0119099665474215), (2428, 0.010104578343203205), (2429, 0.014981632193761954), (2430, 0.0034430000624709072), (2431, 0.0), (2432, 0.005374268154055587), (2433, 0.0), (2434, 0.004052976658784771), (2435, 0.0), (2436, 0.0039504027788062465), (2437, 0.0033936232587483653), (2438, 0.003740322299460087), (2439, 0.0), (2440, 0.006689680168663405), (2441, 0.0029327408502149753), (2442, 0.005944849152814829), (2443, 0.009590715285910632), (2444, 0.009449591271523772), (2445, 0.0), (2446, 0.003168551782251989), (2447, 0.019358288069960553), (2448, 0.004160508883449337), (2449, 0.03555099015265393), (2450, 0.0), (2451, 0.0), (2452, 0.0), (2453, 0.0035967428997845433), (2454, 0.00365647341394789), (2455, 0.0), (2456, 0.0), (2457, 0.0029383174406557378), (2458, 0.0), (2459, 0.012084045637526528), (2460, 0.0), (2461, 0.0031208065547406977), (2462, 0.0), (2463, 0.0032287720644750234), (2464, 0.012617957768461445), (2465, 0.0), (2466, 0.0031055584259735776), (2467, 0.035552027564450445), (2468, 0.0070714758017460045), (2469, 0.0025230006637358307), (2470, 0.0), (2471, 0.0), (2472, 0.0), (2473, 0.003220294530746423), (2474, 0.003319233989071231), (2475, 0.0032569034380261538), (2476, 0.04452514052630453), (2477, 0.010221632572454458), (2478, 0.0034504097938325394), (2479, 0.0), (2480, 0.0060941813751638485), (2481, 0.003128653558663542), (2482, 0.0030562790550062403), (2483, 0.0), (2484, 0.005066093175755372), (2485, 0.0), (2486, 0.018369747148833205), (2487, 0.019249525232528965), (2488, 0.00439894901441163), (2489, 0.012345401376231293), (2490, 0.00434577479666313), (2491, 0.0), (2492, 0.004168714317517374), (2493, 0.0), (2494, 0.004014858535687303), (2495, 0.00393500389980026), (2496, 0.008446221248206338), (2497, 0.0), (2498, 0.0), (2499, 0.0), (2500, 0.0), (2501, 0.005929580350180769), (2502, 0.00350474151255884), (2503, 0.0), (2504, 0.0), (2505, 0.0033314958543739052), (2506, 0.005998485123804643), (2507, 0.0032062139446886666), (2508, 0.0), (2509, 0.0028739333764396056), (2510, 0.0), (2511, 0.0), (2512, 0.013683540262916547), (2513, 0.0), (2514, 0.0), (2515, 0.0), (2516, 0.0), (2517, 0.030277364003802796), (2518, 0.0), (2519, 0.011467730093516605), (2520, 0.0030458904522925683), (2521, 0.0), (2522, 0.020189048043945022), (2523, 0.0), (2524, 0.014646166474993033), (2525, 0.0032897267840834806), (2526, 0.002981202264967334), (2527, 0.003490720946126815), (2528, 0.0035654020612858866), (2529, 0.0043901543564044375), (2530, 0.05788327712795211), (2531, 0.003731162393160576), (2532, 0.0), (2533, 0.003234287307080732), (2534, 0.003173025333157674), (2535, 0.003323607996337135), (2536, 0.0), (2537, 0.004109025541521873), (2538, 0.002997461278707289), (2539, 0.0), (2540, 0.05151230325917779), (2541, 0.005877615975738328), (2542, 0.0), (2543, 0.0), (2544, 0.00351275181361206), (2545, 0.003127374408520895), (2546, 0.013063581318503695), (2547, 0.0), (2548, 0.0), (2549, 0.0), (2550, 0.004451684774283484), (2551, 0.0), (2552, 0.0035918707177448705), (2553, 0.003261541194284496), (2554, 0.0032937049860053257), (2555, 0.01393465691524024), (2556, 0.0027923172879965284), (2557, 0.003738035544503202), (2558, 0.11712393171149404), (2559, 0.0039800482283673146), (2560, 0.004400359347863247), (2561, 0.0038401144392876886), (2562, 0.0), (2563, 0.0035994936594529276), (2564, 0.0), (2565, 0.0035066455711898494), (2566, 0.0), (2567, 0.006495209290051732), (2568, 0.003635501707201588), (2569, 0.004119336964745491), (2570, 0.0039655846187517324), (2571, 0.003314863082253084), (2572, 0.003449192970048287), (2573, 0.0050502240430602505), (2574, 0.0), (2575, 0.0), (2576, 0.006208795012155059), (2577, 0.0), (2578, 0.0), (2579, 0.056763726633147986), (2580, 0.0100086835911965), (2581, 0.011588179950413169), (2582, 0.0), (2583, 0.0), (2584, 0.0), (2585, 0.00414068458908849), (2586, 0.0), (2587, 0.0031006235720432017), (2588, 0.0), (2589, 0.0), (2590, 0.0), (2591, 0.003872304297770498), (2592, 0.0037800081535502477), (2593, 0.0032187141512836936), (2594, 0.0), (2595, 0.0035280436778168897), (2596, 0.0), (2597, 0.0), (2598, 0.009678301800022725), (2599, 0.005928086617433403), (2600, 0.010776066670978782), (2601, 0.003959746580563551), (2602, 0.014765494799674532), (2603, 0.0030253146577015858), (2604, 0.0), (2605, 0.0), (2606, 0.00941423637157733), (2607, 0.016525373843876215), (2608, 0.0), (2609, 0.00351148313820887), (2610, 0.003482985710312528), (2611, 0.0031670394749051083), (2612, 0.003203638871521116), (2613, 0.003564956772572537), (2614, 0.03599257637507245), (2615, 0.0), (2616, 0.0), (2617, 0.018806687081691524), (2618, 0.006063469964250694), (2619, 0.004144471089679868), (2620, 0.0), (2621, 0.016715490207798514), (2622, 0.005744250736896694), (2623, 0.0034121655851527054), (2624, 0.003937858313734171), (2625, 0.015257467885053371), (2626, 0.006452059241004995), (2627, 0.0), (2628, 0.003957373083487427), (2629, 0.0034733974604202076), (2630, 0.05785650954953856), (2631, 0.0), (2632, 0.009172984879698561), (2633, 0.0037768728547938383), (2634, 0.0032475220513654645), (2635, 0.009929230077562145), (2636, 0.004504012546396575), (2637, 0.0), (2638, 0.021535598537010453), (2639, 0.0), (2640, 0.004272051602309768), (2641, 0.0), (2642, 0.0035793635467794016), (2643, 0.0039112848420530255), (2644, 0.0), (2645, 0.02124218205618559), (2646, 0.034235187427273835), (2647, 0.009899031289961814), (2648, 0.0), (2649, 0.028041003602051178), (2650, 0.003557980124183096), (2651, 0.0035479060734844303), (2652, 0.003638611735595427), (2653, 0.0032907760618336897), (2654, 0.0), (2655, 0.011304159976529154), (2656, 0.0), (2657, 0.0), (2658, 0.0), (2659, 0.0), (2660, 0.0), (2661, 0.0031313940541056497), (2662, 0.0), (2663, 0.0), (2664, 0.003212075474018993), (2665, 0.0), (2666, 0.0), (2667, 0.0), (2668, 0.021259254757242822), (2669, 0.0), (2670, 0.0), (2671, 0.0), (2672, 0.0), (2673, 0.004225946375890085), (2674, 0.0027591200041337405), (2675, 0.0), (2676, 0.0), (2677, 0.0), (2678, 0.004909611727591748), (2679, 0.0031127721438097542), (2680, 0.006238896725638177), (2681, 0.0), (2682, 0.006183763699967842), (2683, 0.006459575189876625), (2684, 0.0), (2685, 0.0), (2686, 0.0), (2687, 0.03417783105043786), (2688, 0.0), (2689, 0.0073714078445392735), (2690, 0.0), (2691, 0.0), (2692, 1.0000000000000002), (2693, 0.0), (2694, 0.051925408044363276), (2695, 0.01888618445567334), (2696, 0.0038493031103060044), (2697, 0.015363049305613396), (2698, 0.003352436856285), (2699, 0.031598385618535), (2700, 0.006178614541446397), (2701, 0.0), (2702, 0.00342605063448972), (2703, 0.0), (2704, 0.0), (2705, 0.0032786528562565075), (2706, 0.03348639945477521), (2707, 0.0035485462289938027), (2708, 0.0), (2709, 0.0), (2710, 0.040949087142576536), (2711, 0.0065521142359717234), (2712, 0.0036585252729110875), (2713, 0.029231606430744447), (2714, 0.009486284674214973), (2715, 0.0), (2716, 0.05153397548999042), (2717, 0.0), (2718, 0.03416370444263567), (2719, 0.0), (2720, 0.004362462035289326), (2721, 0.00341052828212632), (2722, 0.004250598574148481), (2723, 0.03668571872456284), (2724, 0.009397873503819985), (2725, 0.0035540152807337394), (2726, 0.0), (2727, 0.01686943390291773), (2728, 0.003278664730764518), (2729, 0.0), (2730, 0.0), (2731, 0.00406398931089954), (2732, 0.0), (2733, 0.006092695404589707), (2734, 0.0), (2735, 0.0027471772293480683), (2736, 0.0053005638684330255), (2737, 0.0), (2738, 0.003921379840450732), (2739, 0.01462645714764458), (2740, 0.004072513418571187), (2741, 0.002880608323226678), (2742, 0.01542195706114762), (2743, 0.0025745957253908145), (2744, 0.004264774821039661), (2745, 0.03695832962129967), (2746, 0.0034366349805899777), (2747, 0.002923116877636063), (2748, 0.0032932542749611517), (2749, 0.0), (2750, 0.0), (2751, 0.01783428926674737), (2752, 0.012215245367841075), (2753, 0.0034557143203638157), (2754, 0.0), (2755, 0.0035964677386237293), (2756, 0.0), (2757, 0.004634073272757536), (2758, 0.0033703387099994838), (2759, 0.0057526980747970215), (2760, 0.037289730995106816), (2761, 0.0335447880871042), (2762, 0.0), (2763, 0.0), (2764, 0.004307198759434588), (2765, 0.0036254962135826956), (2766, 0.003326719729545843), (2767, 0.02678750161948279), (2768, 0.02348734255280157), (2769, 0.003947825114598725), (2770, 0.0), (2771, 0.019322574005580167), (2772, 0.0035664207897676482), (2773, 0.0), (2774, 0.0), (2775, 0.004093049385389496), (2776, 0.0032261092675767654), (2777, 0.020008217415490838), (2778, 0.010310199599838182), (2779, 0.0032202890210943956), (2780, 0.01564279326959174), (2781, 0.0), (2782, 0.04279933041866873), (2783, 0.003183573818530036), (2784, 0.018815298930326473), (2785, 0.0), (2786, 0.003233025376626225), (2787, 0.006122100950613859), (2788, 0.015671631156300655), (2789, 0.005414715523771442), (2790, 0.006671865438048441), (2791, 0.014718000872187786), (2792, 0.003400473214335915), (2793, 0.0), (2794, 0.0), (2795, 0.0242713556014151), (2796, 0.0034529256212756463), (2797, 0.003686729032875128), (2798, 0.0034014500482088166), (2799, 0.0), (2800, 0.003347822119545588), (2801, 0.005183897187018029), (2802, 0.041056533623900625), (2803, 0.009648158666029213), (2804, 0.0), (2805, 0.0), (2806, 0.0), (2807, 0.0), (2808, 0.018582668893670454), (2809, 0.006738226970966087), (2810, 0.0), (2811, 0.0), (2812, 0.0030747823172770374), (2813, 0.0), (2814, 0.0), (2815, 0.01931079199299855), (2816, 0.0), (2817, 0.0), (2818, 0.0), (2819, 0.006217935644197315), (2820, 0.005630245188480533), (2821, 0.0034229610062937858), (2822, 0.03191024517718696), (2823, 0.0), (2824, 0.0), (2825, 0.0095035647244436), (2826, 0.003217261343569355), (2827, 0.0), (2828, 0.0), (2829, 0.0), (2830, 0.0036810486831148296), (2831, 0.003557621136373887), (2832, 0.003973957718928649), (2833, 0.01005321902475172), (2834, 0.004429634719940099), (2835, 0.0), (2836, 0.0), (2837, 0.0), (2838, 0.0045325315865879295), (2839, 0.0), (2840, 0.011946984026216929), (2841, 0.0034251621320396906), (2842, 0.0), (2843, 0.0), (2844, 0.0034849973887431164), (2845, 0.003984797307535829), (2846, 0.048480786178210514), (2847, 0.006276389438358631), (2848, 0.003676985607807072), (2849, 0.012235382246294389), (2850, 0.0), (2851, 0.0), (2852, 0.0), (2853, 0.003561603543665071), (2854, 0.012104806239831203), (2855, 0.0), (2856, 0.0), (2857, 0.004343982477718912), (2858, 0.004292490158315495), (2859, 0.04290770201859344), (2860, 0.0), (2861, 0.004013952875765499), (2862, 0.003180093054408661), (2863, 0.003342630686745945), (2864, 0.0), (2865, 0.0), (2866, 0.0), (2867, 0.0), (2868, 0.03704919953754067), (2869, 0.0), (2870, 0.004097162341665041), (2871, 0.013501153588868782), (2872, 0.0034861011919547907), (2873, 0.0), (2874, 0.010264726142243828), (2875, 0.0), (2876, 0.002981603021212349), (2877, 0.0), (2878, 0.0037750193731093313), (2879, 0.010375207059927744), (2880, 0.0), (2881, 0.009611263680108603), (2882, 0.004094447527283781), (2883, 0.004085831108735637), (2884, 0.004056360682070862), (2885, 0.018458524269051875), (2886, 0.011021489556571201), (2887, 0.0350207194911991), (2888, 0.0032526495133557193), (2889, 0.004168305162577734), (2890, 0.003340788851342662), (2891, 0.0), (2892, 0.004086881381931903), (2893, 0.05125700814732667), (2894, 0.0035157805541648508), (2895, 0.0036156180968945836), (2896, 0.0), (2897, 0.009788423526104165), (2898, 0.0), (2899, 0.00910687705239802), (2900, 0.0029852282827185885), (2901, 0.003887010276773914), (2902, 0.0030694413847121888), (2903, 0.1392652497725169), (2904, 0.0037364462505210007), (2905, 0.0), (2906, 0.0), (2907, 0.003335308350747534), (2908, 0.029315485758585596), (2909, 0.0036764456256675017), (2910, 0.020290750515257805), (2911, 0.0035773332288630837), (2912, 0.034969830965443746), (2913, 0.015033370468920034), (2914, 0.003418797691097605), (2915, 0.0031837354386139356), (2916, 0.0033907718045778487), (2917, 0.008213892748750758), (2918, 0.015274727033678295), (2919, 0.019645034251915335), (2920, 0.0382001856343417), (2921, 0.0), (2922, 0.0), (2923, 0.004045587771929821), (2924, 0.003642470500917266), (2925, 0.019100220213593713), (2926, 0.0031509835623168654), (2927, 0.0), (2928, 0.0), (2929, 0.005704213063390419), (2930, 0.0), (2931, 0.0032768326975781913), (2932, 0.022555156896522426), (2933, 0.0027513315440082734), (2934, 0.011574900856742985), (2935, 0.0), (2936, 0.003413623995525996), (2937, 0.004338538111886225), (2938, 0.0), (2939, 0.01743670057684072), (2940, 0.0035487975070978245), (2941, 0.0), (2942, 0.0031196401491813044), (2943, 0.0030006610096524828), (2944, 0.03807098340748526), (2945, 0.003328875326456522), (2946, 0.0029761395492398446), (2947, 0.006915893439886563), (2948, 0.011128528702016647), (2949, 0.010909183226171383), (2950, 0.03003394965819368), (2951, 0.0), (2952, 0.0), (2953, 0.003481420653737995), (2954, 0.0031491733630585475), (2955, 0.0), (2956, 0.0), (2957, 0.0042279240854484835), (2958, 0.0), (2959, 0.006142822879568359), (2960, 0.005927701762410007), (2961, 0.016537068290427746), (2962, 0.008957400381840265), (2963, 0.016929678100212484), (2964, 0.0034921103908060616), (2965, 0.003234944866171093), (2966, 0.0036802172019706966), (2967, 0.0), (2968, 0.0), (2969, 0.003268257323615064), (2970, 0.0032258779134312003), (2971, 0.05658847811451703), (2972, 0.03572353581605924), (2973, 0.0), (2974, 0.003394989712599984), (2975, 0.0035863418532930407), (2976, 0.0028584697128875795), (2977, 0.003487106272054942), (2978, 0.016686611752099387), (2979, 0.0), (2980, 0.0033851902256082757), (2981, 0.04247896244018897), (2982, 0.0), (2983, 0.0), (2984, 0.0056470377702136434), (2985, 0.07709418396000331), (2986, 0.0035796752920382265), (2987, 0.0034419297236931803), (2988, 0.009916978875683578), (2989, 0.004219878054566461), (2990, 0.0), (2991, 0.005520760180904376), (2992, 0.005810319529712975), (2993, 0.0036526215265434733), (2994, 0.009062217787857131), (2995, 0.0033238725049778606), (2996, 0.021319726630831305), (2997, 0.002859608085591191), (2998, 0.00454001128450612), (2999, 0.003003073220812369), (3000, 0.003477650661113328), (3001, 0.0), (3002, 0.0), (3003, 0.0036839131765562267), (3004, 0.04151624921996062), (3005, 0.006224071228002547), (3006, 0.0), (3007, 0.0032280294321747355), (3008, 0.0), (3009, 0.0), (3010, 0.07357490894509884), (3011, 0.006103022985184442), (3012, 0.019144125907673414), (3013, 0.0037590014033840194), (3014, 0.0031942428933848656), (3015, 0.003811714531854295), (3016, 0.0030888031915557706), (3017, 0.030835348116893577), (3018, 0.012740115460218126), (3019, 0.019857357216886473), (3020, 0.0036377853449594383), (3021, 0.0), (3022, 0.00736098171580422), (3023, 0.051257079554848664), (3024, 0.002856188134656067), (3025, 0.0), (3026, 0.0033261051725900575), (3027, 0.0036885190552633598), (3028, 0.0342051993254077), (3029, 0.0), (3030, 0.00410270670075394), (3031, 0.003668251988725467), (3032, 0.009542520883006335), (3033, 0.0), (3034, 0.0), (3035, 0.008111938031872958), (3036, 0.0037452357520687462), (3037, 0.00319678782050254), (3038, 0.0), (3039, 0.0), (3040, 0.0042281405089820605), (3041, 0.0), (3042, 0.004089061605792899), (3043, 0.0231626379875972), (3044, 0.003284953523969063), (3045, 0.014955737707546728), (3046, 0.0035171232895922044), (3047, 0.0), (3048, 0.0), (3049, 0.00682862958906653), (3050, 0.002737383484889135), (3051, 0.004318605592950528), (3052, 0.004135224770473188), (3053, 0.11436347276390944), (3054, 0.0), (3055, 0.004110971594176842), (3056, 0.0031357776448140535), (3057, 0.003190415436432026), (3058, 0.0), (3059, 0.0), (3060, 0.0), (3061, 0.0), (3062, 0.0033567301655951683), (3063, 0.0), (3064, 0.0032932714317347265), (3065, 0.007182002902445025), (3066, 0.0), (3067, 0.0032167939979706045), (3068, 0.03032810994838865), (3069, 0.003339156359944067), (3070, 0.014422483637281255), (3071, 0.003220384318255733), (3072, 0.003519812648248116), (3073, 0.0), (3074, 0.00371497740575929), (3075, 0.003039372663758377), (3076, 0.01719939008784481), (3077, 0.0), (3078, 0.0), (3079, 0.005036845459954088), (3080, 0.0), (3081, 0.003540258730108227), (3082, 0.0), (3083, 0.031093099675597646), (3084, 0.0031930312174261767), (3085, 0.015884224867105758), (3086, 0.02030964399745195), (3087, 0.0), (3088, 0.0), (3089, 0.0), (3090, 0.0), (3091, 0.043416004286751866), (3092, 0.0), (3093, 0.002918311312605803), (3094, 0.0035087067142558514), (3095, 0.01334745695682234), (3096, 0.0029639761095940995), (3097, 0.02441716625795776), (3098, 0.0), (3099, 0.01343466810649355), (3100, 0.005367682473083246), (3101, 0.004233566772037861), (3102, 0.0), (3103, 0.0), (3104, 0.0), (3105, 0.0), (3106, 0.0), (3107, 0.0), (3108, 0.0102447589291103), (3109, 0.0), (3110, 0.018650814807496488), (3111, 0.003328259408638192), (3112, 0.009044902661369043), (3113, 0.003018654445696444), (3114, 0.0), (3115, 0.0), (3116, 0.004276812268919814), (3117, 0.006857398589144395), (3118, 0.013699855251618494), (3119, 0.015776339206715978), (3120, 0.012700091884909703), (3121, 0.0), (3122, 0.009093589407023393), (3123, 0.010377564876186206), (3124, 0.006614563374290486), (3125, 0.009800537897199793), (3126, 0.0058744467331930126), (3127, 0.011124482874951361), (3128, 0.003787110798386302), (3129, 0.005975089674368453), (3130, 0.0), (3131, 0.006327754644579526), (3132, 0.0), (3133, 0.006087758857061437), (3134, 0.005892467679707061), (3135, 0.005436660471336341), (3136, 0.00590857163575127), (3137, 0.05327781081024964), (3138, 0.0), (3139, 0.0042861043985742645), (3140, 0.004644906082585972), (3141, 0.0), (3142, 0.017875230781231606), (3143, 0.006780235697912442), (3144, 0.0), (3145, 0.0), (3146, 0.03499148171871081), (3147, 0.0031504419518030443), (3148, 0.003411415335259415), (3149, 0.010564222964388987), (3150, 0.0032637193940357138), (3151, 0.0035368959690664403), (3152, 0.002508336289434378), (3153, 0.00954266307208302), (3154, 0.03454159628793937), (3155, 0.012347571832006578), (3156, 0.03224424045255934), (3157, 0.003948898256681555), (3158, 0.006517908076334704), (3159, 0.0043074295233697405), (3160, 0.00525551651100026), (3161, 0.00597912766963239), (3162, 0.0), (3163, 0.0064418591388566175), (3164, 0.0), (3165, 0.003476505026340914), (3166, 0.004395354579165882), (3167, 0.036611711192389346), (3168, 0.007469921344137674), (3169, 0.0), (3170, 0.0028789090092337954), (3171, 0.010995482020506469), (3172, 0.0), (3173, 0.003088357507843607), (3174, 0.035165268162684706), (3175, 0.0), (3176, 0.0), (3177, 0.0), (3178, 0.004785815162138847), (3179, 0.006282116426722385), (3180, 0.0064466357912666816), (3181, 0.0), (3182, 0.0035371592423047117), (3183, 0.0037075939662520895), (3184, 0.003468135470002247), (3185, 0.008344239444394498), (3186, 0.0036880583556952755), (3187, 0.0033025132272878487), (3188, 0.0), (3189, 0.0), (3190, 0.0), (3191, 0.0063110720477644435), (3192, 0.010322014013629895), (3193, 0.0), (3194, 0.0033400964636339362), (3195, 0.008571430153291159), (3196, 0.01007944131000901), (3197, 0.0), (3198, 0.003572790433893078), (3199, 0.0027726748836410897), (3200, 0.0028393531267055915), (3201, 0.0), (3202, 0.0), (3203, 0.0593883249230829), (3204, 0.0), (3205, 0.0), (3206, 0.004217069718318897), (3207, 0.0), (3208, 0.0), (3209, 0.0), (3210, 0.01823963231263965), (3211, 0.002892489381880814), (3212, 0.0), (3213, 0.006388537633667907), (3214, 0.0031280088840679268), (3215, 0.005540695271924911), (3216, 0.0033538348286049195), (3217, 0.0), (3218, 0.0044228651756833505), (3219, 0.00438012636815543), (3220, 0.00412495414726882), (3221, 0.0), (3222, 0.0), (3223, 0.0), (3224, 0.0031060337556655954), (3225, 0.0034308203906515747), (3226, 0.003114112552215466), (3227, 0.01211884363720737), (3228, 0.011684441635969257), (3229, 0.0), (3230, 0.0037121592472984938), (3231, 0.0), (3232, 0.01579824172475739), (3233, 0.009505844667009818), (3234, 0.004257766125703575), (3235, 0.0036428619665298378), (3236, 0.0), (3237, 0.0034530234568390062), (3238, 0.003263242150426927), (3239, 0.0037898942074004456), (3240, 0.006601779279368446), (3241, 0.003783161553572366), (3242, 0.0036858542252872365), (3243, 0.0031541491382977883), (3244, 0.0), (3245, 0.008555099970535216), (3246, 0.003338817492196532), (3247, 0.005304167134153519), (3248, 0.07931987815946462), (3249, 0.048755412078126364), (3250, 0.0), (3251, 0.0), (3252, 0.003600239659480431), (3253, 0.0), (3254, 0.02677540393614348), (3255, 0.04033991680548078), (3256, 0.0), (3257, 0.003641799656128717), (3258, 0.003293185510986582), (3259, 0.009842732411273888), (3260, 0.03523710659500079), (3261, 0.0), (3262, 0.003895203055748394), (3263, 0.005985541488951545), (3264, 0.003714226904282635), (3265, 0.0), (3266, 0.0), (3267, 0.015007772085071414), (3268, 0.002888583854680479), (3269, 0.0037059589182173273), (3270, 0.0), (3271, 0.003697683287325101), (3272, 0.0), (3273, 0.0036274512518147373), (3274, 0.0034122995040915052), (3275, 0.02407773047135427), (3276, 0.1418297055859409), (3277, 0.0), (3278, 0.0030037543605165324), (3279, 0.005495621016188103), (3280, 0.0464288340905696), (3281, 0.0), (3282, 0.004363064930923003), (3283, 0.003933723667065823), (3284, 0.012153089144204578), (3285, 0.0026358292407087937), (3286, 0.0), (3287, 0.0), (3288, 0.0), (3289, 0.0036204832774387567), (3290, 0.003472639404243875), (3291, 0.004064888663250237), (3292, 0.003942024355686265), (3293, 0.011764882165572449), (3294, 0.0), (3295, 0.0), (3296, 0.0034445322736469178), (3297, 0.014689073764269147), (3298, 0.003398641426907352), (3299, 0.003856809594724032), (3300, 0.003056928437646908), (3301, 0.002369590906672401), (3302, 0.004429843457851241), (3303, 0.01086375236619648), (3304, 0.002847573559954725), (3305, 0.0), (3306, 0.02365351980015098), (3307, 0.0035053979608138668), (3308, 0.003983686621557492), (3309, 0.0), (3310, 0.0), (3311, 0.003100929896488317), (3312, 0.0181629103017415), (3313, 0.0033828683204378566), (3314, 0.0037685413620623972), (3315, 0.04895154554600282), (3316, 0.0036302676084307563), (3317, 0.0146928623197571), (3318, 0.017981158777155927), (3319, 0.02714882600751625), (3320, 0.0), (3321, 0.0), (3322, 0.003897761362814589), (3323, 0.0), (3324, 0.0), (3325, 0.03750863709486138), (3326, 0.03647845230030458), (3327, 0.0030099198459996525), (3328, 0.03467859198413193), (3329, 0.003332748061858327), (3330, 0.04471754327113738), (3331, 0.008755939638917232), (3332, 0.0), (3333, 0.0), (3334, 0.06950120383805426), (3335, 0.003309337780784721), (3336, 0.003503838732181449), (3337, 0.0034388717904044715), (3338, 0.005442147534781521), (3339, 0.00754988263224111), (3340, 0.0), (3341, 0.003483291611750119), (3342, 0.008840622207769702), (3343, 0.0), (3344, 0.010249831636277983), (3345, 0.0), (3346, 0.0033434275486617215), (3347, 0.002760726418417342), (3348, 0.003337851754920001), (3349, 0.008844730330566538), (3350, 0.0), (3351, 0.053418025408976964), (3352, 0.0032990560757034408), (3353, 0.003715274958035021), (3354, 0.0038109926668303744), (3355, 0.003479951175082998), (3356, 0.0), (3357, 0.004282659160386141), (3358, 0.0036384667319440227), (3359, 0.0035208262676758714), (3360, 0.060745731792325966), (3361, 0.005543825823569191), (3362, 0.029414994130153634), (3363, 0.004061314245713823), (3364, 0.004257782767377286), (3365, 0.002427283722263269), (3366, 0.0), (3367, 0.006405575266595275), (3368, 0.0), (3369, 0.003262840351412421), (3370, 0.021242154135259095), (3371, 0.0), (3372, 0.0031663346928200134), (3373, 0.039164536087382434), (3374, 0.01942602569246822), (3375, 0.0), (3376, 0.003149310554246117), (3377, 0.01938668549684783), (3378, 0.0), (3379, 0.0030864439501979164), (3380, 0.003384104322135303), (3381, 0.003297326933445905), (3382, 0.014634446053384544), (3383, 0.0), (3384, 0.01837070470882782), (3385, 0.07734725162509856), (3386, 0.003389426213879036), (3387, 0.006580418053614178), (3388, 0.003551605958400675), (3389, 0.003260221747996749), (3390, 0.0034782870698442376), (3391, 0.006691183049083263), (3392, 0.0026130751544928385), (3393, 0.003279088139385587), (3394, 0.0), (3395, 0.04472208328335779), (3396, 0.003492414082622658), (3397, 0.0), (3398, 0.006161590185944704), (3399, 0.003202594256521741), (3400, 0.0), (3401, 0.0), (3402, 0.0032555617132312576), (3403, 0.017245093258851152), (3404, 0.006028828005445951), (3405, 0.005430892332527212), (3406, 0.003541958675299967), (3407, 0.012147571859259007), (3408, 0.05917449885130281), (3409, 0.04317716653206738), (3410, 0.003473174064187272), (3411, 0.0), (3412, 0.0035152089137087533), (3413, 0.003623766171093708), (3414, 0.003981375321386807), (3415, 0.0), (3416, 0.01459595625464696), (3417, 0.003290648266107275), (3418, 0.011501774198090006), (3419, 0.0034744556785686817), (3420, 0.0), (3421, 0.0024440859772052502), (3422, 0.0), (3423, 0.003442872679065506), (3424, 0.0), (3425, 0.0038712969611887573), (3426, 0.005685521410314971), (3427, 0.05960732223766812), (3428, 0.04023491685371366), (3429, 0.004126354226318243), (3430, 0.02661055625147004), (3431, 0.002425557285875689), (3432, 0.005695462063943271), (3433, 0.008855228672422565), (3434, 0.0032040770784671855), (3435, 0.009623502245186008), (3436, 0.009436644955633185), (3437, 0.018789082796258856), (3438, 0.006316027522613815), (3439, 0.0), (3440, 0.006731627752157736), (3441, 0.0029969108006076104), (3442, 0.0), (3443, 0.006179882304386007), (3444, 0.0), (3445, 0.003338205523277426), (3446, 0.006198613625260487), (3447, 0.0035573523506062994), (3448, 0.007329963153370617), (3449, 0.003732612576468649), (3450, 0.07928698717342836), (3451, 0.006146469744698137), (3452, 0.008122482786106746), (3453, 0.01010011022980392), (3454, 0.0), (3455, 0.0027709493581462878), (3456, 0.005851745853090287), (3457, 0.0), (3458, 0.0035246127889616086), (3459, 0.0), (3460, 0.009429813128788544), (3461, 0.0), (3462, 0.054178208773587845), (3463, 0.03336502488504486), (3464, 0.00996191860737361), (3465, 0.09383509410342417), (3466, 0.023688974276815652), (3467, 0.0), (3468, 0.006219314446817626), (3469, 0.0), (3470, 0.04323154241071183), (3471, 0.007162454609681649), (3472, 0.0), (3473, 0.0), (3474, 0.009229905766867398), (3475, 0.0), (3476, 0.0), (3477, 0.0038499931196335343), (3478, 0.0032864629577480458), (3479, 0.0040380742122022055), (3480, 0.04760013043632206), (3481, 0.0), (3482, 0.0), (3483, 0.02031552605514124), (3484, 0.0054067513564846304), (3485, 0.0), (3486, 0.04829098959620508), (3487, 0.00928768041835879), (3488, 0.03281340304426884), (3489, 0.0), (3490, 0.0), (3491, 0.0032299850776836944), (3492, 0.0033831672961415313), (3493, 0.0033526103963721315), (3494, 0.0), (3495, 0.005519267036286015), (3496, 0.0034410306027492124), (3497, 0.0036386184875884745), (3498, 0.009268283918560419), (3499, 0.009567799716770504), (3500, 0.0029101712593716375), (3501, 0.008619305005792286), (3502, 0.007316868725592462), (3503, 0.0036794998787187025), (3504, 0.01657167714076763), (3505, 0.0), (3506, 0.004800147728228797), (3507, 0.015792177673193037), (3508, 0.009464328298029625), (3509, 0.0), (3510, 0.0), (3511, 0.04778920275412429), (3512, 0.0046432276103260785), (3513, 0.005763092581210941), (3514, 0.01025607841467829), (3515, 0.0), (3516, 0.010411762507522727), (3517, 0.003431648015066036), (3518, 0.041517373836230664), (3519, 0.0), (3520, 0.005861087451479384), (3521, 0.010448606237398041), (3522, 0.0), (3523, 0.0043241294230213926), (3524, 0.003706827875426614), (3525, 0.0), (3526, 0.0033193401198294546), (3527, 0.00312939513868179), (3528, 0.0), (3529, 0.0), (3530, 0.0), (3531, 0.009360944089550976), (3532, 0.0), (3533, 0.0), (3534, 0.00564473163455489), (3535, 0.016457862823680152), (3536, 0.0033891880673809307), (3537, 0.0049192593704091405), (3538, 0.002806188696701338), (3539, 0.0), (3540, 0.003504345761699684), (3541, 0.0032128592626323124), (3542, 0.003032880202430094), (3543, 0.0), (3544, 0.003680956880114278), (3545, 0.0), (3546, 0.0025698049720438584), (3547, 0.0), (3548, 0.0026542568752065975), (3549, 0.0), (3550, 0.0), (3551, 0.00343347316696739), (3552, 0.05125017334965807), (3553, 0.019515975049440283), (3554, 0.0), (3555, 0.006372386692726674), (3556, 0.009878170265800576), (3557, 0.003101167889400534), (3558, 0.002994857762756947), (3559, 0.051572502952040036), (3560, 0.0036411059081343003), (3561, 0.004518437336581584), (3562, 0.0), (3563, 0.0), (3564, 0.003514068022090732), (3565, 0.0036142360895872745), (3566, 0.0), (3567, 0.0), (3568, 0.0), (3569, 0.0033639402898768874), (3570, 0.008646100444959509), (3571, 0.00953788044001699), (3572, 0.042277054615968604), (3573, 0.03033983657974048), (3574, 0.040578377082736115), (3575, 0.0027453100010267034), (3576, 0.005556831528480788), (3577, 0.004750393958134278), (3578, 0.0), (3579, 0.003263148926702187), (3580, 0.0), (3581, 0.0), (3582, 0.014591054052234223), (3583, 0.005870266922415968), (3584, 0.006354784120605231), (3585, 0.0), (3586, 0.00980769820370556), (3587, 0.0036443599698637525), (3588, 0.007396686147257389), (3589, 0.0), (3590, 0.003212707900021007), (3591, 0.0), (3592, 0.0), (3593, 0.003456786923666348), (3594, 0.0), (3595, 0.0), (3596, 0.003360176674673912), (3597, 0.01853432994510568), (3598, 0.0), (3599, 0.0033116807909781805), (3600, 0.0), (3601, 0.0036749770484264125), (3602, 0.005849468441113256), (3603, 0.0), (3604, 0.006920962047768111), (3605, 0.039982279013444685), (3606, 0.0032213408659493015), (3607, 0.0), (3608, 0.00204991234675523), (3609, 0.0), (3610, 0.0), (3611, 0.003828807132379637), (3612, 0.014097492829650423), (3613, 0.0037322299352388157), (3614, 0.0031746212545834935), (3615, 0.0028482883424963317), (3616, 0.004595787031221849), (3617, 0.0), (3618, 0.00972155913313626), (3619, 0.00529962709881779), (3620, 0.003682522327644589), (3621, 0.0035360335148021016), (3622, 0.0), (3623, 0.009501530881113027), (3624, 0.00941554410834645), (3625, 0.0), (3626, 0.002582368645444716), (3627, 0.002784989461943435), (3628, 0.0), (3629, 0.024626647476062753), (3630, 0.0), (3631, 0.0), (3632, 0.0), (3633, 0.0), (3634, 0.00278167325505407), (3635, 0.011523797522028225), (3636, 0.003115618969528757), (3637, 0.01788067778994229), (3638, 0.01314524958942204), (3639, 0.003953777977741035), (3640, 0.019621157301392658), (3641, 0.0031669474140862165), (3642, 0.018959698985767444), (3643, 0.0034455046411849682), (3644, 0.0), (3645, 0.010944849939980206), (3646, 0.0030976411095264256), (3647, 0.003436592569455855), (3648, 0.0), (3649, 0.0), (3650, 0.0), (3651, 0.0038232832938005956), (3652, 0.044282901322859676), (3653, 0.009470286808053216), (3654, 0.0035196501939175322), (3655, 0.0454861439658609), (3656, 0.0401911224838636), (3657, 0.002789588022955059), (3658, 0.009009371743237966), (3659, 0.016928754709465102), (3660, 0.01790117500010241), (3661, 0.009333234970553161), (3662, 0.0), (3663, 0.0), (3664, 0.005601677531631268), (3665, 0.00343014512483273), (3666, 0.009453050366787065), (3667, 0.00284746638563929), (3668, 0.002996998552079259), (3669, 0.002983159391763439), (3670, 0.02036701481750132), (3671, 0.0), (3672, 0.004255903449889135), (3673, 0.0032853658109941643), (3674, 0.012505966725187941), (3675, 0.020354200578399144), (3676, 0.0), (3677, 0.0036920474841938963), (3678, 0.0036931205124755176), (3679, 0.01155487894382124), (3680, 0.009623114961234289), (3681, 0.0), (3682, 0.0), (3683, 0.0), (3684, 0.014520052348133977), (3685, 0.0), (3686, 0.0), (3687, 0.0037744319571762063), (3688, 0.03403503924160611), (3689, 0.0035572104397933136), (3690, 0.0), (3691, 0.0030829779060099582), (3692, 0.009866647446413017), (3693, 0.0), (3694, 0.019042012105853667), (3695, 0.0), (3696, 0.00924460014708095), (3697, 0.0), (3698, 0.0), (3699, 0.020746476967074164), (3700, 0.0), (3701, 0.04081051035667966), (3702, 0.0), (3703, 0.0), (3704, 0.009095724365900412), (3705, 0.009195432276876163), (3706, 0.003286764949783062), (3707, 0.0030790153994154188), (3708, 0.017752438090125583), (3709, 0.0), (3710, 0.006381811142739196), (3711, 0.015398485378545868), (3712, 0.0), (3713, 0.011840466848194158), (3714, 0.003275997834067619), (3715, 0.007095663021331744), (3716, 0.0), (3717, 0.0), (3718, 0.0), (3719, 0.002953885326570193), (3720, 0.036903653255348244), (3721, 0.007286040558377523), (3722, 0.0), (3723, 0.005504288307228886), (3724, 0.0), (3725, 0.002915310661536527), (3726, 0.0), (3727, 0.008427203825571088), (3728, 0.003491443058283861), (3729, 0.003494566814393636), (3730, 0.0), (3731, 0.042381053192043314), (3732, 0.0), (3733, 0.0030656247795912855), (3734, 0.008448167914357041), (3735, 0.0), (3736, 0.0), (3737, 0.0036630494141901694), (3738, 0.0), (3739, 0.003918447192272572), (3740, 0.0), (3741, 0.018650238287382003), (3742, 0.00311645633533511), (3743, 0.0), (3744, 0.006643820559245781), (3745, 0.0034790869538140244), (3746, 0.030505540001004475), (3747, 0.00612160212387574), (3748, 0.0), (3749, 0.0032963253493476148), (3750, 0.0), (3751, 0.03515323446141502), (3752, 0.0), (3753, 0.06087527298602721), (3754, 0.0041339748954974005), (3755, 0.0026678241046099002), (3756, 0.01891452768095347), (3757, 0.0036194097516185405), (3758, 0.0), (3759, 0.0), (3760, 0.0), (3761, 0.0), (3762, 0.003945432876710964), (3763, 0.0042393468424033135), (3764, 0.0), (3765, 0.0035457300538765113), (3766, 0.022703259493596473), (3767, 0.0298218530357238), (3768, 0.01505962698521765), (3769, 0.006395745637637621), (3770, 0.0034960056249501905), (3771, 0.01016413572008699), (3772, 0.0037255232286186606), (3773, 0.030848653154190633), (3774, 0.006595713793083566), (3775, 0.01700848090939151), (3776, 0.005056929699308584), (3777, 0.02024953457878534), (3778, 0.0037398984180006256), (3779, 0.12105322337345416), (3780, 0.010169913877275238), (3781, 0.0031713742131226144), (3782, 0.005973217671577612), (3783, 0.0), (3784, 0.00324474275606614), (3785, 0.0), (3786, 0.0), (3787, 0.006433658158773093), (3788, 0.005371720804215202), (3789, 0.0), (3790, 0.0), (3791, 0.0), (3792, 0.003496902217930968), (3793, 0.05911607437896575), (3794, 0.015613937203654627), (3795, 0.0028952164672030258), (3796, 0.0), (3797, 0.010273735887390945), (3798, 0.0), (3799, 0.0028669693006889148), (3800, 0.0), (3801, 0.016514990172530664), (3802, 0.006630612257643846), (3803, 0.0), (3804, 0.0039941631508810995), (3805, 0.0), (3806, 0.00489220840173219), (3807, 0.018625036474409398), (3808, 0.0), (3809, 0.0030877918407272), (3810, 0.00661823600271998), (3811, 0.003361772923552259), (3812, 0.0), (3813, 0.0037214846459750254), (3814, 0.03710497501716689), (3815, 0.006393835872151033), (3816, 0.0), (3817, 0.0), (3818, 0.0), (3819, 0.017076683089152896), (3820, 0.0), (3821, 0.002964596482033828), (3822, 0.0039035277697965724), (3823, 0.005905867925408069), (3824, 0.00569603313648231), (3825, 0.0), (3826, 0.0035532983062938825), (3827, 0.0029689915925556836), (3828, 0.021495748333884263), (3829, 0.003419537688758936), (3830, 0.0), (3831, 0.0), (3832, 0.003730443509707478), (3833, 0.00604229657609267), (3834, 0.0), (3835, 0.0019975313297515623), (3836, 0.0), (3837, 0.0), (3838, 0.0), (3839, 0.003147870718966603), (3840, 0.0), (3841, 0.008461006495912997), (3842, 0.008546952970789307), (3843, 0.0), (3844, 0.007475260316941834), (3845, 0.003418204799910834), (3846, 0.0), (3847, 0.0), (3848, 0.003836995705349773), (3849, 0.016296416565628073), (3850, 0.03801743609681843), (3851, 0.0), (3852, 0.035745235039414174), (3853, 0.005700342703421746), (3854, 0.07560307031702845), (3855, 0.003258282547613323), (3856, 0.0), (3857, 0.0038036029298269096), (3858, 0.0), (3859, 0.0), (3860, 0.01447887642727852), (3861, 0.0), (3862, 0.02280604888482897), (3863, 0.0029182948272987426), (3864, 0.0), (3865, 0.0), (3866, 0.00383184306253099), (3867, 0.05074257439891841), (3868, 0.03368735362229669), (3869, 0.0), (3870, 0.0), (3871, 0.03542839249151985), (3872, 0.0307464718743369), (3873, 0.0034314802373089843), (3874, 0.0036946313727137174), (3875, 0.003255213464926146), (3876, 0.0084321378596414), (3877, 0.003645128909488706), (3878, 0.004345280710922524), (3879, 0.0), (3880, 0.03115395595135278), (3881, 0.005696131163300315), (3882, 0.003234206317147987), (3883, 0.021679463440074754), (3884, 0.0037561104253079486), (3885, 0.0), (3886, 0.006145123637475186), (3887, 0.0), (3888, 0.013166964514328848), (3889, 0.0035349494437100586), (3890, 0.003393317470520967), (3891, 0.03606971939376926), (3892, 0.003918463511031035), (3893, 0.0034783711587196057), (3894, 0.002708081397699918), (3895, 0.0027461481892907436), (3896, 0.0), (3897, 0.0062885414900425455), (3898, 0.0028652049976229253), (3899, 0.009196122149354136), (3900, 0.0028817192313627107), (3901, 0.011005160220349556), (3902, 0.003130460442110594), (3903, 0.0038804271864456663), (3904, 0.031035672691745297), (3905, 0.01075240424962588), (3906, 0.0037247962329243016), (3907, 0.006155692231030697), (3908, 0.005958824023337068), (3909, 0.0), (3910, 0.008338953601066122), (3911, 0.003559629566974103), (3912, 0.0), (3913, 0.03387076553828024), (3914, 0.0), (3915, 0.0035908069806030946), (3916, 0.028758344155637775), (3917, 0.0030408135528339005), (3918, 0.0), (3919, 0.0032750354238320063), (3920, 0.003262653873781527), (3921, 0.0), (3922, 0.0037386409168492815), (3923, 0.02551322233827552), (3924, 0.013899126178935838), (3925, 0.004503956742115301), (3926, 0.0), (3927, 0.0027135035737910988), (3928, 0.002425587576346943), (3929, 0.0), (3930, 0.0), (3931, 0.0), (3932, 0.0062779163865416395), (3933, 0.0), (3934, 0.0), (3935, 0.003568137948888661), (3936, 0.0), (3937, 0.0), (3938, 0.006422129218430784), (3939, 0.004033532914697423), (3940, 0.0), (3941, 0.011831933969307911), (3942, 0.007397476141013205), (3943, 0.0), (3944, 0.004562355715033036), (3945, 0.008686777741707357), (3946, 0.07758107282478102), (3947, 0.05520529908384609), (3948, 0.0), (3949, 0.01174230049300236), (3950, 0.0), (3951, 0.0038836780762157817), (3952, 0.003473046871320147), (3953, 0.0029346772833032555), (3954, 0.002970395339525231), (3955, 0.0), (3956, 0.012898333828530895), (3957, 0.008372883316876375), (3958, 0.0), (3959, 0.02873833275172121), (3960, 0.010842246290817946), (3961, 0.021088811914971507), (3962, 0.003833141451912154), (3963, 0.03328195673229422), (3964, 0.0), (3965, 0.0), (3966, 0.0052703469081124546), (3967, 0.0033010479546320315), (3968, 0.0), (3969, 0.0), (3970, 0.006316556099208315), (3971, 0.0), (3972, 0.0), (3973, 0.04560098223733443), (3974, 0.008736332301307673), (3975, 0.007775816068922747), (3976, 0.0), (3977, 0.0), (3978, 0.026978226058206968), (3979, 0.0), (3980, 0.0), (3981, 0.0), (3982, 0.0), (3983, 0.042315449711245234), (3984, 0.013945342324973173), (3985, 0.0), (3986, 0.002967972726968549), (3987, 0.0032159476369058777), (3988, 0.0), (3989, 0.005643783248257536), (3990, 0.004175431098722717), (3991, 0.0), (3992, 0.014779783386030476), (3993, 0.01490485918598209), (3994, 0.0), (3995, 0.0068089690939207165), (3996, 0.0), (3997, 0.006426910018712905), (3998, 0.0), (3999, 0.014047275338226174), (4000, 0.017848615763625383), (4001, 0.0), (4002, 0.0037188203476166523), (4003, 0.0), (4004, 0.018528911844055494), (4005, 0.0462837158781503), (4006, 0.0), (4007, 0.014484278311091251), (4008, 0.0), (4009, 0.0), (4010, 0.0), (4011, 0.00332347978630514), (4012, 0.0), (4013, 0.009832406951320571), (4014, 0.0030611548959570602), (4015, 0.0029845136562036104), (4016, 0.0037976964777035166), (4017, 0.004094845481293815), (4018, 0.0), (4019, 0.003925847372668277), (4020, 0.003505330301845485), (4021, 0.0), (4022, 0.0), (4023, 0.004285013651827459), (4024, 0.003770575596342277), (4025, 0.003449835353433903), (4026, 0.0), (4027, 0.0), (4028, 0.0), (4029, 0.0), (4030, 0.003544794196329913), (4031, 0.0), (4032, 0.004618347035986125), (4033, 0.01524646065484959), (4034, 0.0), (4035, 0.029189729008929053), (4036, 0.0032928639199926776), (4037, 0.0), (4038, 0.010274927732381246), (4039, 0.006764892128040005), (4040, 0.0), (4041, 0.0), (4042, 0.003319821269426265), (4043, 0.00611772708432566), (4044, 0.005325685487323947), (4045, 0.01062457837122464), (4046, 0.010259332659086837), (4047, 0.007317798066414415), (4048, 0.012635780083612682), (4049, 0.0034332160637275014), (4050, 0.006640636485793962), (4051, 0.003931438548800412), (4052, 0.003095596569839701), (4053, 0.01172691124300495), (4054, 0.0038160812466296245), (4055, 0.0), (4056, 0.003218685907772957), (4057, 0.0), (4058, 0.0), (4059, 0.0030876091972651103), (4060, 0.012220512176754206), (4061, 0.0), (4062, 0.00426335307136045), (4063, 0.0), (4064, 0.05761925475251126), (4065, 0.0), (4066, 0.0029604415794100107), (4067, 0.0), (4068, 0.020477885992240756), (4069, 0.003135832223059481), (4070, 0.0), (4071, 0.005588358078950911), (4072, 0.0), (4073, 0.0), (4074, 0.003289839170257557), (4075, 0.0034631111146852895), (4076, 0.006786511700513232), (4077, 0.0), (4078, 0.0), (4079, 0.0030740051867266262), (4080, 0.0029043095413851293), (4081, 0.003557211487498436), (4082, 0.0048494750659084694), (4083, 0.003272811657573375), (4084, 0.0), (4085, 0.0033166657434808046), (4086, 0.0), (4087, 0.003574331555498942), (4088, 0.026077827338065955), (4089, 0.010253861048442302), (4090, 0.00648155283052416), (4091, 0.006447651268568432), (4092, 0.010310140100011536), (4093, 0.00917776678635035), (4094, 0.010070004706457004), (4095, 0.015534993926297775), (4096, 0.04965441975572326), (4097, 0.0), (4098, 0.009085016750782333), (4099, 0.0), (4100, 0.0), (4101, 0.003976124512222653), (4102, 0.0038297128435575587), (4103, 0.006682682231753398), (4104, 0.05740347146290368), (4105, 0.009798331359577734), (4106, 0.0057164824901610465), (4107, 0.004567131318490226), (4108, 0.0), (4109, 0.0), (4110, 0.0), (4111, 0.003239020306731633), (4112, 0.0), (4113, 0.003983100010771074), (4114, 0.0), (4115, 0.0), (4116, 0.09627038950685182), (4117, 0.0036532776098353514), (4118, 0.010183608894740138), (4119, 0.006856544041905649), (4120, 0.006369657323014454), (4121, 0.017120066490552123), (4122, 0.01245720927781578), (4123, 0.06762419671855449), (4124, 0.017129704159048055), (4125, 0.0), (4126, 0.0035205060409187923), (4127, 0.0), (4128, 0.02886373408989704), (4129, 0.0029270728293188542), (4130, 0.003682814164626927), (4131, 0.0), (4132, 0.0035324758456618775), (4133, 0.009210877492489984), (4134, 0.007492744480225765), (4135, 0.0034909795369921534), (4136, 0.003359240601384255), (4137, 0.07878711674717721), (4138, 0.0033421702578739537), (4139, 0.00349920529586102), (4140, 0.0035700798854249156), (4141, 0.01092077331838364), (4142, 0.004055446110458758), (4143, 0.0030460138923834), (4144, 0.0), (4145, 0.003531310836394746), (4146, 0.0), (4147, 0.003636431715628583), (4148, 0.0160926640513894), (4149, 0.0), (4150, 0.0), (4151, 0.005703975950007432), (4152, 0.04864558027072324), (4153, 0.0), (4154, 0.008787303463142198), (4155, 0.0031851171585532546), (4156, 0.002988596425289057), (4157, 0.0), (4158, 0.006255446081273578), (4159, 0.0), (4160, 0.03255822759231794), (4161, 0.003246537175816773), (4162, 0.006297338373197439), (4163, 0.009889745047610745), (4164, 0.01612739138276685), (4165, 0.03687529715826667), (4166, 0.0), (4167, 0.0), (4168, 0.0), (4169, 0.003912567247438344), (4170, 0.0), (4171, 0.003001277466013829), (4172, 0.004000811146966838), (4173, 0.0), (4174, 0.0033837766909592328), (4175, 0.03665393491395436), (4176, 0.009125609690114167), (4177, 0.0), (4178, 0.019978987569633705), (4179, 0.0), (4180, 0.0), (4181, 0.0), (4182, 0.002992185959125635), (4183, 0.0033675006391019192), (4184, 0.0), (4185, 0.0), (4186, 0.0), (4187, 0.014680189048688612), (4188, 0.0), (4189, 0.01967796114929423), (4190, 0.0), (4191, 0.0), (4192, 0.012756477161287963), (4193, 0.005294302031469191), (4194, 0.0), (4195, 0.04316420175502666), (4196, 0.0), (4197, 0.0035440532325260615), (4198, 0.0), (4199, 0.0), (4200, 0.0034678719693188725), (4201, 0.0), (4202, 0.004234700929164394), (4203, 0.014902181510914783), (4204, 0.0), (4205, 0.0030423962133870144), (4206, 0.0035659732214019424), (4207, 0.0), (4208, 0.006872795715803275), (4209, 0.0436453643779858), (4210, 0.0), (4211, 0.006616992560799357), (4212, 0.0), (4213, 0.0028711463551717633), (4214, 0.0), (4215, 0.0), (4216, 0.015812397783094748), (4217, 0.0), (4218, 0.0), (4219, 0.007057459421873405), (4220, 0.0029744458428764735), (4221, 0.0040478318987181), (4222, 0.004059177417750685), (4223, 0.0), (4224, 0.0), (4225, 0.003629010651467179), (4226, 0.0), (4227, 0.01541152845731003), (4228, 0.0029871210219664735), (4229, 0.0), (4230, 0.0038804805798758574), (4231, 0.018215048337579944), (4232, 0.01187310928703876), (4233, 0.010086293439703704), (4234, 0.0), (4235, 0.013569233092235174), (4236, 0.0), (4237, 0.0), (4238, 0.0), (4239, 0.0), (4240, 0.006637292305070469), (4241, 0.0), (4242, 0.02309796203089308), (4243, 0.003446609577495442), (4244, 0.019450356393033046), (4245, 0.003213448928211455), (4246, 0.023152116210008886), (4247, 0.00310826310480968), (4248, 0.005954523626915059), (4249, 0.008773125946056223), (4250, 0.0), (4251, 0.006092698138534823), (4252, 0.03839525635709228), (4253, 0.0), (4254, 0.0028887747289361833), (4255, 0.009275633607594648), (4256, 0.0), (4257, 0.0030679609948964493), (4258, 0.0), (4259, 0.0036846047005733387), (4260, 0.0), (4261, 0.0079749885833871), (4262, 0.00382801713625029), (4263, 0.004323928923133531), (4264, 0.005734668164255739), (4265, 0.016045279489643145), (4266, 0.0032414922043012924), (4267, 0.004368408419570243), (4268, 0.012617255441752465), (4269, 0.003598386422874734), (4270, 0.0), (4271, 0.0), (4272, 0.030961090210896037), (4273, 0.0033005242269995906), (4274, 0.0055689137941716), (4275, 0.006015711870019781), (4276, 0.0), (4277, 0.0034423778407745536), (4278, 0.0), (4279, 0.0), (4280, 0.003950081542858075), (4281, 0.007049836805649901), (4282, 0.009191219241864647), (4283, 0.010483046952845309), (4284, 0.010005996740737067), (4285, 0.006446699732320379), (4286, 0.004083740815429561), (4287, 0.0034750830360419783), (4288, 0.029048345659000857), (4289, 0.009925381094345568), (4290, 0.005588781474994528), (4291, 0.0), (4292, 0.0053106911868097875), (4293, 0.014607156518824336), (4294, 0.03259025172668365), (4295, 0.0034423717298209685), (4296, 0.002636502857394907), (4297, 0.0), (4298, 0.0036701094494805513), (4299, 0.009380591174282252), (4300, 0.0), (4301, 0.0022415601898148874), (4302, 0.0), (4303, 0.0), (4304, 0.0029572516446954213), (4305, 0.0), (4306, 0.0037364274794824425), (4307, 0.007172061411492176), (4308, 0.0033181827358145614), (4309, 0.008754815243291199), (4310, 0.005675934351205879), (4311, 0.002457221930865672), (4312, 0.006124028138465561), (4313, 0.0), (4314, 0.0), (4315, 0.0), (4316, 0.0), (4317, 0.0), (4318, 0.003191327599031412), (4319, 0.0), (4320, 0.0031918733530224923), (4321, 0.003857808665074727), (4322, 0.005492179901267149), (4323, 0.0), (4324, 0.0), (4325, 0.015067179286232357), (4326, 0.0027757700020637874), (4327, 0.0), (4328, 0.005502467595900708), (4329, 0.0), (4330, 0.0032981130930040386), (4331, 0.006668722025635584), (4332, 0.0), (4333, 0.0038232051983570787), (4334, 0.00339458852277533), (4335, 0.0), (4336, 0.00312424475683559), (4337, 0.006543942175356393), (4338, 0.0), (4339, 0.005616703078727388), (4340, 0.0035562667590192886), (4341, 0.0), (4342, 0.0), (4343, 0.002843188644967643), (4344, 0.008302450137748352), (4345, 0.0032164313063034167), (4346, 0.0), (4347, 0.0), (4348, 0.003048225897212328), (4349, 0.003295325807303549), (4350, 0.0031332767961962517), (4351, 0.0), (4352, 0.0), (4353, 0.0), (4354, 0.02991056101485485), (4355, 0.0035505862265794923), (4356, 0.0030641443287716475), (4357, 0.003134489366771306), (4358, 0.0), (4359, 0.0034985823378946884), (4360, 0.0060373417772381045), (4361, 0.003408436117805458), (4362, 0.04622233970827539), (4363, 0.0032595207107341583), (4364, 0.0), (4365, 0.006074245893761894), (4366, 0.005631581362013031), (4367, 0.0), (4368, 0.0037967287329092572), (4369, 0.003800015540432036), (4370, 0.0), (4371, 0.0035340408383513432), (4372, 0.0), (4373, 0.0), (4374, 0.01972441690462664), (4375, 0.05144662084457594), (4376, 0.006049854089621589), (4377, 0.006377913250456712), (4378, 0.10387623527561939), (4379, 0.019301989609582036), (4380, 0.015323543030575367), (4381, 0.0032870598369147083), (4382, 0.003354303284162008), (4383, 0.005714211285293651), (4384, 0.0060784443448792), (4385, 0.0), (4386, 0.002611986896709669), (4387, 0.01862276336935338), (4388, 0.0), (4389, 0.07459814531973255), (4390, 0.00876677682761521), (4391, 0.0030138180334538275), (4392, 0.006235841481087462), (4393, 0.0), (4394, 0.0033751075437101763), (4395, 0.003358174675066007), (4396, 0.04809539129331847), (4397, 0.0033363877775465633), (4398, 0.05281856300606519), (4399, 0.003232270247563326), (4400, 0.0038574891030103762), (4401, 0.0036011385926424436), (4402, 0.038166247835470866), (4403, 0.02479150983845373), (4404, 0.0), (4405, 0.0), (4406, 0.0), (4407, 0.004915207887825286), (4408, 0.0), (4409, 0.0030901572585058197), (4410, 0.0), (4411, 0.0027708765337661097), (4412, 0.009942722767601397), (4413, 0.0), (4414, 0.0), (4415, 0.0), (4416, 0.0035521120383221177), (4417, 0.0), (4418, 0.003976323110099549), (4419, 0.0031371958431173864), (4420, 0.003369680019838324), (4421, 0.0), (4422, 0.0031250860479321023), (4423, 0.003916786713088744), (4424, 0.0), (4425, 0.0), (4426, 0.004972552929305674), (4427, 0.0032918978072240725), (4428, 0.0031734914484101233), (4429, 0.0026207102316479474), (4430, 0.008846621976898231), (4431, 0.0099507171906749), (4432, 0.009341282813341224), (4433, 0.0), (4434, 0.0), (4435, 0.012400179406134918), (4436, 0.01632518396017581), (4437, 0.0), (4438, 0.005408806189022956), (4439, 0.0), (4440, 0.011893957248073815), (4441, 0.005482335993028281), (4442, 0.012329854920916148), (4443, 0.04712076578321817), (4444, 0.012515667899395292), (4445, 0.0026208693779792495), (4446, 0.003817806010094039), (4447, 0.0), (4448, 0.003291878738640167), (4449, 0.0), (4450, 0.013628223020367236), (4451, 0.0), (4452, 0.04865211128639545), (4453, 0.0), (4454, 0.0), (4455, 0.0), (4456, 0.0), (4457, 0.0), (4458, 0.003611515703100206), (4459, 0.0), (4460, 0.0), (4461, 0.00291432183960974), (4462, 0.006431321557534578), (4463, 0.0), (4464, 0.0069254917763665064), (4465, 0.02500340062269467), (4466, 0.00615849756330041), (4467, 0.0), (4468, 0.005434328066465176), (4469, 0.014451364320051677), (4470, 0.009463437641161341), (4471, 0.003190898018929613), (4472, 0.0032835389950035473), (4473, 0.0027475934548525597), (4474, 0.020655416105236427), (4475, 0.015241858711715389), (4476, 0.0029618095345746447), (4477, 0.014632236232420614), (4478, 0.0), (4479, 0.0033616989678792518), (4480, 0.0), (4481, 0.016243115025182817), (4482, 0.0), (4483, 0.0), (4484, 0.003987818695608763), (4485, 0.0), (4486, 0.009552956742547655), (4487, 0.003246520038763733), (4488, 0.0613674897480227), (4489, 0.003564732325561639), (4490, 0.011261180501702436), (4491, 0.0), (4492, 0.0), (4493, 0.0), (4494, 0.010363067856109933), (4495, 0.003563873090431538), (4496, 0.0), (4497, 0.003443993031074358), (4498, 0.0), (4499, 0.0), (4500, 0.0), (4501, 0.0031751378100041616), (4502, 0.01220312293901248), (4503, 0.06841807396453317), (4504, 0.0030644760628540527), (4505, 0.0034939048900614732), (4506, 0.0), (4507, 0.003403570588452131), (4508, 0.0), (4509, 0.0), (4510, 0.01632608752670984), (4511, 0.0030511639865341586), (4512, 0.015563803449548778), (4513, 0.0053243760453706365), (4514, 0.006654588181250089), (4515, 0.007143476831770965), (4516, 0.0034548669139794434), (4517, 0.00905659149726646), (4518, 0.007220292496720634), (4519, 0.0), (4520, 0.0029793869658103684), (4521, 0.003731701373555925), (4522, 0.009295968907596987), (4523, 0.009099802544892203), (4524, 0.007196650446561064), (4525, 0.0), (4526, 0.0), (4527, 0.006325959844861712), (4528, 0.003284747558511329), (4529, 0.004054266084977443), (4530, 0.002938236483916654), (4531, 0.020345704567981907), (4532, 0.0), (4533, 0.03823393601330945), (4534, 0.006175210043112133), (4535, 0.0036376874471635233), (4536, 0.003083391593344262), (4537, 0.00715505900534939), (4538, 0.03726625767083716), (4539, 0.0), (4540, 0.003254163192331422), (4541, 0.0), (4542, 0.0), (4543, 0.014058296862521514), (4544, 0.0037732851272552726), (4545, 0.003560460318431821), (4546, 0.010940884047023909), (4547, 0.0), (4548, 0.03784139328944741), (4549, 0.0), (4550, 0.0033634553925512775), (4551, 0.015050550422942344), (4552, 0.005968683738368812), (4553, 0.014753054031465002), (4554, 0.023794339680606257), (4555, 0.004557954128208492), (4556, 0.0), (4557, 0.010325419796212149), (4558, 0.0), (4559, 0.0), (4560, 0.0), (4561, 0.0), (4562, 0.0), (4563, 0.0032648117618460427), (4564, 0.0), (4565, 0.0), (4566, 0.003318489394998851), (4567, 0.0035065992055857923), (4568, 0.0), (4569, 0.0), (4570, 0.0), (4571, 0.004812070628929117), (4572, 0.00371194983320979), (4573, 0.002935898646649148), (4574, 0.0036897968607267147), (4575, 0.0033285805116078622), (4576, 0.01031384319999518), (4577, 0.0), (4578, 0.0), (4579, 0.009179728648189093), (4580, 0.0), (4581, 0.00894274223088546), (4582, 0.00568706149456139), (4583, 0.0), (4584, 0.00404448429621495), (4585, 0.00552415565279887), (4586, 0.005709493138341713), (4587, 0.00607426923989708), (4588, 0.049762378534972514), (4589, 0.004189662391564927), (4590, 0.043526119500724846), (4591, 0.008643742752849232), (4592, 0.0), (4593, 0.010177156177949061), (4594, 0.07910044689075127), (4595, 0.006450272717407664), (4596, 0.0), (4597, 0.0), (4598, 0.0027303123616773486), (4599, 0.0), (4600, 0.0), (4601, 0.010315146411007291), (4602, 0.039927476362614435), (4603, 0.0027995601477909214), (4604, 0.003290687505167545), (4605, 0.0036725360434094294), (4606, 0.004056828859271152), (4607, 0.005345830544975158), (4608, 0.02576529952404878), (4609, 0.0), (4610, 0.011028813619100835), (4611, 0.004036336180195509), (4612, 0.01195816517347843), (4613, 0.0), (4614, 0.10691031788937909), (4615, 0.0), (4616, 0.0027943179326128985), (4617, 0.015817595241985696), (4618, 0.0), (4619, 0.014066537087776415), (4620, 0.0029969904998985984), (4621, 0.006087267657826896), (4622, 0.0), (4623, 0.01522039927122249), (4624, 0.010583750330590232), (4625, 0.003140889014658962), (4626, 0.0026474670215713586), (4627, 0.0036074088449368894), (4628, 0.0), (4629, 0.00945421629397291), (4630, 0.0066331157133451765), (4631, 0.0), (4632, 0.0035695588211942203), (4633, 0.003731161818762678), (4634, 0.0032538197118808006), (4635, 0.0), (4636, 0.0028051147568145317), (4637, 0.020258693414859176), (4638, 0.002924601612102874), (4639, 0.006444422989519955), (4640, 0.0033144281017525824), (4641, 0.003147550187413546), (4642, 0.006431887028304081), (4643, 0.0038147489902919), (4644, 0.0), (4645, 0.033769986818146934), (4646, 0.007328515760112439), (4647, 0.0), (4648, 0.0), (4649, 0.003321968244373036), (4650, 0.004012207678086636), (4651, 0.0), (4652, 0.0028459778451937236), (4653, 0.007294540500307763), (4654, 0.0), (4655, 0.0), (4656, 0.010654468472267345), (4657, 0.003235042897766388), (4658, 0.020581996835553243), (4659, 0.032248437466337), (4660, 0.011516403870935263), (4661, 0.008132607028737067), (4662, 0.0), (4663, 0.043471552058323606), (4664, 0.011479821212963412), (4665, 0.006100165847212015), (4666, 0.007446905231931558), (4667, 0.0), (4668, 0.03406976621987112), (4669, 0.019621656183815808), (4670, 0.008725260401612957), (4671, 0.0), (4672, 0.0), (4673, 0.018648420881871422), (4674, 0.0075986056419245634), (4675, 0.0), (4676, 0.0), (4677, 0.009718756468809691), (4678, 0.006342068101530677), (4679, 0.01577029297221362), (4680, 0.0034915073512101686), (4681, 0.0), (4682, 0.032910907968605595), (4683, 0.0), (4684, 0.01659875210809605), (4685, 0.003276482837924978), (4686, 0.0033536586070908392), (4687, 0.0033168607591713365), (4688, 0.0), (4689, 0.005683487258142132), (4690, 0.0), (4691, 0.007438745929953057), (4692, 0.003991071260183219), (4693, 0.0029418379538405206), (4694, 0.0035495803514805383), (4695, 0.005536539857807455), (4696, 0.003944584411502685), (4697, 0.006607129432753477), (4698, 0.006636884113503682), (4699, 0.010859856938051572), (4700, 0.0), (4701, 0.011755506478718468), (4702, 0.0), (4703, 0.04644453451103111), (4704, 0.004137346167001161), (4705, 0.004329959273145888), (4706, 0.003364386335014945), (4707, 0.011050686594052046), (4708, 0.005974982320660921), (4709, 0.01904020098891808), (4710, 0.01077939396656207), (4711, 0.0), (4712, 0.003042553585546355), (4713, 0.0035001328266539653), (4714, 0.0), (4715, 0.009312162030243471), (4716, 0.0), (4717, 0.003568613183513344), (4718, 0.003395297678562932), (4719, 0.025725986190425962), (4720, 0.0), (4721, 0.04953107495934732), (4722, 0.02163474900613825), (4723, 0.0036940091234222657), (4724, 0.05618381170920385), (4725, 0.0), (4726, 0.0), (4727, 0.03647103610455635), (4728, 0.0), (4729, 0.0029077397239033005), (4730, 0.0), (4731, 0.010630444396884136), (4732, 0.003927950076312754), (4733, 0.008496148074155621), (4734, 0.003271403312203382), (4735, 0.021812726727569405), (4736, 0.0), (4737, 0.0), (4738, 0.0), (4739, 0.08904218253791343), (4740, 0.0), (4741, 0.0), (4742, 0.0), (4743, 0.0032273355193209057), (4744, 0.0024199313493743265), (4745, 0.0), (4746, 0.006240080945278205), (4747, 0.017623667301489385), (4748, 0.002879596829076249), (4749, 0.004063325631339652), (4750, 0.0), (4751, 0.0), (4752, 0.0023536650480830007), (4753, 0.0034533708503740987), (4754, 0.0), (4755, 0.0), (4756, 0.003640956895470698), (4757, 0.010236761448636571), (4758, 0.0), (4759, 0.0)]\n"
          ]
        }
      ]
    },
    {
      "cell_type": "code",
      "source": [
        "len(Recommendation_Score)"
      ],
      "metadata": {
        "colab": {
          "base_uri": "https://localhost:8080/"
        },
        "id": "OAbSc3ODtzFb",
        "outputId": "3fe722b9-328b-40b6-c333-6e9b6e753030"
      },
      "execution_count": 42,
      "outputs": [
        {
          "output_type": "execute_result",
          "data": {
            "text/plain": [
              "4760"
            ]
          },
          "metadata": {},
          "execution_count": 42
        }
      ]
    },
    {
      "cell_type": "markdown",
      "source": [
        "# **Get All Movies Sort Based on Recommendation Score wrt Favourite Movie**"
      ],
      "metadata": {
        "id": "qbyYQps6t7Em"
      }
    },
    {
      "cell_type": "code",
      "source": [
        "# Sorting the movie based on their similarity score\n",
        "\n",
        "Sorted_Similarity_Movies = sorted(Recommendation_Score, key = lambda x:x[1], reverse=True )"
      ],
      "metadata": {
        "id": "Q-j1c4Rst5SC"
      },
      "execution_count": 43,
      "outputs": []
    },
    {
      "cell_type": "code",
      "source": [
        "print(Sorted_Similarity_Movies)"
      ],
      "metadata": {
        "colab": {
          "base_uri": "https://localhost:8080/"
        },
        "id": "j3AFoptxuRo0",
        "outputId": "fd379687-a7c3-4dc6-dedf-72fb02fcef98"
      },
      "execution_count": 44,
      "outputs": [
        {
          "output_type": "stream",
          "name": "stdout",
          "text": [
            "[(2692, 1.0000000000000002), (3276, 0.1418297055859409), (2903, 0.1392652497725169), (45, 0.1353426091066774), (3779, 0.12105322337345416), (1647, 0.11997741691762638), (2558, 0.11712393171149404), (3053, 0.11436347276390944), (110, 0.10963491961337665), (628, 0.10780376064756474), (4614, 0.10691031788937909), (1977, 0.10549209587113169), (4378, 0.10387623527561939), (1070, 0.09872556168218248), (1982, 0.09671415844548989), (4116, 0.09627038950685182), (3465, 0.09383509410342417), (1886, 0.08966817746750592), (4739, 0.08904218253791343), (455, 0.08790699149479661), (84, 0.08370653233617537), (3248, 0.07931987815946462), (3450, 0.07928698717342836), (4594, 0.07910044689075127), (4137, 0.07878711674717721), (3946, 0.07758107282478102), (3385, 0.07734725162509856), (2985, 0.07709418396000331), (3854, 0.07560307031702845), (1118, 0.07514671163495976), (424, 0.07470553739058952), (4389, 0.07459814531973255), (254, 0.07415254419657563), (2112, 0.07407459103549646), (3010, 0.07357490894509884), (590, 0.07022634341843544), (3334, 0.06950120383805426), (1102, 0.06925806272899022), (2358, 0.06923596359294609), (4503, 0.06841807396453317), (4123, 0.06762419671855449), (384, 0.06423562980304773), (1021, 0.06417787742631666), (479, 0.06407186071357585), (2318, 0.06279885850200988), (2295, 0.0627756270210695), (360, 0.06247577502502885), (2214, 0.061430613662812494), (4488, 0.0613674897480227), (3753, 0.06087527298602721), (3360, 0.060745731792325966), (761, 0.06033192696719588), (277, 0.06028249192992757), (1148, 0.05997829760140941), (3427, 0.05960732223766812), (3203, 0.0593883249230829), (3408, 0.05917449885130281), (3793, 0.05911607437896575), (637, 0.05908325493998051), (2530, 0.05788327712795211), (2630, 0.05785650954953856), (4064, 0.05761925475251126), (673, 0.057439046696669015), (4104, 0.05740347146290368), (2579, 0.056763726633147986), (2321, 0.0566690437054569), (2012, 0.056646551212024325), (2971, 0.05658847811451703), (1821, 0.05641840952178761), (904, 0.056292281195899914), (682, 0.05623255630269887), (4724, 0.05618381170920385), (3947, 0.05520529908384609), (1320, 0.05511616287967927), (408, 0.05510707714750012), (2026, 0.05481511269885756), (1809, 0.05448235147155771), (3462, 0.054178208773587845), (89, 0.054163444147426944), (3351, 0.053418025408976964), (3137, 0.05327781081024964), (4398, 0.05281856300606519), (172, 0.052316772703767334), (2694, 0.051925408044363276), (3559, 0.051572502952040036), (2716, 0.05153397548999042), (2540, 0.05151230325917779), (4375, 0.05144662084457594), (3023, 0.051257079554848664), (2893, 0.05125700814732667), (3552, 0.05125017334965807), (774, 0.0510460303277776), (62, 0.05079197417765932), (3867, 0.05074257439891841), (632, 0.05021063784248724), (4588, 0.049762378534972514), (4096, 0.04965441975572326), (4721, 0.04953107495934732), (830, 0.04935561092682171), (1024, 0.048998142779481654), (3315, 0.04895154554600282), (3249, 0.048755412078126364), (694, 0.04872178600069613), (4452, 0.04865211128639545), (4152, 0.04864558027072324), (2212, 0.04860433463378065), (2846, 0.048480786178210514), (3486, 0.04829098959620508), (1085, 0.04826861230927027), (1970, 0.048266364915858034), (4396, 0.04809539129331847), (2123, 0.048018684238778836), (1236, 0.04798500112086562), (161, 0.04795440865938095), (2417, 0.047933590117376), (2375, 0.04786679628823677), (2187, 0.04783026386131655), (3511, 0.04778920275412429), (3480, 0.04760013043632206), (1878, 0.04757838473662879), (2316, 0.04719540633979786), (1702, 0.047133407956447), (4443, 0.04712076578321817), (185, 0.046853655032496555), (1991, 0.04684460790934437), (615, 0.04655210824370197), (4703, 0.04644453451103111), (210, 0.04643415871527661), (3280, 0.0464288340905696), (282, 0.04642645732503345), (2147, 0.046392244199302525), (1652, 0.04630562159341165), (4005, 0.0462837158781503), (4362, 0.04622233970827539), (1994, 0.04612087145755028), (67, 0.04600992891358392), (3973, 0.04560098223733443), (1363, 0.04555426861794812), (3655, 0.0454861439658609), (1311, 0.04478143480358805), (3395, 0.04472208328335779), (2018, 0.0447210176627383), (3330, 0.04471754327113738), (1351, 0.044668954268710995), (2371, 0.04460004794583058), (2308, 0.04458067097175964), (2476, 0.04452514052630453), (1257, 0.044513806689775705), (1383, 0.04432357647019924), (3652, 0.044282901322859676), (2155, 0.04425704501296057), (2122, 0.04383507562700999), (1063, 0.043806331589188965), (4209, 0.0436453643779858), (874, 0.043617526162888755), (4590, 0.043526119500724846), (4663, 0.043471552058323606), (3091, 0.043416004286751866), (3470, 0.04323154241071183), (3409, 0.04317716653206738), (4195, 0.04316420175502666), (935, 0.04315719377963537), (213, 0.04303185030614169), (2014, 0.04301098830437911), (2859, 0.04290770201859344), (873, 0.042873704039710914), (2782, 0.04279933041866873), (2981, 0.04247896244018897), (3731, 0.042381053192043314), (1837, 0.04236453010748775), (2100, 0.04235446259598705), (3983, 0.042315449711245234), (381, 0.04230098751084006), (3572, 0.042277054615968604), (1134, 0.04223520663052775), (138, 0.042165172870471945), (1030, 0.04203188439685986), (1137, 0.04195183410204468), (3518, 0.041517373836230664), (3004, 0.04151624921996062), (328, 0.04150176606390927), (1369, 0.04108977123010989), (2802, 0.041056533623900625), (2710, 0.040949087142576536), (179, 0.04094809603095818), (2082, 0.040939221138161744), (3701, 0.04081051035667966), (65, 0.04066753963879694), (3574, 0.040578377082736115), (1362, 0.040439245881851646), (3255, 0.04033991680548078), (3428, 0.04023491685371366), (3656, 0.0401911224838636), (421, 0.040138388108027355), (2413, 0.04008882840563813), (3605, 0.039982279013444685), (4602, 0.039927476362614435), (1482, 0.0398217969273291), (387, 0.039751329139631426), (1713, 0.0395375458468278), (721, 0.039403208552830485), (836, 0.039329790581955654), (3373, 0.039164536087382434), (284, 0.039049357704320664), (522, 0.03883506949598106), (167, 0.038452820111570925), (2365, 0.03845240963616563), (462, 0.03842602648192277), (4252, 0.03839525635709228), (519, 0.0382851560013547), (4533, 0.03823393601330945), (2920, 0.0382001856343417), (4402, 0.038166247835470866), (2944, 0.03807098340748526), (3850, 0.03801743609681843), (1675, 0.03798337910378083), (4548, 0.03784139328944741), (1059, 0.03778066026801258), (2102, 0.03768900884054773), (1973, 0.03760204107770781), (250, 0.03753003350354256), (3325, 0.03750863709486138), (1990, 0.03742836096645915), (2760, 0.037289730995106816), (4538, 0.03726625767083716), (823, 0.037243980734570595), (2109, 0.03722584339661704), (3814, 0.03710497501716689), (2868, 0.03704919953754067), (2745, 0.03695832962129967), (1885, 0.03690963299461899), (3720, 0.036903653255348244), (1530, 0.03688927443043723), (4165, 0.03687529715826667), (1261, 0.036794821880642245), (430, 0.03678349165227504), (1976, 0.03672644403340142), (1499, 0.036694326608806074), (2723, 0.03668571872456284), (4175, 0.03665393491395436), (3167, 0.036611711192389346), (1398, 0.03651024730582246), (1430, 0.03649751074198087), (3326, 0.03647845230030458), (4727, 0.03647103610455635), (547, 0.036210494069628535), (240, 0.03620075127308048), (3891, 0.03606971939376926), (2614, 0.03599257637507245), (710, 0.035756903492164885), (3852, 0.035745235039414174), (2972, 0.03572353581605924), (2467, 0.035552027564450445), (2449, 0.03555099015265393), (3871, 0.03542839249151985), (1634, 0.03535298841454382), (3260, 0.03523710659500079), (3174, 0.035165268162684706), (3751, 0.03515323446141502), (2887, 0.0350207194911991), (3146, 0.03499148171871081), (2912, 0.034969830965443746), (241, 0.03492279156726387), (788, 0.03472149689021592), (1720, 0.03471465463489149), (3328, 0.03467859198413193), (3154, 0.03454159628793937), (852, 0.03436380442427582), (858, 0.034306773994933315), (1060, 0.034240119697456425), (2646, 0.034235187427273835), (3028, 0.0342051993254077), (2687, 0.03417783105043786), (2718, 0.03416370444263567), (885, 0.03409570403047433), (4668, 0.03406976621987112), (3688, 0.03403503924160611), (3913, 0.03387076553828024), (257, 0.033783931480771), (4645, 0.033769986818146934), (3868, 0.03368735362229669), (693, 0.03361747077519916), (2761, 0.0335447880871042), (1560, 0.03353058069675196), (1205, 0.033518904008109134), (2706, 0.03348639945477521), (3463, 0.03336502488504486), (1146, 0.033304380441603595), (3963, 0.03328195673229422), (1749, 0.0330973426668304), (459, 0.033055171249242524), (1763, 0.03301543604314033), (4682, 0.032910907968605595), (1770, 0.032898109861054944), (2343, 0.03287957763578707), (3488, 0.03281340304426884), (4294, 0.03259025172668365), (4160, 0.03255822759231794), (903, 0.03240867773350669), (176, 0.032394930350898694), (4659, 0.032248437466337), (3156, 0.03224424045255934), (812, 0.032222803926056164), (593, 0.03200317183567743), (2822, 0.03191024517718696), (1195, 0.031889417516401834), (1283, 0.03174386695633902), (1186, 0.031689197697851466), (2699, 0.031598385618535), (1757, 0.03134952083369085), (2408, 0.03130832858615856), (1999, 0.031205851097066768), (3880, 0.03115395595135278), (3083, 0.031093099675597646), (2210, 0.031053681919951576), (3904, 0.031035672691745297), (4272, 0.030961090210896037), (1181, 0.030955346882669335), (1358, 0.030943066456539783), (3773, 0.030848653154190633), (1057, 0.030842442326669512), (3017, 0.030835348116893577), (3872, 0.0307464718743369), (155, 0.030665578655409514), (2198, 0.030663441159959233), (2394, 0.030615768824918097), (3746, 0.030505540001004475), (787, 0.03034594346139989), (3573, 0.03033983657974048), (3068, 0.03032810994838865), (2517, 0.030277364003802796), (2950, 0.03003394965819368), (4354, 0.02991056101485485), (3767, 0.0298218530357238), (2048, 0.029734925801563783), (68, 0.029734330566190906), (1752, 0.029705076625412614), (3362, 0.029414994130153634), (25, 0.029404526734989916), (2294, 0.029388758983224655), (2908, 0.029315485758585596), (2713, 0.029231606430744447), (4035, 0.029189729008929053), (428, 0.029162968971078028), (4288, 0.029048345659000857), (2157, 0.028999301896085194), (618, 0.02892059607543383), (4128, 0.02886373408989704), (3916, 0.028758344155637775), (3959, 0.02873833275172121), (1095, 0.02870189937655845), (2173, 0.028586074046731653), (174, 0.028514144450846317), (398, 0.028458882009844828), (672, 0.028389511215563754), (2649, 0.028041003602051178), (1241, 0.027870738955714614), (766, 0.02775544181182069), (383, 0.027436553782755876), (1098, 0.027234830953014207), (3319, 0.02714882600751625), (3978, 0.026978226058206968), (2767, 0.02678750161948279), (3254, 0.02677540393614348), (3430, 0.02661055625147004), (4088, 0.026077827338065955), (2276, 0.025955173814707477), (917, 0.025928022214117896), (2013, 0.02581467488511689), (4608, 0.02576529952404878), (4719, 0.025725986190425962), (3923, 0.02551322233827552), (1397, 0.025019605652443426), (4465, 0.02500340062269467), (1657, 0.024855025867483088), (4403, 0.02479150983845373), (3629, 0.024626647476062753), (3097, 0.02441716625795776), (2795, 0.0242713556014151), (123, 0.024101129947006212), (3275, 0.02407773047135427), (641, 0.023982836715346137), (4554, 0.023794339680606257), (3466, 0.023688974276815652), (3306, 0.02365351980015098), (2020, 0.023494895047520507), (2768, 0.02348734255280157), (3043, 0.0231626379875972), (4246, 0.023152116210008886), (4242, 0.02309796203089308), (2406, 0.023041891254081383), (947, 0.022998660357879827), (3862, 0.02280604888482897), (3766, 0.022703259493596473), (2932, 0.022555156896522426), (458, 0.022423014197561333), (1115, 0.022358047185861405), (481, 0.022193928329588563), (2037, 0.02213159509462039), (1335, 0.022033307902743472), (1572, 0.021843768179735133), (643, 0.02184198622745939), (4735, 0.021812726727569405), (3883, 0.021679463440074754), (4722, 0.02163474900613825), (2196, 0.02157880019332441), (1325, 0.021578569176780915), (109, 0.02155874236059803), (1983, 0.021550109108359323), (2638, 0.021535598537010453), (3828, 0.021495748333884263), (2154, 0.02147020797504578), (1015, 0.02142184174423816), (622, 0.021397841903708227), (2996, 0.021319726630831305), (2668, 0.021259254757242822), (2645, 0.02124218205618559), (3370, 0.021242154135259095), (2254, 0.021213170234110013), (1997, 0.02115212306657778), (2023, 0.021118728536752545), (3961, 0.021088811914971507), (1224, 0.020902185109733795), (676, 0.020892069962327744), (447, 0.020887091935049538), (888, 0.02079577588039707), (3699, 0.020746476967074164), (879, 0.02074409761775669), (896, 0.02073752435522344), (87, 0.02069704342729752), (124, 0.020662138732898613), (4474, 0.020655416105236427), (2229, 0.020641348866365095), (1064, 0.0206353962215522), (4658, 0.020581996835553243), (4068, 0.020477885992240756), (701, 0.02046506374593184), (878, 0.02045282492101825), (1716, 0.020449247423954126), (1275, 0.020416364018885247), (3670, 0.02036701481750132), (3675, 0.020354200578399144), (4531, 0.020345704567981907), (2053, 0.02033512858031368), (3483, 0.02031552605514124), (3086, 0.02030964399745195), (675, 0.020306206729293137), (1509, 0.020305784685390828), (2910, 0.020290750515257805), (4637, 0.020258693414859176), (3777, 0.02024953457878534), (1184, 0.02020483759399594), (2040, 0.020192907091720773), (2522, 0.020189048043945022), (584, 0.020136696083247654), (502, 0.0201275314594732), (1478, 0.020105429212933325), (450, 0.020067837366404783), (678, 0.020067829177131388), (988, 0.02004456311931417), (1141, 0.02001029255685509), (2777, 0.020008217415490838), (1248, 0.01998831014432921), (4178, 0.019978987569633705), (21, 0.019926379149077425), (1481, 0.019894317613119092), (3019, 0.019857357216886473), (2284, 0.019837401997709708), (1132, 0.01983510001790848), (937, 0.019834822809491545), (48, 0.01977562337421779), (4374, 0.01972441690462664), (1337, 0.019709909609611727), (4189, 0.01967796114929423), (1483, 0.019651121643348715), (2919, 0.019645034251915335), (4669, 0.019621656183815808), (3640, 0.019621157301392658), (543, 0.019610672070685453), (928, 0.019607125855994098), (860, 0.019566770530712246), (1252, 0.01956464134278796), (1967, 0.019539888197433318), (3553, 0.019515975049440283), (876, 0.01947542495657598), (18, 0.019470639197998456), (4244, 0.019450356393033046), (1017, 0.019448156100601077), (3374, 0.01942602569246822), (3377, 0.01938668549684783), (2447, 0.019358288069960553), (2096, 0.019355948620990535), (51, 0.019354473201843348), (2216, 0.01934110916722308), (166, 0.0193265882509384), (2771, 0.019322574005580167), (2815, 0.01931079199299855), (4379, 0.019301989609582036), (853, 0.01927427818844689), (370, 0.019269282554450838), (2487, 0.019249525232528965), (1119, 0.019237022107696407), (1740, 0.019223515742544887), (236, 0.01921721999631451), (533, 0.019201363004701197), (1687, 0.01919638356845088), (1629, 0.01917215700553145), (3012, 0.019144125907673414), (2925, 0.019100220213593713), (2224, 0.019086190430906615), (1985, 0.019050836291992355), (3694, 0.019042012105853667), (4709, 0.01904020098891808), (1506, 0.01901415872637044), (870, 0.01899868883613664), (3642, 0.018959698985767444), (1385, 0.018953357305380086), (3756, 0.01891452768095347), (1232, 0.018892057345014392), (2235, 0.01889151602988131), (2695, 0.01888618445567334), (1678, 0.018878633643285285), (2070, 0.01881800557063015), (2784, 0.018815298930326473), (2617, 0.018806687081691524), (3437, 0.018789082796258856), (2334, 0.018719722439333716), (1942, 0.018652079188739117), (3110, 0.018650814807496488), (3741, 0.018650238287382003), (4673, 0.018648420881871422), (181, 0.018640801120874812), (429, 0.01863929341249651), (2275, 0.018629848576577505), (3807, 0.018625036474409398), (1237, 0.018623510574338604), (4387, 0.01862276336935338), (2808, 0.018582668893670454), (3597, 0.01853432994510568), (1107, 0.018530313965697515), (4004, 0.018528911844055494), (542, 0.01851242946855311), (652, 0.018487378254630545), (2885, 0.018458524269051875), (534, 0.018412076772323316), (653, 0.01840849624836232), (989, 0.018380611720272933), (3384, 0.01837070470882782), (2486, 0.018369747148833205), (463, 0.01833072647760047), (2383, 0.01830011370486781), (669, 0.018280915174608448), (1621, 0.018268885615721403), (753, 0.01823986572178905), (3210, 0.01823963231263965), (4231, 0.018215048337579944), (276, 0.018208006642681178), (3312, 0.0181629103017415), (875, 0.018161367458747305), (905, 0.018122751020168946), (500, 0.018110771414278685), (1853, 0.018035294241685366), (842, 0.018015308334565567), (3318, 0.017981158777155927), (1343, 0.01797925067018016), (112, 0.017972262506382126), (1058, 0.01794659624713628), (3660, 0.01790117500010241), (3637, 0.01788067778994229), (2412, 0.017879911675064142), (3142, 0.017875230781231606), (1739, 0.017859129326567757), (1417, 0.017848916653537748), (4000, 0.017848615763625383), (799, 0.017846940594028776), (2751, 0.01783428926674737), (3708, 0.017752438090125583), (1680, 0.0177014327408263), (1667, 0.017643091415645774), (4747, 0.017623667301489385), (147, 0.01761340796737599), (1303, 0.017611184166218062), (2024, 0.01759425000263094), (1815, 0.017553457452415315), (530, 0.017540257651771727), (1047, 0.017479011745245788), (1671, 0.017440430607716533), (2939, 0.01743670057684072), (2066, 0.01737497334613801), (1035, 0.017370790340539302), (560, 0.01731779337518894), (1436, 0.017287497889764497), (2174, 0.017281865370385615), (207, 0.01728090542000542), (1542, 0.01727857512939559), (1360, 0.017275034527706942), (3403, 0.017245093258851152), (3076, 0.01719939008784481), (52, 0.01719607904728221), (4124, 0.017129704159048055), (4121, 0.017120066490552123), (866, 0.01711095002694516), (199, 0.017103126849855457), (760, 0.01709175096324221), (3819, 0.017076683089152896), (1183, 0.017068324270556684), (825, 0.01706680442161756), (1665, 0.017060454207841143), (3775, 0.01700848090939151), (986, 0.017004045638357924), (145, 0.016991718560364515), (418, 0.016985164257037267), (1595, 0.01698460914763847), (1796, 0.016977526482966254), (2963, 0.016929678100212484), (3659, 0.016928754709465102), (137, 0.016909487581281676), (2727, 0.01686943390291773), (604, 0.016812211012763485), (501, 0.01681012098569077), (1681, 0.01675867275653632), (2621, 0.016715490207798514), (2978, 0.016686611752099387), (1061, 0.016676056702205608), (304, 0.016675283913408275), (1989, 0.016639684763553476), (1419, 0.016619055578478335), (4684, 0.01659875210809605), (3504, 0.01657167714076763), (1412, 0.01656998075546956), (2961, 0.016537068290427746), (2607, 0.016525373843876215), (915, 0.016515774076170248), (3801, 0.016514990172530664), (1000, 0.016489849343137995), (1292, 0.016475588277706014), (1471, 0.01646644591740852), (3535, 0.016457862823680152), (1774, 0.016454422038386353), (148, 0.016394504952954685), (4510, 0.01632608752670984), (4436, 0.01632518396017581), (532, 0.01631040967184382), (3849, 0.016296416565628073), (942, 0.016264845348678995), (1949, 0.01626097450810661), (4481, 0.016243115025182817), (201, 0.016186748650786793), (918, 0.016179401762327583), (70, 0.016173676251983973), (4164, 0.01612739138276685), (4148, 0.0160926640513894), (621, 0.01607614831332091), (4265, 0.016045279489643145), (654, 0.01604209661345164), (334, 0.01603248968546593), (1162, 0.01595744919996658), (1104, 0.01592615758641742), (829, 0.015906287136917368), (3085, 0.015884224867105758), (1591, 0.015874441724075053), (1432, 0.015859569234806976), (1054, 0.015857577512447877), (1074, 0.015840709939791184), (4617, 0.015817595241985696), (976, 0.01581475059171974), (4216, 0.015812397783094748), (3232, 0.01579824172475739), (3507, 0.015792177673193037), (3119, 0.015776339206715978), (190, 0.015773658934927257), (4679, 0.01577029297221362), (1314, 0.015760916502574312), (916, 0.015753783209693555), (2788, 0.015671631156300655), (2780, 0.01564279326959174), (3794, 0.015613937203654627), (1185, 0.015577782503159927), (2178, 0.015574509740219882), (4512, 0.015563803449548778), (1958, 0.01554224092927381), (1230, 0.015536665246695633), (4095, 0.015534993926297775), (689, 0.015482784519153706), (2742, 0.01542195706114762), (144, 0.015421743454249286), (4227, 0.01541152845731003), (3711, 0.015398485378545868), (2697, 0.015363049305613396), (83, 0.015349410569920296), (1377, 0.01534463611244129), (931, 0.01534056075773925), (1226, 0.015337779583372027), (4380, 0.015323543030575367), (1455, 0.015315877962864502), (1789, 0.015301808018333541), (2918, 0.015274727033678295), (2625, 0.015257467885053371), (4033, 0.01524646065484959), (4475, 0.015241858711715389), (4623, 0.01522039927122249), (1992, 0.015202955732131634), (1018, 0.01516849892999209), (1406, 0.015139983758731993), (939, 0.015129356330549768), (291, 0.015108607122338632), (4325, 0.015067179286232357), (3768, 0.01505962698521765), (2280, 0.015052625283274404), (4551, 0.015050550422942344), (2913, 0.015033370468920034), (3267, 0.015007772085071414), (2429, 0.014981632193761954), (3045, 0.014955737707546728), (2250, 0.014938174688538822), (1694, 0.01493742128418045), (2346, 0.014934712926701052), (1173, 0.014919140292974514), (1937, 0.014905288452178516), (3993, 0.01490485918598209), (4203, 0.014902181510914783), (244, 0.01487067921554524), (3992, 0.014779783386030476), (2057, 0.014778758368093371), (2602, 0.014765494799674532), (4553, 0.014753054031465002), (1300, 0.014737925159206145), (801, 0.014729406653158531), (2791, 0.014718000872187786), (2119, 0.014714132849401266), (790, 0.014697474021546267), (3317, 0.0146928623197571), (3297, 0.014689073764269147), (4187, 0.014680189048688612), (2524, 0.014646166474993033), (1387, 0.014638480161149617), (3382, 0.014634446053384544), (2336, 0.014633719076869438), (4477, 0.014632236232420614), (2739, 0.01462645714764458), (2097, 0.014616294299173894), (4293, 0.014607156518824336), (3416, 0.01459595625464696), (3582, 0.014591054052234223), (667, 0.014587133374366724), (695, 0.014560615030346245), (806, 0.014547307640897997), (3684, 0.014520052348133977), (4007, 0.014484278311091251), (3860, 0.01447887642727852), (4469, 0.014451364320051677), (72, 0.01443478625123024), (149, 0.01442919267492662), (3070, 0.014422483637281255), (1832, 0.014331643928844277), (683, 0.014309121000641419), (1068, 0.0143033843290356), (342, 0.014259978665846221), (333, 0.014239887349211841), (1442, 0.014238744213437975), (827, 0.01422579662022461), (47, 0.01419337235006094), (485, 0.014167550020843146), (1858, 0.014120245841038645), (692, 0.014114544345243535), (2206, 0.014105139150897042), (3612, 0.014097492829650423), (4619, 0.014066537087776415), (4543, 0.014058296862521514), (1259, 0.014053240577310777), (3999, 0.014047275338226174), (435, 0.013977636751633136), (3984, 0.013945342324973173), (2555, 0.01393465691524024), (629, 0.013911735768804433), (3924, 0.013899126178935838), (170, 0.013861140437113851), (1092, 0.013860625633544617), (1736, 0.013829135798444346), (274, 0.013817044423015713), (1334, 0.013772873936058421), (2126, 0.013772508945816483), (668, 0.01373845756336288), (1923, 0.013715552463007655), (1264, 0.013702972173020867), (3118, 0.013699855251618494), (544, 0.013690230917560673), (2512, 0.013683540262916547), (4450, 0.013628223020367236), (142, 0.013622900942093723), (1348, 0.013608497435098834), (1874, 0.013604535514421628), (1339, 0.013586616843522071), (4235, 0.013569233092235174), (2162, 0.013561422212116474), (1053, 0.013561278658166271), (216, 0.013538944237656753), (88, 0.013522447458291554), (99, 0.013520721187628688), (1754, 0.013514110498746533), (792, 0.013510979626237676), (2110, 0.013506228068720748), (2871, 0.013501153588868782), (417, 0.013464467380271477), (3099, 0.01343466810649355), (1776, 0.013348888885229417), (3095, 0.01334745695682234), (1234, 0.013338251091253174), (1527, 0.013319439763278318), (2016, 0.013292552565252415), (1781, 0.01327954363362805), (2029, 0.013211738519757559), (994, 0.013210396690045556), (270, 0.013204041534308915), (206, 0.013180331846087323), (3888, 0.013166964514328848), (126, 0.013166643029339115), (483, 0.013161126714934374), (3638, 0.01314524958942204), (43, 0.013141225254392205), (111, 0.013098663906991825), (757, 0.013091558911222182), (209, 0.013086950955017483), (2546, 0.013063581318503695), (2093, 0.013035066332228357), (281, 0.013026165532562785), (173, 0.013002104662914574), (3956, 0.012898333828530895), (1582, 0.012897989962716315), (105, 0.012877139892641084), (1440, 0.012863602209397206), (1971, 0.012862641500270368), (1727, 0.01283929660737367), (1438, 0.01281346692104403), (96, 0.012780836254424185), (4192, 0.012756477161287963), (3018, 0.012740115460218126), (3120, 0.012700091884909703), (1276, 0.01267634160560124), (4048, 0.012635780083612682), (5, 0.0126207155412974), (2464, 0.012617957768461445), (4268, 0.012617255441752465), (894, 0.01257702186128484), (287, 0.012565059435916907), (1338, 0.01253750942921115), (864, 0.01253276158030147), (1371, 0.012519254749923643), (4444, 0.012515667899395292), (3674, 0.012505966725187941), (2055, 0.012496118192159724), (4122, 0.01245720927781578), (684, 0.012407351690350971), (4435, 0.012400179406134918), (85, 0.012356827020356693), (285, 0.01235315172158014), (3155, 0.012347571832006578), (2489, 0.012345401376231293), (4442, 0.012329854920916148), (1290, 0.012266356526535346), (2849, 0.012235382246294389), (280, 0.012232396377558269), (4060, 0.012220512176754206), (948, 0.012219931701804668), (2752, 0.012215245367841075), (1620, 0.012206542972384642), (4502, 0.01220312293901248), (3284, 0.012153089144204578), (3407, 0.012147571859259007), (558, 0.012145007034251478), (3227, 0.01211884363720737), (396, 0.012111438037375676), (967, 0.01210576406438562), (2854, 0.012104806239831203), (2459, 0.012084045637526528), (1922, 0.0120394248148738), (1513, 0.011990826766515746), (670, 0.011984204002819517), (4612, 0.01195816517347843), (2840, 0.011946984026216929), (2427, 0.0119099665474215), (1317, 0.011902748669134948), (4440, 0.011893957248073815), (4232, 0.01187310928703876), (851, 0.011865338583080259), (1854, 0.011862682216192045), (120, 0.011859569690324864), (952, 0.011858621125043125), (3713, 0.011840466848194158), (2264, 0.011832303629432443), (3941, 0.011831933969307911), (2076, 0.01181026551984708), (3293, 0.011764882165572449), (106, 0.011757996580138768), (4701, 0.011755506478718468), (3949, 0.01174230049300236), (4053, 0.01172691124300495), (3228, 0.011684441635969257), (251, 0.011671752822384949), (2065, 0.01163702662677137), (2581, 0.011588179950413169), (2934, 0.011574900856742985), (3679, 0.01155487894382124), (3635, 0.011523797522028225), (2188, 0.01152199689036795), (4660, 0.011516403870935263), (3418, 0.011501774198090006), (4664, 0.011479821212963412), (2519, 0.011467730093516605), (566, 0.011460517151165922), (515, 0.01144737259142594), (828, 0.011323777973116017), (2655, 0.011304159976529154), (4490, 0.011261180501702436), (108, 0.011207190420157423), (1968, 0.011197274314690127), (795, 0.011181513955366746), (2080, 0.011172090065061322), (2948, 0.011128528702016647), (3127, 0.011124482874951361), (2075, 0.011093472985295994), (1454, 0.01105608117127892), (2279, 0.011052023692620667), (4707, 0.011050686594052046), (1071, 0.011045322381046774), (2228, 0.011029662580560635), (4610, 0.011028813619100835), (845, 0.011022829852607538), (2886, 0.011021489556571201), (3901, 0.011005160220349556), (2255, 0.01100381329315725), (3171, 0.010995482020506469), (3645, 0.010944849939980206), (1489, 0.010944624347880494), (4546, 0.010940884047023909), (1160, 0.010929798598732353), (1806, 0.010928302253704584), (4141, 0.01092077331838364), (2949, 0.010909183226171383), (443, 0.01090844047307781), (3303, 0.01086375236619648), (4699, 0.010859856938051572), (436, 0.010851301705238963), (3960, 0.010842246290817946), (256, 0.010838189257712808), (1540, 0.0108288159821876), (563, 0.010823892390267079), (2158, 0.010792252924769657), (4710, 0.01077939396656207), (2600, 0.010776066670978782), (911, 0.010774698827533976), (1488, 0.010754334023171318), (581, 0.010753488789244871), (3905, 0.01075240424962588), (729, 0.010750834127592479), (1876, 0.01070856788806674), (1138, 0.01066505344502297), (4656, 0.010654468472267345), (1393, 0.010646852819004243), (1229, 0.010636167730004377), (4731, 0.010630444396884136), (4045, 0.01062457837122464), (1192, 0.010602618301544), (4624, 0.010583750330590232), (3149, 0.010564222964388987), (1918, 0.010563229401261713), (162, 0.0105565169270161), (930, 0.010525528536802681), (728, 0.010493024736303088), (368, 0.010483990825441273), (4283, 0.010483046952845309), (1191, 0.010459943868153682), (3521, 0.010448606237398041), (716, 0.010426590941337858), (2363, 0.010426484814708158), (1507, 0.01042027543104863), (3516, 0.010411762507522727), (2077, 0.010379421150803895), (3123, 0.010377564876186206), (2879, 0.010375207059927744), (1498, 0.010372714993682237), (4494, 0.010363067856109933), (371, 0.010353211331198237), (1924, 0.010330251646420034), (4557, 0.010325419796212149), (3192, 0.010322014013629895), (107, 0.010319752366681865), (816, 0.010318231566140269), (4601, 0.010315146411007291), (4576, 0.01031384319999518), (1050, 0.010312946111980083), (1078, 0.010312790694498596), (2778, 0.010310199599838182), (910, 0.010310195898194204), (4092, 0.010310140100011536), (38, 0.010304797051504598), (1472, 0.010289930939918856), (4038, 0.010274927732381246), (3797, 0.010273735887390945), (1865, 0.010272414708945556), (2874, 0.010264726142243828), (4046, 0.010259332659086837), (3514, 0.01025607841467829), (4089, 0.010253861048442302), (3344, 0.010249831636277983), (3108, 0.0102447589291103), (808, 0.010243424176811263), (1429, 0.010239851797081269), (4757, 0.010236761448636571), (1544, 0.010236595186633172), (1484, 0.010231535433720835), (2477, 0.010221632572454458), (1510, 0.01019431767592857), (1005, 0.01019085223090203), (4118, 0.010183608894740138), (4593, 0.010177156177949061), (991, 0.01017713220806636), (606, 0.010170021422275247), (3780, 0.010169913877275238), (1861, 0.010167680649920527), (3771, 0.01016413572008699), (1255, 0.010161391304999847), (2061, 0.010152369804650958), (1260, 0.010148207425909167), (743, 0.010141069047308366), (367, 0.01013852078939156), (385, 0.010136207274078424), (345, 0.010123871542347672), (1344, 0.010118198016922259), (688, 0.010114921269171951), (1866, 0.010112591720663887), (2428, 0.010104578343203205), (869, 0.010103176265961331), (3453, 0.01010011022980392), (461, 0.010088845267801525), (4233, 0.010086293439703704), (494, 0.010085374869603468), (3196, 0.01007944131000901), (255, 0.010076283623722789), (217, 0.01007391315622519), (4094, 0.010070004706457004), (732, 0.010064190979789214), (2833, 0.01005321902475172), (1140, 0.01004990856581185), (660, 0.010048089163475693), (727, 0.010038369400351226), (2304, 0.010026590230884945), (2191, 0.010025594108684923), (2580, 0.0100086835911965), (4284, 0.010005996740737067), (2104, 0.01000231249858406), (580, 0.009977321726688679), (3464, 0.00996191860737361), (2089, 0.00995472875910874), (4431, 0.0099507171906749), (222, 0.009946813646465307), (4412, 0.009942722767601397), (696, 0.009939463221742195), (86, 0.00993571927243923), (833, 0.009933212145714035), (350, 0.009932612427557613), (2635, 0.009929230077562145), (4289, 0.009925381094345568), (880, 0.009922590149477623), (2988, 0.009916978875683578), (50, 0.009908565535909086), (2647, 0.009899031289961814), (4163, 0.009889745047610745), (832, 0.009886416873154245), (3556, 0.009878170265800576), (3692, 0.009866647446413017), (981, 0.009851605187314061), (3259, 0.009842732411273888), (750, 0.00983630456561624), (4013, 0.009832406951320571), (180, 0.009821745856296495), (3586, 0.00980769820370556), (3125, 0.009800537897199793), (4105, 0.009798331359577734), (2088, 0.009796971142571184), (1705, 0.009791631399264877), (2897, 0.009788423526104165), (1225, 0.009788070038934683), (1735, 0.00977624155384734), (509, 0.009760521653948574), (1779, 0.009758699367780845), (493, 0.00975734515024896), (1220, 0.00975662812822117), (1738, 0.009738962232341716), (143, 0.009738295357318912), (42, 0.009734343902071053), (238, 0.00973120891449111), (3618, 0.00972155913313626), (4677, 0.009718756468809691), (1537, 0.009683270333973709), (1179, 0.00968284264694511), (1608, 0.009681481385198207), (1555, 0.009679484229300844), (2598, 0.009678301800022725), (1816, 0.00965035455567599), (1536, 0.009649922614050933), (2803, 0.009648158666029213), (1811, 0.009643151109111087), (470, 0.009631260989345981), (2374, 0.009628920827350547), (3435, 0.009623502245186008), (3680, 0.009623114961234289), (2045, 0.009617393563181328), (1330, 0.009611925559862433), (2881, 0.009611263680108603), (1375, 0.009610921916723764), (868, 0.009607350111135244), (474, 0.00959590559448241), (422, 0.0095937213782974), (2443, 0.009590715285910632), (122, 0.009577916245105242), (1864, 0.00956885611537239), (3499, 0.009567799716770504), (1188, 0.00956670204423921), (1504, 0.009556100261862998), (4486, 0.009552956742547655), (1400, 0.009549678005642328), (139, 0.00954746696063899), (3153, 0.00954266307208302), (3032, 0.009542520883006335), (10, 0.009540767661354446), (804, 0.00953809985915928), (3571, 0.00953788044001699), (356, 0.00952247077576207), (0, 0.00951194486747085), (1643, 0.00950585360479587), (3233, 0.009505844667009818), (2825, 0.0095035647244436), (3623, 0.009501530881113027), (2714, 0.009486284674214973), (1174, 0.00948015187449412), (664, 0.009476808422543682), (1076, 0.009472165522301403), (980, 0.009472123056061385), (3653, 0.009470286808053216), (3508, 0.009464328298029625), (1931, 0.009463746324592523), (4470, 0.009463437641161341), (2069, 0.009462536723566315), (34, 0.009460578978622486), (40, 0.009457336301461072), (2091, 0.009454526457337332), (4629, 0.00945421629397291), (1902, 0.009453815689739563), (3666, 0.009453050366787065), (266, 0.009450489016126011), (2444, 0.009449591271523772), (1231, 0.009448198645554991), (1760, 0.009444051918984883), (908, 0.00944380677334461), (1001, 0.009438413672428923), (3436, 0.009436644955633185), (3460, 0.009429813128788544), (1986, 0.009416930673234342), (3624, 0.00941554410834645), (2606, 0.00941423637157733), (1413, 0.009406036009154586), (1116, 0.009398788810655012), (2724, 0.009397873503819985), (1223, 0.009383514603570469), (1585, 0.009381173934442757), (4299, 0.009380591174282252), (769, 0.009375606140133422), (936, 0.009370288708043177), (3531, 0.009360944089550976), (1282, 0.009357737988645674), (744, 0.009356308497733515), (1897, 0.00934872606230441), (4432, 0.009341282813341224), (369, 0.00933806077443381), (642, 0.009335138356409551), (3661, 0.009333234970553161), (31, 0.009332936526710515), (1433, 0.00932956641151018), (224, 0.00932800220242103), (4715, 0.009312162030243471), (81, 0.009297337411677912), (4522, 0.009295968907596987), (208, 0.00929099645879569), (3487, 0.00928768041835879), (4255, 0.009275633607594648), (923, 0.009274064189630359), (3498, 0.009268283918560419), (636, 0.009267258150324708), (3696, 0.00924460014708095), (1960, 0.009238611800938098), (719, 0.009237691332480714), (433, 0.009235959384348158), (3474, 0.009229905766867398), (1847, 0.009221009942636051), (4133, 0.009210877492489984), (1987, 0.00920260602996461), (3899, 0.009196122149354136), (3705, 0.009195432276876163), (4282, 0.009191219241864647), (1674, 0.009183485243520303), (4579, 0.009179728648189093), (4093, 0.00917776678635035), (2632, 0.009172984879698561), (2121, 0.009167150233571428), (1461, 0.009166992958085618), (1981, 0.009155716956486148), (1044, 0.009144397061537517), (4176, 0.009125609690114167), (2899, 0.00910687705239802), (2008, 0.009105636484507292), (4523, 0.009099802544892203), (3704, 0.009095724365900412), (3122, 0.009093589407023393), (2031, 0.009087184843193426), (4098, 0.009085016750782333), (1128, 0.009073537145358437), (613, 0.009064750668306561), (2994, 0.009062217787857131), (4517, 0.00905659149726646), (1945, 0.009046445805412763), (3112, 0.009044902661369043), (3658, 0.009009371743237966), (1356, 0.00900673924172878), (800, 0.008974595076247658), (745, 0.008966399090615414), (2962, 0.008957400381840265), (539, 0.008952642151830443), (1653, 0.008949001878660604), (4581, 0.00894274223088546), (1964, 0.008936306103333668), (1388, 0.008929590085788627), (1041, 0.00892175234823602), (571, 0.0089085136574572), (311, 0.008898278518021179), (1421, 0.008895692970455595), (482, 0.008868598504180735), (3433, 0.008855228672422565), (4430, 0.008846621976898231), (3349, 0.008844730330566538), (3342, 0.008840622207769702), (329, 0.00883562666335217), (1567, 0.008804838773578712), (1819, 0.00880482424096809), (497, 0.00879245073953219), (1845, 0.008789393470407005), (953, 0.008788528393465354), (4154, 0.008787303463142198), (4249, 0.008773125946056223), (4390, 0.00876677682761521), (3331, 0.008755939638917232), (4309, 0.008754815243291199), (1083, 0.008743647649048591), (503, 0.008737112912977662), (3974, 0.008736332301307673), (4670, 0.008725260401612957), (1123, 0.00870078935857901), (3945, 0.008686777741707357), (562, 0.008684260541745942), (1462, 0.008677015786727913), (733, 0.008675279734589203), (1797, 0.008647627822419126), (3570, 0.008646100444959509), (1721, 0.008644435773697952), (4591, 0.008643742752849232), (406, 0.008633973611708765), (1214, 0.00862797752553274), (3501, 0.008619305005792286), (608, 0.008605092052142436), (3195, 0.008571430153291159), (200, 0.008565275655543082), (900, 0.008562123119477707), (3245, 0.008555099970535216), (3842, 0.008546952970789307), (2344, 0.00854636956981369), (742, 0.008542591061543262), (2348, 0.008519700421468032), (617, 0.008500777875798428), (44, 0.00850000075302405), (4733, 0.008496148074155621), (2424, 0.008474460426632982), (3841, 0.008461006495912997), (3734, 0.008448167914357041), (2496, 0.008446221248206338), (3876, 0.0084321378596414), (3727, 0.008427203825571088), (116, 0.008416017370151335), (1448, 0.008413455362167836), (3957, 0.008372883316876375), (1177, 0.008367368612281316), (3185, 0.008344239444394498), (3910, 0.008338953601066122), (1213, 0.008309868483300781), (4344, 0.008302450137748352), (644, 0.008290730011645157), (2184, 0.008270461651418466), (963, 0.008267994747556557), (1519, 0.008266974535860304), (863, 0.008217993613952937), (2917, 0.008213892748750758), (1414, 0.008196400146081473), (442, 0.00818287501007009), (861, 0.008175527380322239), (271, 0.008158008571605604), (4661, 0.008132607028737067), (1215, 0.008126033784774639), (3452, 0.008122482786106746), (3035, 0.008111938031872958), (968, 0.008110242037311206), (1934, 0.008105919898188025), (862, 0.008072874704700708), (1194, 0.008036098721910244), (4261, 0.0079749885833871), (1627, 0.00797466165686205), (1202, 0.007917138612751534), (2324, 0.007805343999482014), (3975, 0.007775816068922747), (1065, 0.007773994595578601), (996, 0.007762804817746151), (243, 0.007756489449085862), (1892, 0.0077028378335870324), (690, 0.007664391191841963), (687, 0.007621675563489795), (2355, 0.007611845652313448), (4674, 0.0075986056419245634), (1009, 0.007596975466392463), (3339, 0.00754988263224111), (831, 0.00753186115958674), (4134, 0.007492744480225765), (3844, 0.007475260316941834), (3168, 0.007469921344137674), (4666, 0.007446905231931558), (4691, 0.007438745929953057), (3942, 0.007397476141013205), (3588, 0.007396686147257389), (2689, 0.0073714078445392735), (3022, 0.00736098171580422), (2388, 0.00735276737050858), (16, 0.007337751248493263), (3448, 0.007329963153370617), (4646, 0.007328515760112439), (1799, 0.007323589832447585), (4047, 0.007317798066414415), (3502, 0.007316868725592462), (4653, 0.007294540500307763), (1939, 0.007294406759075349), (3721, 0.007286040558377523), (512, 0.007247772716806648), (4518, 0.007220292496720634), (4524, 0.007196650446561064), (3065, 0.007182002902445025), (4307, 0.007172061411492176), (2273, 0.007170619303092775), (3471, 0.007162454609681649), (4537, 0.00715505900534939), (4515, 0.007143476831770965), (3715, 0.007095663021331744), (2468, 0.0070714758017460045), (513, 0.007059865545178594), (4219, 0.007057459421873405), (4281, 0.007049836805649901), (844, 0.00703433758815933), (296, 0.007008301347015772), (1940, 0.006933053403593893), (1829, 0.006931606845172555), (4464, 0.0069254917763665064), (3604, 0.006920962047768111), (2947, 0.006915893439886563), (793, 0.006910131489707187), (4208, 0.006872795715803275), (425, 0.006865893892003329), (3117, 0.006857398589144395), (4119, 0.006856544041905649), (3049, 0.00682862958906653), (3995, 0.0068089690939207165), (523, 0.006794125945639745), (4076, 0.006786511700513232), (3143, 0.006780235697912442), (550, 0.006768667380740828), (4039, 0.006764892128040005), (1443, 0.0067580456937687255), (802, 0.006750628811303801), (2328, 0.006749286514777352), (891, 0.0067467130377722945), (2809, 0.006738226970966087), (3440, 0.006731627752157736), (2181, 0.006731480888469741), (320, 0.006701236408782853), (1962, 0.006701040172995211), (3391, 0.006691183049083263), (2440, 0.006689680168663405), (4103, 0.006682682231753398), (2790, 0.006671865438048441), (4331, 0.006668722025635584), (738, 0.006660411714929253), (1588, 0.006660115913879874), (2094, 0.006658377949231244), (1925, 0.006656149110265936), (39, 0.006655484656287038), (4514, 0.006654588181250089), (666, 0.006649340583121886), (2208, 0.0066480430005797135), (3744, 0.006643820559245781), (4050, 0.006640636485793962), (1381, 0.0066384885733409), (4240, 0.006637292305070469), (4698, 0.006636884113503682), (1788, 0.0066337674719330626), (4630, 0.0066331157133451765), (3802, 0.006630612257643846), (3810, 0.00661823600271998), (4211, 0.006616992560799357), (3124, 0.006614563374290486), (4697, 0.006607129432753477), (3240, 0.006601779279368446), (3774, 0.006595713793083566), (2044, 0.006594620163505516), (2421, 0.006592173179219839), (1901, 0.0065873294414739774), (118, 0.006586235537565638), (6, 0.006581358190743837), (3387, 0.006580418053614178), (1458, 0.006578957710132293), (1435, 0.006576065858882122), (855, 0.006564250518500065), (1279, 0.006563084413517431), (69, 0.006562072438802383), (2711, 0.0065521142359717234), (426, 0.006547551175585042), (1941, 0.006546017406633779), (4337, 0.006543942175356393), (380, 0.0065411933368417835), (3158, 0.006517908076334704), (635, 0.006511407722139827), (2130, 0.006511085326782341), (2567, 0.006495209290051732), (1531, 0.006488502132698402), (128, 0.006482589128240074), (4090, 0.00648155283052416), (1332, 0.006480465412816423), (2252, 0.006478257262202287), (1873, 0.006465999479637693), (2683, 0.006459575189876625), (2245, 0.006456384859929794), (460, 0.00645635938188911), (537, 0.006455414451930203), (2626, 0.006452059241004995), (4595, 0.006450272717407664), (4091, 0.006447651268568432), (4285, 0.006446699732320379), (3180, 0.0064466357912666816), (4639, 0.006444422989519955), (3163, 0.0064418591388566175), (1469, 0.00643838421345987), (1614, 0.006437791585868785), (3787, 0.006433658158773093), (4642, 0.006431887028304081), (4462, 0.006431321557534578), (1724, 0.00642791682604941), (3997, 0.006426910018712905), (1952, 0.0064262462183272305), (1812, 0.0064256773801019155), (2074, 0.006425200893043922), (3938, 0.006422129218430784), (1707, 0.006419570763356636), (1099, 0.006413028075531706), (102, 0.006411804884701731), (992, 0.006409769817006675), (3367, 0.006405575266595275), (1859, 0.006398521527886583), (810, 0.006398419445843808), (3769, 0.006395745637637621), (1391, 0.006394540427079519), (3815, 0.006393835872151033), (233, 0.0063897001725964605), (3213, 0.006388537633667907), (3710, 0.006381811142739196), (4377, 0.006377913250456712), (1426, 0.006374604001409593), (3555, 0.006372386692726674), (4120, 0.006369657323014454), (1154, 0.006368673040340261), (1167, 0.006355695750266564), (3584, 0.006354784120605231), (1723, 0.006350838613040664), (420, 0.0063465733539905134), (1380, 0.006346543592014316), (125, 0.006345627752278577), (685, 0.006343028755395335), (4678, 0.006342068101530677), (1150, 0.0063420356935053246), (1396, 0.006335031783989516), (3131, 0.006327754644579526), (4527, 0.006325959844861712), (3970, 0.006316556099208315), (3438, 0.006316027522613815), (1280, 0.006311617914296485), (3191, 0.0063110720477644435), (2136, 0.0063088300041325195), (341, 0.006306979691429715), (1659, 0.006301894060499218), (849, 0.006300261899872025), (4162, 0.006297338373197439), (1662, 0.006294515540815222), (1302, 0.006292583191682875), (514, 0.006290492885805259), (3897, 0.0062885414900425455), (2084, 0.006283175378034401), (3179, 0.006282116426722385), (3932, 0.0062779163865416395), (2847, 0.006276389438358631), (2015, 0.006275784920331047), (1407, 0.006274810376646842), (633, 0.006271857446711623), (95, 0.006260021097624452), (305, 0.0062556902918075126), (4158, 0.006255446081273578), (1881, 0.006253500315281341), (1575, 0.006248281901787883), (315, 0.006248150871245177), (1554, 0.00624771434465054), (4746, 0.006240080945278205), (2680, 0.006238896725638177), (932, 0.006238349696698339), (4392, 0.006235841481087462), (1701, 0.006235711015968303), (1272, 0.006227954843769251), (1420, 0.006225897093481214), (3005, 0.006224071228002547), (1480, 0.00622257812305712), (1452, 0.006221476424773027), (3468, 0.006219314446817626), (2819, 0.006217935644197315), (1791, 0.006215901104315189), (2576, 0.006208795012155059), (303, 0.006203683835259767), (1996, 0.006201263978824019), (540, 0.006200388111549067), (3446, 0.006198613625260487), (313, 0.006198500607771269), (332, 0.0061964750849294375), (1127, 0.00619279706563887), (1431, 0.006185823834547724), (1562, 0.0061854766136237105), (1998, 0.006184230172852039), (2682, 0.006183763699967842), (919, 0.006181847137769016), (3443, 0.006179882304386007), (2700, 0.006178614541446397), (1840, 0.006177854501108838), (4534, 0.006175210043112133), (239, 0.006172401208151814), (3398, 0.006161590185944704), (4466, 0.00615849756330041), (3907, 0.006155692231030697), (3451, 0.006146469744698137), (27, 0.006146453727564919), (3886, 0.006145123637475186), (2959, 0.006142822879568359), (30, 0.006142200484101858), (1158, 0.006137767205305893), (389, 0.00613772937952944), (765, 0.006135414383249431), (1910, 0.006133408687605571), (619, 0.006130332350001085), (354, 0.00612601113704836), (4312, 0.006124028138465561), (2787, 0.006122100950613859), (3747, 0.00612160212387574), (4043, 0.00611772708432566), (634, 0.0061116081467132485), (3011, 0.006103022985184442), (4665, 0.006100165847212015), (1590, 0.006094405663829387), (2480, 0.0060941813751638485), (1975, 0.006092781210165264), (4251, 0.006092698138534823), (2733, 0.006092695404589707), (2330, 0.006091550647271333), (1930, 0.006090170829854204), (347, 0.006090053255546891), (1428, 0.006088556383291247), (3133, 0.006087758857061437), (4621, 0.006087267657826896), (811, 0.006079587513451188), (4384, 0.0060784443448792), (4587, 0.00607426923989708), (4365, 0.006074245893761894), (375, 0.00607377705772677), (1846, 0.0060735668389804345), (310, 0.006071797810700211), (2618, 0.006063469964250694), (2283, 0.006059414383352465), (2078, 0.006058854913175807), (1129, 0.006057787953169035), (2231, 0.006055904335386921), (4376, 0.006049854089621589), (3833, 0.00604229657609267), (2314, 0.006041241567033623), (4360, 0.0060373417772381045), (803, 0.006033938343535904), (1502, 0.006029609542292848), (3404, 0.006028828005445951), (809, 0.006023025593679234), (1551, 0.006018942568077552), (4275, 0.006015711870019781), (1384, 0.00601454432684015), (1566, 0.0060134508134868595), (2197, 0.0060096075644212685), (327, 0.006008490878514237), (1003, 0.006006521465123374), (1082, 0.006002189694476724), (595, 0.005999431354561573), (220, 0.005999057679746017), (2506, 0.005998485123804643), (322, 0.005989889866745799), (3263, 0.005985541488951545), (1761, 0.005985013795702292), (1120, 0.005981431620826852), (3161, 0.00597912766963239), (3129, 0.005975089674368453), (4708, 0.005974982320660921), (3782, 0.005973217671577612), (2062, 0.005972284346793936), (1568, 0.005971186570479272), (4552, 0.005968683738368812), (1632, 0.005967765894523419), (1573, 0.005958866139760493), (3908, 0.005958824023337068), (2232, 0.005954647010558395), (4248, 0.005954523626915059), (902, 0.005952957375074853), (306, 0.005946680644655514), (2442, 0.005944849152814829), (1266, 0.005939183173538924), (1857, 0.0059299236506666), (2501, 0.005929580350180769), (2599, 0.005928086617433403), (2960, 0.005927701762410007), (762, 0.005927088794294973), (2246, 0.005926348210826498), (152, 0.005921532348221073), (1661, 0.005915581458872139), (1281, 0.005913951683563747), (723, 0.0059138773812478585), (3136, 0.00590857163575127), (3823, 0.005905867925408069), (927, 0.005902895984992073), (1270, 0.005896529003216499), (3134, 0.005892467679707061), (1576, 0.005890626419746228), (1262, 0.005883699057329519), (1732, 0.0058784893648486354), (2541, 0.005877615975738328), (3126, 0.0058744467331930126), (1587, 0.005870758445345077), (3583, 0.005870266922415968), (1630, 0.0058670531418782475), (2278, 0.005864322012966668), (3520, 0.005861087451479384), (467, 0.005852544067423212), (3456, 0.005851745853090287), (3602, 0.005849468441113256), (877, 0.005848707375406691), (1817, 0.005847663861804124), (1207, 0.0058413555006182226), (756, 0.00583660789675946), (997, 0.005833190681626521), (1933, 0.005832058160208665), (1347, 0.005821834073023623), (1927, 0.005819240520611399), (2992, 0.005810319529712975), (1012, 0.005806337729691656), (468, 0.005799828562743659), (160, 0.005798115316417931), (261, 0.005795025333180668), (135, 0.005786503116074804), (625, 0.005785910889987776), (451, 0.005784940517169735), (640, 0.005784089908411716), (323, 0.00578241517190063), (1622, 0.005777619351905056), (1953, 0.005775892649254481), (189, 0.005769219174507551), (1449, 0.005768357266509283), (397, 0.00576614396664765), (3513, 0.005763092581210941), (1904, 0.005757703840713966), (1696, 0.005755442115215127), (2759, 0.0057526980747970215), (2622, 0.005744250736896694), (1197, 0.0057404667361974325), (1784, 0.005739891362469535), (4264, 0.005734668164255739), (77, 0.00573357893724606), (1631, 0.005723191497571551), (4106, 0.0057164824901610465), (1852, 0.00571443815249277), (4383, 0.005714211285293651), (4586, 0.005709493138341713), (2929, 0.005704213063390419), (4151, 0.005703975950007432), (3853, 0.005700342703421746), (1019, 0.005699647407184582), (80, 0.005697241583297226), (3881, 0.005696131163300315), (3824, 0.00569603313648231), (3432, 0.005695462063943271), (1772, 0.005695111152525948), (321, 0.005694109482437364), (1633, 0.005688819352874415), (4582, 0.00568706149456139), (3426, 0.005685521410314971), (4689, 0.005683487258142132), (4310, 0.005675934351205879), (511, 0.005667207642982925), (288, 0.005661134983185246), (1838, 0.005659821621565048), (2984, 0.0056470377702136434), (3534, 0.00564473163455489), (3989, 0.005643783248257536), (1993, 0.005635979406879348), (4366, 0.005631581362013031), (2820, 0.005630245188480533), (234, 0.0056257628897006355), (1773, 0.005625234153002656), (661, 0.005624681122443019), (639, 0.005623872215992586), (46, 0.005622895384776444), (295, 0.005620894757145294), (4339, 0.005616703078727388), (93, 0.005605209350149524), (3664, 0.005601677531631268), (4290, 0.005588781474994528), (4071, 0.005588358078950911), (974, 0.005579533540428107), (273, 0.005571996469923334), (4274, 0.0055689137941716), (90, 0.00556786203044303), (187, 0.00556560728887751), (893, 0.005561492775534576), (3576, 0.005556831528480788), (1210, 0.005555672857888731), (3361, 0.005543825823569191), (3215, 0.005540695271924911), (4695, 0.005536539857807455), (1451, 0.005534069960036108), (1635, 0.005532769180107762), (4585, 0.00552415565279887), (2991, 0.005520760180904376), (3495, 0.005519267036286015), (1211, 0.005515038328762484), (1914, 0.005514476168297777), (191, 0.00550820007354853), (3723, 0.005504288307228886), (4328, 0.005502467595900708), (3279, 0.005495621016188103), (1546, 0.005494608273137078), (76, 0.005493207105776911), (4322, 0.005492179901267149), (4441, 0.005482335993028281), (294, 0.005473890277351363), (559, 0.005471814509348609), (2139, 0.005464428387911738), (469, 0.005463627148335151), (775, 0.0054618555622657355), (94, 0.005454609652250435), (1493, 0.005445560427282229), (3338, 0.005442147534781521), (3135, 0.005436660471336341), (4468, 0.005434328066465176), (1309, 0.005433725901848424), (3405, 0.005430892332527212), (1623, 0.005418568853650955), (1900, 0.005415323540129274), (2789, 0.005414715523771442), (4438, 0.005408806189022956), (3484, 0.0054067513564846304), (1559, 0.005404171706428343), (438, 0.005399554327569195), (316, 0.005375332920518835), (2432, 0.005374268154055587), (3788, 0.005371720804215202), (3100, 0.005367682473083246), (898, 0.00536700143334493), (779, 0.005350441936535232), (260, 0.005346082290116895), (4607, 0.005345830544975158), (4044, 0.005325685487323947), (4513, 0.0053243760453706365), (290, 0.005316332309167404), (4292, 0.0053106911868097875), (3247, 0.005304167134153519), (2736, 0.0053005638684330255), (3619, 0.00529962709881779), (970, 0.005298358635705097), (4193, 0.005294302031469191), (3966, 0.0052703469081124546), (3160, 0.00525551651100026), (314, 0.0052545327243324474), (2299, 0.005220557930767615), (979, 0.005188037814719275), (2801, 0.005183897187018029), (78, 0.005153512662154917), (1153, 0.005100771822889244), (2484, 0.005066093175755372), (3776, 0.005056929699308584), (2573, 0.0050502240430602505), (3079, 0.005036845459954088), (1699, 0.005030693649796878), (4426, 0.004972552929305674), (1395, 0.004934364624066632), (3537, 0.0049192593704091405), (4407, 0.004915207887825286), (2678, 0.004909611727591748), (3806, 0.00489220840173219), (1753, 0.0048771384266727055), (4082, 0.0048494750659084694), (289, 0.0048181579661985), (4571, 0.004812070628929117), (3506, 0.004800147728228797), (3178, 0.004785815162138847), (1164, 0.004757171738826952), (3577, 0.004750393958134278), (3140, 0.004644906082585972), (3512, 0.0046432276103260785), (2757, 0.004634073272757536), (4032, 0.004618347035986125), (3616, 0.004595787031221849), (2326, 0.004592673647450545), (4107, 0.004567131318490226), (3944, 0.004562355715033036), (4555, 0.004557954128208492), (2998, 0.00454001128450612), (2838, 0.0045325315865879295), (3561, 0.004518437336581584), (2636, 0.004504012546396575), (3925, 0.004503956742115301), (2550, 0.004451684774283484), (3302, 0.004429843457851241), (2834, 0.004429634719940099), (3218, 0.0044228651756833505), (2560, 0.004400359347863247), (2488, 0.00439894901441163), (3166, 0.004395354579165882), (2529, 0.0043901543564044375), (3219, 0.00438012636815543), (4267, 0.004368408419570243), (3282, 0.004363064930923003), (2720, 0.004362462035289326), (2490, 0.00434577479666313), (3878, 0.004345280710922524), (2857, 0.004343982477718912), (2937, 0.004338538111886225), (2269, 0.004336283932656703), (4705, 0.004329959273145888), (3523, 0.0043241294230213926), (4263, 0.004323928923133531), (3051, 0.004318605592950528), (3159, 0.0043074295233697405), (2764, 0.004307198759434588), (2379, 0.004296200525469831), (2858, 0.004292490158315495), (2137, 0.004291508305286343), (3139, 0.0042861043985742645), (4023, 0.004285013651827459), (3357, 0.004282659160386141), (3116, 0.004276812268919814), (2266, 0.004272131536888389), (2640, 0.004272051602309768), (2744, 0.004264774821039661), (4062, 0.00426335307136045), (3364, 0.004257782767377286), (3234, 0.004257766125703575), (3672, 0.004255903449889135), (2722, 0.004250598574148481), (2189, 0.004250518405478555), (2320, 0.004247576604580369), (3763, 0.0042393468424033135), (4202, 0.004234700929164394), (3101, 0.004233566772037861), (3040, 0.0042281405089820605), (2957, 0.0042279240854484835), (2673, 0.004225946375890085), (2989, 0.004219878054566461), (3206, 0.004217069718318897), (2251, 0.004208567646989982), (2349, 0.004190593033808422), (4589, 0.004189662391564927), (1145, 0.004186371275066937), (2407, 0.00418631992060342), (3990, 0.004175431098722717), (2492, 0.004168714317517374), (2889, 0.004168305162577734), (2448, 0.004160508883449337), (2619, 0.004144471089679868), (2585, 0.00414068458908849), (4704, 0.004137346167001161), (3052, 0.004135224770473188), (735, 0.004135134504076692), (3754, 0.0041339748954974005), (3429, 0.004126354226318243), (3220, 0.00412495414726882), (2569, 0.004119336964745491), (2404, 0.0041150478195533), (3055, 0.004110971594176842), (2537, 0.004109025541521873), (3030, 0.00410270670075394), (2870, 0.004097162341665041), (2416, 0.0040966385877791766), (4017, 0.004094845481293815), (2882, 0.004094447527283781), (2775, 0.004093049385389496), (3042, 0.004089061605792899), (2892, 0.004086881381931903), (2883, 0.004085831108735637), (4286, 0.004083740815429561), (1168, 0.004080508798519662), (2740, 0.004072513418571187), (3291, 0.004064888663250237), (1208, 0.004064742025485198), (2731, 0.00406398931089954), (4749, 0.004063325631339652), (3363, 0.004061314245713823), (4222, 0.004059177417750685), (4606, 0.004056828859271152), (2884, 0.004056360682070862), (4142, 0.004055446110458758), (4529, 0.004054266084977443), (2434, 0.004052976658784771), (2310, 0.004048828837336242), (4221, 0.0040478318987181), (2923, 0.004045587771929821), (4584, 0.00404448429621495), (3479, 0.0040380742122022055), (4611, 0.004036336180195509), (3939, 0.004033532914697423), (2410, 0.0040270798077630746), (1023, 0.004018357634996576), (2494, 0.004014858535687303), (2861, 0.004013952875765499), (4650, 0.004012207678086636), (4172, 0.004000811146966838), (3804, 0.0039941631508810995), (4692, 0.003991071260183219), (791, 0.003989472740326068), (4484, 0.003987818695608763), (2845, 0.003984797307535829), (3308, 0.003983686621557492), (4113, 0.003983100010771074), (3414, 0.003981375321386807), (2559, 0.0039800482283673146), (4418, 0.003976323110099549), (4101, 0.003976124512222653), (2832, 0.003973957718928649), (2570, 0.0039655846187517324), (2601, 0.003959746580563551), (2060, 0.00395759382051697), (2628, 0.003957373083487427), (3639, 0.003953777977741035), (2436, 0.0039504027788062465), (4280, 0.003950081542858075), (3157, 0.003948898256681555), (2769, 0.003947825114598725), (2392, 0.003945952004879785), (3762, 0.003945432876710964), (4696, 0.003944584411502685), (3292, 0.003942024355686265), (2624, 0.003937858313734171), (2495, 0.00393500389980026), (3283, 0.003933723667065823), (4051, 0.003931438548800412), (627, 0.003930723054297643), (4732, 0.003927950076312754), (2199, 0.003927850111080641), (4019, 0.003925847372668277), (2425, 0.00392474126419585), (2738, 0.003921379840450732), (3892, 0.003918463511031035), (3739, 0.003918447192272572), (4423, 0.003916786713088744), (4169, 0.003912567247438344), (1518, 0.003911476179733672), (2643, 0.0039112848420530255), (612, 0.0039060139888630573), (1594, 0.003904691467714731), (3822, 0.0039035277697965724), (1919, 0.0038993753370534815), (3322, 0.003897761362814589), (1666, 0.003895284795836808), (2257, 0.003895270593303236), (3262, 0.003895203055748394), (2111, 0.00389374731371486), (2385, 0.0038900710911701918), (2236, 0.0038884480162597363), (2901, 0.003887010276773914), (3951, 0.0038836780762157817), (4230, 0.0038804805798758574), (3903, 0.0038804271864456663), (1088, 0.0038780191693090615), (2350, 0.003872932525709505), (2591, 0.003872304297770498), (193, 0.003871314341760502), (3425, 0.0038712969611887573), (2286, 0.003866603965442259), (985, 0.003863034156530117), (4321, 0.003857808665074727), (4400, 0.0038574891030103762), (3299, 0.003856809594724032), (3477, 0.0038499931196335343), (2696, 0.0038493031103060044), (2400, 0.003846612287459503), (889, 0.0038423597906233945), (614, 0.0038409933091159833), (2561, 0.0038401144392876886), (3848, 0.003836995705349773), (246, 0.0038364566611930975), (3962, 0.003833141451912154), (3866, 0.00383184306253099), (4102, 0.0038297128435575587), (1887, 0.0038295902953281156), (3611, 0.003828807132379637), (4262, 0.00382801713625029), (1533, 0.0038264099851785726), (1169, 0.0038255373690497456), (2226, 0.003823707367427998), (3651, 0.0038232832938005956), (4333, 0.0038232051983570787), (4446, 0.003817806010094039), (2340, 0.0038162684363445003), (4054, 0.0038160812466296245), (4643, 0.0038147489902919), (2423, 0.0038142858824379393), (3015, 0.003811714531854295), (3354, 0.0038109926668303744), (1456, 0.003809769152084369), (2166, 0.0038095449481219423), (1637, 0.003806172185569624), (3857, 0.0038036029298269096), (4369, 0.003800015540432036), (731, 0.0037977591669807907), (4016, 0.0037976964777035166), (4368, 0.0037967287329092572), (456, 0.0037959143891014182), (499, 0.0037938835459880717), (1929, 0.0037932726477197328), (448, 0.0037928909529977633), (3239, 0.0037898942074004456), (526, 0.003788332164867836), (3128, 0.003787110798386302), (3241, 0.003783161553572366), (2592, 0.0037800081535502477), (2633, 0.0037768728547938383), (1251, 0.0037766901957589517), (1711, 0.0037762162746832035), (2878, 0.0037750193731093313), (3687, 0.0037744319571762063), (4544, 0.0037732851272552726), (4024, 0.003770575596342277), (434, 0.0037699817025237605), (3314, 0.0037685413620623972), (813, 0.0037678910997036574), (2306, 0.0037664369147169265), (235, 0.003761987514105382), (1243, 0.003761705284115073), (3013, 0.0037590014033840194), (3884, 0.0037561104253079486), (847, 0.0037535733432167333), (949, 0.003750577707182976), (3036, 0.0037452357520687462), (2293, 0.0037428100876905194), (1121, 0.003742317312520957), (2438, 0.003740322299460087), (3778, 0.0037398984180006256), (1284, 0.003738834238037183), (3922, 0.0037386409168492815), (2557, 0.003738035544503202), (2904, 0.0037364462505210007), (4306, 0.0037364274794824425), (3449, 0.003732612576468649), (3613, 0.0037322299352388157), (4521, 0.003731701373555925), (1479, 0.0037312183919635577), (2531, 0.003731162393160576), (4633, 0.003731161818762678), (1110, 0.0037305416512453523), (3832, 0.003730443509707478), (1450, 0.0037301215562107856), (3772, 0.0037255232286186606), (3906, 0.0037247962329243016), (3813, 0.0037214846459750254), (1043, 0.003720837039350858), (4002, 0.0037188203476166523), (1254, 0.0037172131059751523), (1782, 0.003716391094782138), (623, 0.0037161948816905803), (3353, 0.003715274958035021), (3074, 0.00371497740575929), (1848, 0.0037143701578773794), (3264, 0.003714226904282635), (3230, 0.0037121592472984938), (4572, 0.00371194983320979), (1890, 0.0037101004641698345), (3183, 0.0037075939662520895), (3524, 0.003706827875426614), (3269, 0.0037059589182173273), (1109, 0.0037012530820887245), (490, 0.003698388486675971), (3271, 0.003697683287325101), (278, 0.0036960488222327493), (1733, 0.0036955606444845635), (3874, 0.0036946313727137174), (4723, 0.0036940091234222657), (3678, 0.0036931205124755176), (3677, 0.0036920474841938963), (326, 0.003690196265681048), (4574, 0.0036897968607267147), (3027, 0.0036885190552633598), (3186, 0.0036880583556952755), (2797, 0.003686729032875128), (3242, 0.0036858542252872365), (1805, 0.003685338517759886), (4259, 0.0036846047005733387), (3003, 0.0036839131765562267), (4130, 0.003682814164626927), (3620, 0.003682522327644589), (2830, 0.0036810486831148296), (3544, 0.003680956880114278), (2966, 0.0036802172019706966), (3503, 0.0036794998787187025), (2848, 0.003676985607807072), (2909, 0.0036764456256675017), (1959, 0.003675605756261115), (3601, 0.0036749770484264125), (4605, 0.0036725360434094294), (249, 0.003672289120977642), (4298, 0.0036701094494805513), (98, 0.003669122395686671), (3031, 0.003668251988725467), (2047, 0.0036665759512502583), (3737, 0.0036630494141901694), (204, 0.0036626679138736995), (2712, 0.0036585252729110875), (121, 0.0036575207882538242), (2454, 0.00365647341394789), (508, 0.003654953021296623), (1813, 0.0036547245446221423), (2319, 0.0036541663476775885), (4117, 0.0036532776098353514), (2072, 0.0036527704819557254), (2993, 0.0036526215265434733), (1349, 0.003648523986312386), (969, 0.0036484372948288294), (2415, 0.0036470381712935896), (3877, 0.003645128909488706), (402, 0.0036446730848403988), (3587, 0.0036443599698637525), (1593, 0.0036439588379947843), (3235, 0.0036428619665298378), (2924, 0.003642470500917266), (3257, 0.003641799656128717), (3560, 0.0036411059081343003), (4756, 0.003640956895470698), (3497, 0.0036386184875884745), (2652, 0.003638611735595427), (3358, 0.0036384667319440227), (432, 0.003637993101186768), (3020, 0.0036377853449594383), (4535, 0.0036376874471635233), (4147, 0.003636431715628583), (2568, 0.003635501707201588), (2193, 0.0036341853270391656), (3316, 0.0036302676084307563), (4225, 0.003629010651467179), (3273, 0.0036274512518147373), (2765, 0.0036254962135826956), (3413, 0.003623766171093708), (3289, 0.0036204832774387567), (3757, 0.0036194097516185405), (1357, 0.003616360132340045), (2895, 0.0036156180968945836), (3565, 0.0036142360895872745), (2391, 0.0036124118177808177), (1286, 0.0036117274750387027), (4458, 0.003611515703100206), (4627, 0.0036074088449368894), (737, 0.003606680350833066), (489, 0.0036052133710524825), (2221, 0.0036045108156693624), (605, 0.003604430418801954), (850, 0.0036022016847376812), (739, 0.0036022012080834474), (587, 0.00360163736447157), (1007, 0.003601289326497392), (4401, 0.0036011385926424436), (777, 0.0036006378640080485), (3252, 0.003600239659480431), (2563, 0.0035994936594529276), (4269, 0.003598386422874734), (865, 0.0035975162917375506), (2453, 0.0035967428997845433), (2755, 0.0035964677386237293), (1793, 0.0035956557645468856), (283, 0.0035936968683556022), (2552, 0.0035918707177448705), (1655, 0.00359117151538029), (3915, 0.0035908069806030946), (1366, 0.00359039930665543), (2230, 0.00358804829204392), (1175, 0.003587724460688697), (2975, 0.0035863418532930407), (541, 0.003584166893492996), (444, 0.0035823371678163304), (1860, 0.0035798477213064023), (2986, 0.0035796752920382265), (215, 0.003579446156339547), (2642, 0.0035793635467794016), (2911, 0.0035773332288630837), (887, 0.0035772357372689575), (4087, 0.003574331555498942), (1580, 0.0035734524335385804), (3198, 0.003572790433893078), (218, 0.003572616913915905), (1916, 0.0035707581888182152), (4140, 0.0035700798854249156), (4632, 0.0035695588211942203), (4717, 0.003568613183513344), (3935, 0.003568137948888661), (388, 0.003566947762638092), (2772, 0.0035664207897676482), (4206, 0.0035659732214019424), (2528, 0.0035654020612858866), (2613, 0.003564956772572537), (4489, 0.003564732325561639), (4495, 0.003563873090431538), (1112, 0.003563046658529888), (2393, 0.003562752025972121), (431, 0.003562352503665187), (2853, 0.003561603543665071), (4545, 0.003560460318431821), (3911, 0.003559629566974103), (1100, 0.0035581873898862357), (2650, 0.003557980124183096), (2831, 0.003557621136373887), (3447, 0.0035573523506062994), (4081, 0.003557211487498436), (3689, 0.0035572104397933136), (1416, 0.003556430904020847), (4340, 0.0035562667590192886), (2725, 0.0035540152807337394), (3826, 0.0035532983062938825), (74, 0.0035530654525082225), (959, 0.003552393793799652), (4416, 0.0035521120383221177), (3388, 0.003551605958400675), (4355, 0.0035505862265794923), (4694, 0.0035495803514805383), (1318, 0.003549396275704937), (957, 0.0035488958578565794), (2940, 0.0035487975070978245), (2707, 0.0035485462289938027), (2651, 0.0035479060734844303), (1049, 0.0035474602503054392), (203, 0.003546262128071007), (3765, 0.0035457300538765113), (2190, 0.003545323335066607), (4030, 0.003544794196329913), (857, 0.0035445609917560857), (4197, 0.0035440532325260615), (41, 0.0035431985668867966), (3406, 0.003541958675299967), (1828, 0.003540461784887986), (3081, 0.003540258730108227), (626, 0.003540086511515827), (15, 0.003539563962782384), (1187, 0.0035392586164073687), (518, 0.0035388082045674668), (1710, 0.003538408039448942), (3182, 0.0035371592423047117), (1474, 0.0035371569849855394), (3151, 0.0035368959690664403), (3621, 0.0035360335148021016), (2419, 0.0035356694602846402), (3889, 0.0035349494437100586), (4371, 0.0035340408383513432), (1719, 0.0035325904739727915), (4132, 0.0035324758456618775), (2397, 0.003532258194430071), (4145, 0.003531310836394746), (307, 0.0035292068500008228), (2595, 0.0035280436778168897), (2418, 0.0035280390425092207), (1503, 0.0035256578501609774), (3458, 0.0035246127889616086), (198, 0.00352442890238216), (1494, 0.003523849194236518), (2142, 0.0035212982903452925), (3359, 0.0035208262676758714), (4126, 0.0035205060409187923), (1946, 0.0035203336820788583), (3072, 0.003519812648248116), (3654, 0.0035196501939175322), (1247, 0.0035196085153228894), (1547, 0.0035177384280961487), (3046, 0.0035171232895922044), (1660, 0.003517107741129544), (2894, 0.0035157805541648508), (3412, 0.0035152089137087533), (1382, 0.0035145887885123612), (3564, 0.003514068022090732), (1792, 0.003513137299470884), (2544, 0.00351275181361206), (279, 0.0035115574208969946), (2609, 0.00351148313820887), (3094, 0.0035087067142558514), (1748, 0.0035082377596102102), (2565, 0.0035066455711898494), (4567, 0.0035065992055857923), (2387, 0.003506000867543261), (3307, 0.0035053979608138668), (4020, 0.003505330301845485), (2502, 0.00350474151255884), (1650, 0.0035046198212542986), (3540, 0.003504345761699684), (3336, 0.003503838732181449), (1204, 0.003502814740423508), (1301, 0.0035016166427985595), (749, 0.0035012771386877216), (395, 0.00350088342561994), (2151, 0.0035007729929180395), (4713, 0.0035001328266539653), (4139, 0.00349920529586102), (4359, 0.0034985823378946884), (1947, 0.003498315213544471), (2354, 0.0034978486447625914), (3792, 0.003496902217930968), (154, 0.003496538669896561), (1765, 0.0034963161149507696), (3770, 0.0034960056249501905), (3729, 0.003494566814393636), (1404, 0.0034943559827354024), (4505, 0.0034939048900614732), (3396, 0.003492414082622658), (2964, 0.0034921103908060616), (4680, 0.0034915073512101686), (3728, 0.003491443058283861), (247, 0.003491075245963276), (4135, 0.0034909795369921534), (2527, 0.003490720946126815), (1682, 0.003489058683208619), (589, 0.003487701284896044), (2977, 0.003487106272054942), (2872, 0.0034861011919547907), (2844, 0.0034849973887431164), (3341, 0.003483291611750119), (2610, 0.003482985710312528), (925, 0.003482304697042468), (2953, 0.003481420653737995), (3355, 0.003479951175082998), (3745, 0.0034790869538140244), (1871, 0.0034789170092328283), (3893, 0.0034783711587196057), (3390, 0.0034782870698442376), (3000, 0.003477650661113328), (1597, 0.0034768134816833855), (2313, 0.003476697862319639), (3165, 0.003476505026340914), (353, 0.0034764691682901087), (1688, 0.0034753226832242123), (318, 0.0034751880354863423), (4287, 0.0034750830360419783), (3419, 0.0034744556785686817), (2629, 0.0034733974604202076), (3410, 0.003473174064187272), (3952, 0.003473046871320147), (3290, 0.003472639404243875), (2370, 0.003472475150718726), (1780, 0.0034713650996509716), (1798, 0.0034687698245738155), (349, 0.00346838867007204), (3184, 0.003468135470002247), (4200, 0.0034678719693188725), (1619, 0.003467778281492017), (1768, 0.0034677557129695496), (192, 0.003467159961573756), (1359, 0.00346539515901298), (1500, 0.0034651225970880766), (20, 0.0034637191738611773), (987, 0.003463550836170491), (4075, 0.0034631111146852895), (1219, 0.003459257531562007), (1808, 0.003458918243641865), (872, 0.0034583006086077402), (3593, 0.003456786923666348), (2753, 0.0034557143203638157), (4516, 0.0034548669139794434), (4753, 0.0034533708503740987), (3237, 0.0034530234568390062), (2796, 0.0034529256212756463), (2478, 0.0034504097938325394), (4025, 0.003449835353433903), (1087, 0.0034495500778996373), (2572, 0.003449192970048287), (1122, 0.003448987942185579), (1409, 0.0034486759660376076), (715, 0.003447975875948504), (182, 0.0034474831912274843), (2378, 0.0034467506326379474), (4243, 0.003446609577495442), (355, 0.0034459541350382473), (962, 0.003445525713053644), (3643, 0.0034455046411849682), (2403, 0.0034446471416761304), (3296, 0.0034445322736469178), (4497, 0.003443993031074358), (212, 0.003443626670087365), (1170, 0.003443474937391188), (2430, 0.0034430000624709072), (3423, 0.003442872679065506), (1893, 0.003442732764598315), (4277, 0.0034423778407745536), (4295, 0.0034423717298209685), (1402, 0.00344211649541849), (2987, 0.0034419297236931803), (934, 0.003441664907949688), (3496, 0.0034410306027492124), (104, 0.003440384381127364), (3337, 0.0034388717904044715), (1851, 0.0034386813687800025), (2746, 0.0034366349805899777), (3647, 0.003436592569455855), (178, 0.0034360919960180016), (782, 0.0034356088654019057), (1907, 0.003434222268424818), (3551, 0.00343347316696739), (4049, 0.0034332160637275014), (2099, 0.0034329150045189706), (1304, 0.003432020697393262), (3517, 0.003431648015066036), (3873, 0.0034314802373089843), (3225, 0.0034308203906515747), (3665, 0.00343014512483273), (1656, 0.0034298015997825788), (2702, 0.00342605063448972), (2841, 0.0034251621320396906), (2302, 0.0034249495831437863), (2821, 0.0034229610062937858), (973, 0.0034228464365036303), (114, 0.0034209053451548332), (3, 0.0034205618014125872), (253, 0.003419684752887494), (3829, 0.003419537688758936), (2914, 0.003418797691097605), (478, 0.0034186593470357917), (1131, 0.0034185808671409156), (1124, 0.003418373889809668), (2039, 0.0034182703794754907), (3845, 0.003418204799910834), (2223, 0.0034181104951965602), (228, 0.0034168470453849282), (1497, 0.0034162777151981478), (999, 0.003414223172312805), (2936, 0.003413623995525996), (226, 0.003412857649831126), (3274, 0.0034122995040915052), (2623, 0.0034121655851527054), (3148, 0.003411415335259415), (638, 0.0034106186819591222), (2721, 0.00341052828212632), (4361, 0.003408436117805458), (1048, 0.003407393265572785), (2027, 0.0034073271037629448), (2083, 0.003404810484371839), (1216, 0.0034044831279779015), (4507, 0.003403570588452131), (867, 0.0034030518045682456), (79, 0.00340159362537288), (2798, 0.0034014500482088166), (2792, 0.003400473214335915), (576, 0.0033998588509570075), (3298, 0.003398641426907352), (373, 0.0033978460885519665), (351, 0.0033976914818038524), (1410, 0.003397208406732996), (374, 0.003397167441708053), (993, 0.003396345817260634), (4718, 0.003395297678562932), (1027, 0.003395245183712123), (2974, 0.003394989712599984), (4334, 0.00339458852277533), (2422, 0.0033936463197209703), (2437, 0.0033936232587483653), (3890, 0.003393317470520967), (2133, 0.003391129164069694), (2105, 0.0033910681774750547), (2916, 0.0033907718045778487), (631, 0.003389846265546386), (3386, 0.003389426213879036), (3536, 0.0033891880673809307), (1206, 0.003389101604230227), (2195, 0.003385439827291773), (2980, 0.0033851902256082757), (1036, 0.0033848965935880703), (1862, 0.0033848290009951924), (848, 0.0033847240486547963), (659, 0.003384558586441804), (596, 0.003384446727477245), (1294, 0.0033844387077403993), (3380, 0.003384104322135303), (4174, 0.0033837766909592328), (1319, 0.0033836254248942794), (419, 0.00338317934871599), (3492, 0.0033831672961415313), (3313, 0.0033828683204378566), (1516, 0.003382445923793119), (1717, 0.0033823224126765237), (998, 0.003381757905965319), (1477, 0.003381642759447548), (2237, 0.0033816110196225753), (1617, 0.003381292623748891), (308, 0.0033804651132536647), (1843, 0.003377366042448033), (705, 0.0033760200060159863), (4394, 0.0033751075437101763), (399, 0.00337487012371799), (115, 0.003373334570935171), (1026, 0.003373268614292162), (551, 0.003370753648756825), (2758, 0.0033703387099994838), (4420, 0.003369680019838324), (1951, 0.0033692577870862105), (4183, 0.0033675006391019192), (922, 0.0033667131234216075), (1550, 0.003365615590270546), (1909, 0.0033651869971874316), (1324, 0.003364849246912982), (4706, 0.003364386335014945), (1439, 0.0033643302568283164), (2317, 0.0033640926683676637), (3569, 0.0033639402898768874), (4550, 0.0033634553925512775), (12, 0.00336341773936994), (457, 0.0033631423649667846), (23, 0.0033618764431036304), (3811, 0.003361772923552259), (4479, 0.0033616989678792518), (1896, 0.003361629077145984), (2411, 0.003361624280933693), (1872, 0.0033615562127541666), (2359, 0.00336118038646649), (3596, 0.003360176674673912), (1476, 0.0033597000417156836), (4136, 0.003359240601384255), (286, 0.0033588550136330387), (1616, 0.0033586303796196673), (4395, 0.003358174675066007), (3062, 0.0033567301655951683), (2073, 0.003354868554889271), (4382, 0.003354303284162008), (3216, 0.0033538348286049195), (2356, 0.0033537921996059546), (4686, 0.0033536586070908392), (3493, 0.0033526103963721315), (2698, 0.003352436856285), (2134, 0.003348821285777243), (680, 0.00334790159115957), (2800, 0.003347822119545588), (984, 0.00334736813767), (3346, 0.0033434275486617215), (2863, 0.003342630686745945), (4138, 0.0033421702578739537), (184, 0.003342093401991362), (1052, 0.0033415733163480775), (2890, 0.003340788851342662), (3194, 0.0033400964636339362), (348, 0.0033398729329879384), (698, 0.0033392981715606763), (3069, 0.003339156359944067), (1298, 0.003338972998008466), (579, 0.003338839136274404), (3246, 0.003338817492196532), (1355, 0.003338695411610526), (3445, 0.003338205523277426), (2301, 0.0033381908864235535), (3348, 0.003337851754920001), (4397, 0.0033363877775465633), (2907, 0.003335308350747534), (71, 0.003333911491065854), (1475, 0.0033338852070156806), (3329, 0.003332748061858327), (2505, 0.0033314958543739052), (2103, 0.0033302988271297087), (1096, 0.003329129296603668), (2945, 0.003328875326456522), (4575, 0.0033285805116078622), (2051, 0.003328270193121966), (3111, 0.003328259408638192), (11, 0.0033273906459246115), (2766, 0.003326719729545843), (3026, 0.0033261051725900575), (890, 0.0033252569460654356), (897, 0.003325079424705414), (2995, 0.0033238725049778606), (2535, 0.003323607996337135), (4011, 0.00332347978630514), (4649, 0.003321968244373036), (472, 0.003321831301481475), (466, 0.003320632744009088), (4042, 0.003319821269426265), (1691, 0.0033195729217493325), (3526, 0.0033193401198294546), (2474, 0.003319233989071231), (4566, 0.003318489394998851), (884, 0.0033184773030604823), (4308, 0.0033181827358145614), (1658, 0.003317966870753496), (4687, 0.0033168607591713365), (4085, 0.0033166657434808046), (2131, 0.0033165727822438117), (2144, 0.003315787474702948), (2571, 0.003314863082253084), (4640, 0.0033144281017525824), (1084, 0.0033135051713591482), (588, 0.0033127284658765123), (3599, 0.0033116807909781805), (1969, 0.0033095000798379587), (1305, 0.003309428927443551), (3335, 0.003309337780784721), (4, 0.0033087946527756654), (2242, 0.0033076236877868518), (657, 0.00330673192998982), (1002, 0.0033053618392864773), (1364, 0.0033045178395662207), (1936, 0.0033043214443126876), (2049, 0.0033028720927794734), (2401, 0.0033025414566604577), (3187, 0.0033025132272878487), (346, 0.003301912510743418), (3967, 0.0033010479546320315), (377, 0.0033008215229878546), (4273, 0.0033005242269995906), (3352, 0.0032990560757034408), (805, 0.003298997520641367), (1306, 0.0032987415368339146), (4330, 0.0032981130930040386), (2390, 0.00329734577096153), (3381, 0.003297326933445905), (1722, 0.003296596684183968), (3749, 0.0032963253493476148), (4349, 0.003295325807303549), (262, 0.0032938374721000322), (2554, 0.0032937049860053257), (3064, 0.0032932714317347265), (2748, 0.0032932542749611517), (3258, 0.003293185510986582), (4036, 0.0032928639199926776), (4427, 0.0032918978072240725), (4448, 0.003291878738640167), (476, 0.0032917778038268185), (895, 0.0032909563203167218), (2653, 0.0032907760618336897), (4604, 0.003290687505167545), (3417, 0.003290648266107275), (1176, 0.0032902562777538794), (4074, 0.003289839170257557), (2525, 0.0032897267840834806), (1543, 0.0032885465085735013), (740, 0.003288322823361472), (4381, 0.0032870598369147083), (3706, 0.003286764949783062), (3478, 0.0032864629577480458), (1827, 0.003285807124146443), (3673, 0.0032853658109941643), (1703, 0.003285264195294337), (3044, 0.003284953523969063), (4528, 0.003284747558511329), (2159, 0.0032845773507212987), (2108, 0.0032844109718024347), (2396, 0.0032840108328552426), (4472, 0.0032835389950035473), (1378, 0.0032820766376229424), (2176, 0.0032814008471414467), (3393, 0.003279088139385587), (2728, 0.003278664730764518), (2705, 0.0032786528562565075), (407, 0.0032778362580279576), (2931, 0.0032768326975781913), (4685, 0.003276482837924978), (1905, 0.0032760739618531358), (3714, 0.003275997834067619), (3919, 0.0032750354238320063), (4083, 0.003272811657573375), (324, 0.0032722733501800395), (4734, 0.003271403312203382), (2004, 0.0032685224869394847), (2969, 0.003268257323615064), (798, 0.003266840433669112), (871, 0.003265629197400158), (4563, 0.0032648117618460427), (3150, 0.0032637193940357138), (3238, 0.003263242150426927), (3579, 0.003263148926702187), (1006, 0.0032629449483638122), (3369, 0.003262840351412421), (3920, 0.003262653873781527), (883, 0.003261787840687915), (2553, 0.003261541194284496), (3389, 0.003260221747996749), (211, 0.00325997864334044), (4363, 0.0032595207107341583), (1920, 0.0032590183607602206), (3855, 0.003258282547613323), (2475, 0.0032569034380261538), (1245, 0.003256555507325301), (2000, 0.0032558226946899573), (3402, 0.0032555617132312576), (3875, 0.003255213464926146), (4540, 0.003254163192331422), (221, 0.003253942435338073), (4634, 0.0032538197118808006), (2209, 0.0032535971880536707), (1814, 0.0032527135866255294), (2888, 0.0032526495133557193), (1075, 0.003252571028352186), (717, 0.0032521210244016103), (2367, 0.0032516922336982977), (358, 0.0032505594377135335), (1033, 0.003250112356996381), (8, 0.003248916958753586), (175, 0.0032487219225465014), (899, 0.0032479960980014446), (2634, 0.0032475220513654645), (4161, 0.003246537175816773), (4487, 0.003246520038763733), (3784, 0.00324474275606614), (901, 0.0032444474935295247), (1995, 0.0032425481508628045), (4266, 0.0032414922043012924), (655, 0.003240622233275501), (26, 0.003239755981374983), (164, 0.003239286795973021), (4111, 0.003239020306731633), (66, 0.003238228017323657), (1392, 0.003238198499807062), (1080, 0.003238148376839686), (2309, 0.0032372123812107385), (2035, 0.0032367520522555817), (1645, 0.003236357052022226), (1807, 0.0032360173680351973), (1574, 0.0032357826828270995), (1365, 0.0032357658022652003), (1706, 0.0032351355787014883), (4657, 0.003235042897766388), (2965, 0.003234944866171093), (2169, 0.0032345547703083555), (2533, 0.003234287307080732), (3882, 0.003234206317147987), (1446, 0.0032340220949510583), (2786, 0.003233025376626225), (504, 0.003232694094603203), (4399, 0.003232270247563326), (3491, 0.0032299850776836944), (2192, 0.0032296789234963685), (169, 0.003229293810490993), (1117, 0.0032291068689050133), (2463, 0.0032287720644750234), (3007, 0.0032280294321747355), (4743, 0.0032273355193209057), (1612, 0.003226656494186122), (597, 0.003226359766192276), (2776, 0.0032261092675767654), (2970, 0.0032258779134312003), (1403, 0.0032249261113638664), (2117, 0.003224637129205076), (1313, 0.003223275662032287), (269, 0.0032221994170765203), (3606, 0.0032213408659493015), (3071, 0.003220384318255733), (2473, 0.003220294530746423), (2779, 0.0032202890210943956), (826, 0.003220157992181232), (1199, 0.0032198910205967404), (2593, 0.0032187141512836936), (4056, 0.003218685907772957), (1712, 0.0032174271910943553), (2826, 0.003217261343569355), (3067, 0.0032167939979706045), (4345, 0.0032164313063034167), (3987, 0.0032159476369058777), (183, 0.0032157442139411027), (578, 0.003213769038801628), (4245, 0.003213448928211455), (3541, 0.0032128592626323124), (3590, 0.003212707900021007), (1463, 0.0032126954908213603), (2664, 0.003212075474018993), (132, 0.003211054407127324), (378, 0.003210980624049882), (651, 0.0032108742710086264), (1203, 0.0032107491947821723), (2143, 0.0032096840452246434), (446, 0.003208958963666686), (697, 0.00320775884443623), (330, 0.0032070357514010646), (1411, 0.0032068139804595185), (2148, 0.0032064826179749382), (2507, 0.0032062139446886666), (2303, 0.0032056154243080646), (1528, 0.0032046727080752876), (3434, 0.0032040770784671855), (2612, 0.003203638871521116), (2116, 0.0032035598352272007), (1394, 0.003203427571229132), (2011, 0.003203213829218214), (2288, 0.0032031817858502298), (767, 0.003203019636806224), (794, 0.0032027612116385623), (3399, 0.003202594256521741), (196, 0.0032014814054823347), (1869, 0.003201055932430722), (2067, 0.0032007276790389245), (1708, 0.0031978533107838948), (2268, 0.0031977324438793), (343, 0.0031976681483207817), (2361, 0.0031972678504974786), (2292, 0.003196798044486622), (3037, 0.00319678782050254), (1163, 0.0031964997546537056), (3014, 0.0031942428933848656), (818, 0.003194200411845507), (1308, 0.0031935976978307444), (1943, 0.0031935721896527852), (3084, 0.0031930312174261767), (4320, 0.0031918733530224923), (4318, 0.003191327599031412), (4471, 0.003190898018929613), (3057, 0.003190415436432026), (1422, 0.0031902193754870843), (1598, 0.0031898287012406454), (1921, 0.003189755479721616), (119, 0.0031897457647782437), (1822, 0.0031892001842926203), (817, 0.0031888193858063303), (29, 0.0031870706949259434), (1884, 0.003186193273682311), (4155, 0.0031851171585532546), (2915, 0.0031837354386139356), (61, 0.003183686405924882), (2783, 0.003183573818530036), (400, 0.003182316002360182), (1759, 0.00318082722765973), (2862, 0.003180093054408661), (1372, 0.0031752406209586553), (4501, 0.0031751378100041616), (3614, 0.0031746212545834935), (2260, 0.003174563345054383), (2068, 0.0031742530719335023), (2201, 0.003173891524196168), (4428, 0.0031734914484101233), (2534, 0.003173025333157674), (2399, 0.0031717928686636854), (3781, 0.0031713742131226144), (1670, 0.003171311303398189), (412, 0.003171284483012307), (158, 0.0031693504647267415), (620, 0.003169036063331417), (2446, 0.003168551782251989), (1114, 0.0031684595603058514), (2611, 0.0031670394749051083), (3641, 0.0031669474140862165), (3372, 0.0031663346928200134), (616, 0.0031659888876333867), (24, 0.0031633254317803), (410, 0.0031632271515162694), (1891, 0.0031609177627554812), (1685, 0.0031600669024020225), (564, 0.003158311245472943), (2405, 0.0031581878470063472), (854, 0.0031542611153981496), (3243, 0.0031541491382977883), (815, 0.003153930015817165), (1423, 0.003153615371666503), (127, 0.0031533465162538275), (1663, 0.0031515321333520944), (2926, 0.0031509835623168654), (1683, 0.003150487912462537), (3147, 0.0031504419518030443), (3376, 0.003149310554246117), (1762, 0.003149182532267525), (2954, 0.0031491733630585475), (464, 0.0031491728868730355), (783, 0.003149004017590791), (1743, 0.003148629233569772), (325, 0.003148524267928325), (3839, 0.003147870718966603), (292, 0.0031478023203725413), (4641, 0.003147550187413546), (1408, 0.003144636573061153), (1642, 0.003144229802977), (227, 0.0031438871553619184), (4625, 0.003140889014658962), (1570, 0.0031403740709180276), (496, 0.003138921826708177), (703, 0.0031388935276989846), (4419, 0.0031371958431173864), (4069, 0.003135832223059481), (3056, 0.0031357776448140535), (1882, 0.0031353191705675723), (975, 0.0031350561894811636), (4357, 0.003134489366771306), (4350, 0.0031332767961962517), (2661, 0.0031313940541056497), (2141, 0.0031310078774811545), (3902, 0.003130460442110594), (3527, 0.00312939513868179), (2481, 0.003128653558663542), (843, 0.003128540642131129), (3214, 0.0031280088840679268), (2545, 0.003127374408520895), (1034, 0.0031273579792393483), (524, 0.003125862103580055), (1571, 0.0031256257770792425), (4422, 0.0031250860479321023), (4336, 0.00312424475683559), (2461, 0.0031208065547406977), (1079, 0.003120428648521982), (1464, 0.003119702966106753), (2942, 0.0031196401491813044), (2382, 0.003117665997578314), (3742, 0.00311645633533511), (856, 0.003116158242813314), (1742, 0.0031160133281262527), (3636, 0.003115618969528757), (1831, 0.003114178074452735), (3226, 0.003114112552215466), (2679, 0.0031127721438097542), (1693, 0.0031124494900517195), (2277, 0.0031107362835812186), (2213, 0.003109562275448772), (364, 0.003108595349831074), (4247, 0.00310826310480968), (734, 0.0031080140680007696), (3224, 0.0031060337556655954), (2338, 0.003105560451305046), (2466, 0.0031055584259735776), (759, 0.003103020227609976), (3557, 0.003101167889400534), (3311, 0.003100929896488317), (2587, 0.0031006235720432017), (3646, 0.0030976411095264256), (1641, 0.00309726328515283), (4052, 0.003095596569839701), (609, 0.003093388448811448), (1553, 0.0030929535641164886), (933, 0.003092687516907781), (1004, 0.003092472964461606), (4409, 0.0030901572585058197), (229, 0.0030898041338285366), (3016, 0.0030888031915557706), (3173, 0.003088357507843607), (3809, 0.0030877918407272), (4059, 0.0030876091972651103), (966, 0.003087378020791258), (3379, 0.0030864439501979164), (2323, 0.0030852423080884868), (1367, 0.003084318843110797), (4536, 0.003083391593344262), (2129, 0.0030832716324870535), (3691, 0.0030829779060099582), (1764, 0.0030804574206280146), (2386, 0.003080288079860138), (944, 0.003079412134714307), (3707, 0.0030790153994154188), (2347, 0.0030753598158910597), (2812, 0.0030747823172770374), (886, 0.003074587244569498), (4079, 0.0030740051867266262), (465, 0.00307337732172412), (624, 0.0030725010300180545), (510, 0.003072012635108143), (372, 0.0030706434276757855), (2902, 0.0030694413847121888), (4257, 0.0030679609948964493), (1875, 0.0030661364780306096), (3733, 0.0030656247795912855), (4504, 0.0030644760628540527), (4356, 0.0030641443287716475), (471, 0.0030637906263445724), (449, 0.0030630770226204545), (1217, 0.003062653685573244), (4014, 0.0030611548959570602), (129, 0.0030611089450740393), (1624, 0.003060814612806833), (495, 0.0030606077732437745), (3300, 0.003056928437646908), (2270, 0.003056375140601141), (2482, 0.0030562790550062403), (1877, 0.003051365467273094), (4511, 0.0030511639865341586), (1182, 0.0030508060692083254), (97, 0.003048573689860883), (4348, 0.003048225897212328), (4143, 0.0030460138923834), (2520, 0.0030458904522925683), (33, 0.003045160942576218), (4712, 0.003042553585546355), (4205, 0.0030423962133870144), (3917, 0.0030408135528339005), (3075, 0.003039372663758377), (1677, 0.0030390281684044354), (2285, 0.0030389505367182483), (921, 0.00303885024018622), (755, 0.0030370000691284597), (113, 0.0030347277411999895), (2149, 0.003033283721636864), (3542, 0.003032880202430094), (2603, 0.0030253146577015858), (1690, 0.0030251114466230316), (940, 0.003023322131841942), (1950, 0.003020954921917679), (3113, 0.003018654445696444), (1032, 0.003017957156802237), (607, 0.0030163276918005635), (268, 0.0030151931946349377), (4391, 0.0030138180334538275), (1730, 0.003011859380584191), (1340, 0.0030106129112662176), (3327, 0.0030099198459996525), (1077, 0.0030091871367010203), (1744, 0.0030074865170649297), (2289, 0.0030071301420220927), (60, 0.0030055173472423435), (3278, 0.0030037543605165324), (2999, 0.003003073220812369), (1136, 0.0030024448757330403), (1558, 0.0030014283593060914), (4171, 0.003001277466013829), (2943, 0.0030006610096524828), (82, 0.0030001924196449946), (92, 0.0029975698926520775), (2538, 0.002997461278707289), (3668, 0.002996998552079259), (4620, 0.0029969904998985984), (3441, 0.0029969108006076104), (598, 0.0029965509157252063), (1954, 0.002995128204653292), (3558, 0.002994857762756947), (357, 0.002993168077494548), (1514, 0.0029928196896900263), (4182, 0.002992185959125635), (359, 0.002991577114429326), (507, 0.002990328796116995), (1072, 0.0029894172674767984), (907, 0.0029893973468973364), (4156, 0.002988596425289057), (4228, 0.0029871210219664735), (2900, 0.0029852282827185885), (2362, 0.0029846583192113703), (4015, 0.0029845136562036104), (1801, 0.0029836211960482264), (3669, 0.002983159391763439), (2876, 0.002981603021212349), (2526, 0.002981202264967334), (4520, 0.0029793869658103684), (2946, 0.0029761395492398446), (4220, 0.0029744458428764735), (1465, 0.0029737183678217077), (1830, 0.0029735546238332266), (1625, 0.002972104447653188), (3954, 0.002970395339525231), (1539, 0.0029692416334757598), (3827, 0.0029689915925556836), (3986, 0.002967972726968549), (1273, 0.0029672696402200864), (267, 0.0029670405367445557), (309, 0.002966528296298241), (317, 0.002965085902892881), (3821, 0.002964596482033828), (3096, 0.0029639761095940995), (136, 0.002961814402702492), (4476, 0.0029618095345746447), (441, 0.0029612333890124028), (4066, 0.0029604415794100107), (1352, 0.002958292778670616), (4304, 0.0029572516446954213), (2132, 0.0029568915105041807), (796, 0.0029557723738111307), (3719, 0.002953885326570193), (242, 0.002953402998769561), (2087, 0.002952609119249154), (156, 0.002949725700268569), (480, 0.0029492048478140707), (1672, 0.002947972203927961), (2163, 0.0029462902915526378), (1370, 0.0029437553954823627), (4693, 0.0029418379538405206), (1350, 0.002940757605160978), (416, 0.00293915765301593), (2457, 0.0029383174406557378), (4530, 0.002938236483916654), (195, 0.0029373855977430775), (594, 0.002936693404821234), (4573, 0.002935898646649148), (3953, 0.0029346772833032555), (2441, 0.0029327408502149753), (1605, 0.00293229557421954), (691, 0.0029297134763069505), (4129, 0.0029270728293188542), (4638, 0.002924601612102874), (1538, 0.0029240404233564616), (2747, 0.002923116877636063), (3093, 0.002918311312605803), (3863, 0.0029182948272987426), (3725, 0.002915310661536527), (4461, 0.00291432183960974), (2402, 0.0029135293322549174), (3500, 0.0029101712593716375), (4729, 0.0029077397239033005), (646, 0.0029072760657879795), (488, 0.0029051946965948515), (4080, 0.0029043095413851293), (3795, 0.0028952164672030258), (487, 0.0028930111909523724), (3211, 0.002892489381880814), (202, 0.002888821503138826), (4254, 0.0028887747289361833), (3268, 0.002888583854680479), (3900, 0.0028817192313627107), (1020, 0.0028807264788597354), (2741, 0.002880608323226678), (157, 0.002879828464524059), (4748, 0.002879596829076249), (3170, 0.0028789090092337954), (706, 0.0028774000401726486), (1312, 0.0028743829441031134), (2509, 0.0028739333764396056), (4213, 0.0028711463551717633), (3799, 0.0028669693006889148), (3898, 0.0028652049976229253), (824, 0.0028612140111305643), (2997, 0.002859608085591191), (2976, 0.0028584697128875795), (1747, 0.0028579475781543616), (3024, 0.002856188134656067), (403, 0.0028547959744487823), (1833, 0.00285442888697556), (838, 0.002852714308846203), (3615, 0.0028482883424963317), (197, 0.00284781454059531), (3304, 0.002847573559954725), (3667, 0.00284746638563929), (32, 0.002846358997591096), (4652, 0.0028459778451937236), (647, 0.0028447148074026416), (2287, 0.0028437990213569797), (4343, 0.002843188644967643), (722, 0.00284016637177742), (3200, 0.0028393531267055915), (941, 0.0028363934617086947), (924, 0.002833037272465255), (140, 0.002831191877804463), (165, 0.0028293421480758566), (445, 0.0028285755676826924), (1980, 0.002825353577630853), (505, 0.0028153558981617653), (527, 0.0028117389215792463), (2265, 0.002809581371705538), (63, 0.002808148428404152), (3538, 0.002806188696701338), (1565, 0.002805257429942701), (4636, 0.0028051147568145317), (194, 0.0028023702507105957), (712, 0.002800175885074488), (4603, 0.0027995601477909214), (437, 0.0027950921025431804), (4616, 0.0027943179326128985), (2556, 0.0027923172879965284), (3657, 0.002789588022955059), (3627, 0.002784989461943435), (3634, 0.00278167325505407), (1209, 0.0027809613193645133), (707, 0.0027796035957058296), (4326, 0.0027757700020637874), (475, 0.0027740168521017705), (3199, 0.0027726748836410897), (3455, 0.0027709493581462878), (4411, 0.0027708765337661097), (1434, 0.0027650262302153874), (3347, 0.002760726418417342), (2674, 0.0027591200041337405), (1144, 0.0027520891227759514), (159, 0.002751340844501689), (2933, 0.0027513315440082734), (4473, 0.0027475934548525597), (2735, 0.0027471772293480683), (3895, 0.0027461481892907436), (2211, 0.002745974707161564), (3575, 0.0027453100010267034), (1628, 0.0027431020478977724), (3050, 0.002737383484889135), (452, 0.002736958780658924), (2240, 0.0027337712964970854), (4598, 0.0027303123616773486), (1161, 0.0027264559555235618), (1648, 0.00272235580621942), (3927, 0.0027135035737910988), (473, 0.002712424663960656), (1826, 0.0027090139384922376), (3894, 0.002708081397699918), (951, 0.0027062485958957885), (2248, 0.0027021500541688503), (645, 0.002683932630516474), (2127, 0.002672108170182076), (3755, 0.0026678241046099002), (103, 0.0026619561901141554), (2034, 0.002660020087359269), (3548, 0.0026542568752065975), (252, 0.0026534589859768705), (4626, 0.0026474670215713586), (1427, 0.0026449860318540266), (1042, 0.0026418955851185187), (611, 0.002641628715969256), (4296, 0.002636502857394907), (3285, 0.0026358292407087937), (4445, 0.0026208693779792495), (4429, 0.0026207102316479474), (3392, 0.0026130751544928385), (4386, 0.002611986896709669), (7, 0.0025914724761808457), (3626, 0.002582368645444716), (2743, 0.0025745957253908145), (3546, 0.0025698049720438584), (2146, 0.0025644660095435878), (293, 0.002544260471172475), (1037, 0.0025420451456567503), (2469, 0.0025230006637358307), (3152, 0.002508336289434378), (1277, 0.0024877100509592552), (1415, 0.0024798331049653293), (4311, 0.002457221930865672), (3421, 0.0024440859772052502), (3365, 0.002427283722263269), (3928, 0.002425587576346943), (3431, 0.002425557285875689), (4744, 0.0024199313493743265), (453, 0.0023751106941606905), (3301, 0.002369590906672401), (2010, 0.00236724925695255), (4752, 0.0023536650480830007), (1040, 0.00233685434032367), (929, 0.0022899914894712586), (4301, 0.0022415601898148874), (3608, 0.00204991234675523), (3835, 0.0019975313297515623), (1, 0.0), (2, 0.0), (9, 0.0), (13, 0.0), (14, 0.0), (17, 0.0), (19, 0.0), (22, 0.0), (28, 0.0), (35, 0.0), (36, 0.0), (37, 0.0), (49, 0.0), (53, 0.0), (54, 0.0), (55, 0.0), (56, 0.0), (57, 0.0), (58, 0.0), (59, 0.0), (64, 0.0), (73, 0.0), (75, 0.0), (91, 0.0), (100, 0.0), (101, 0.0), (117, 0.0), (130, 0.0), (131, 0.0), (133, 0.0), (134, 0.0), (141, 0.0), (146, 0.0), (150, 0.0), (151, 0.0), (153, 0.0), (163, 0.0), (168, 0.0), (171, 0.0), (177, 0.0), (186, 0.0), (188, 0.0), (205, 0.0), (214, 0.0), (219, 0.0), (223, 0.0), (225, 0.0), (230, 0.0), (231, 0.0), (232, 0.0), (237, 0.0), (245, 0.0), (248, 0.0), (258, 0.0), (259, 0.0), (263, 0.0), (264, 0.0), (265, 0.0), (272, 0.0), (275, 0.0), (297, 0.0), (298, 0.0), (299, 0.0), (300, 0.0), (301, 0.0), (302, 0.0), (312, 0.0), (319, 0.0), (331, 0.0), (335, 0.0), (336, 0.0), (337, 0.0), (338, 0.0), (339, 0.0), (340, 0.0), (344, 0.0), (352, 0.0), (361, 0.0), (362, 0.0), (363, 0.0), (365, 0.0), (366, 0.0), (376, 0.0), (379, 0.0), (382, 0.0), (386, 0.0), (390, 0.0), (391, 0.0), (392, 0.0), (393, 0.0), (394, 0.0), (401, 0.0), (404, 0.0), (405, 0.0), (409, 0.0), (411, 0.0), (413, 0.0), (414, 0.0), (415, 0.0), (423, 0.0), (427, 0.0), (439, 0.0), (440, 0.0), (454, 0.0), (477, 0.0), (484, 0.0), (486, 0.0), (491, 0.0), (492, 0.0), (498, 0.0), (506, 0.0), (516, 0.0), (517, 0.0), (520, 0.0), (521, 0.0), (525, 0.0), (528, 0.0), (529, 0.0), (531, 0.0), (535, 0.0), (536, 0.0), (538, 0.0), (545, 0.0), (546, 0.0), (548, 0.0), (549, 0.0), (552, 0.0), (553, 0.0), (554, 0.0), (555, 0.0), (556, 0.0), (557, 0.0), (561, 0.0), (565, 0.0), (567, 0.0), (568, 0.0), (569, 0.0), (570, 0.0), (572, 0.0), (573, 0.0), (574, 0.0), (575, 0.0), (577, 0.0), (582, 0.0), (583, 0.0), (585, 0.0), (586, 0.0), (591, 0.0), (592, 0.0), (599, 0.0), (600, 0.0), (601, 0.0), (602, 0.0), (603, 0.0), (610, 0.0), (630, 0.0), (648, 0.0), (649, 0.0), (650, 0.0), (656, 0.0), (658, 0.0), (662, 0.0), (663, 0.0), (665, 0.0), (671, 0.0), (674, 0.0), (677, 0.0), (679, 0.0), (681, 0.0), (686, 0.0), (699, 0.0), (700, 0.0), (702, 0.0), (704, 0.0), (708, 0.0), (709, 0.0), (711, 0.0), (713, 0.0), (714, 0.0), (718, 0.0), (720, 0.0), (724, 0.0), (725, 0.0), (726, 0.0), (730, 0.0), (736, 0.0), (741, 0.0), (746, 0.0), (747, 0.0), (748, 0.0), (751, 0.0), (752, 0.0), (754, 0.0), (758, 0.0), (763, 0.0), (764, 0.0), (768, 0.0), (770, 0.0), (771, 0.0), (772, 0.0), (773, 0.0), (776, 0.0), (778, 0.0), (780, 0.0), (781, 0.0), (784, 0.0), (785, 0.0), (786, 0.0), (789, 0.0), (797, 0.0), (807, 0.0), (814, 0.0), (819, 0.0), (820, 0.0), (821, 0.0), (822, 0.0), (834, 0.0), (835, 0.0), (837, 0.0), (839, 0.0), (840, 0.0), (841, 0.0), (846, 0.0), (859, 0.0), (881, 0.0), (882, 0.0), (892, 0.0), (906, 0.0), (909, 0.0), (912, 0.0), (913, 0.0), (914, 0.0), (920, 0.0), (926, 0.0), (938, 0.0), (943, 0.0), (945, 0.0), (946, 0.0), (950, 0.0), (954, 0.0), (955, 0.0), (956, 0.0), (958, 0.0), (960, 0.0), (961, 0.0), (964, 0.0), (965, 0.0), (971, 0.0), (972, 0.0), (977, 0.0), (978, 0.0), (982, 0.0), (983, 0.0), (990, 0.0), (995, 0.0), (1008, 0.0), (1010, 0.0), (1011, 0.0), (1013, 0.0), (1014, 0.0), (1016, 0.0), (1022, 0.0), (1025, 0.0), (1028, 0.0), (1029, 0.0), (1031, 0.0), (1038, 0.0), (1039, 0.0), (1045, 0.0), (1046, 0.0), (1051, 0.0), (1055, 0.0), (1056, 0.0), (1062, 0.0), (1066, 0.0), (1067, 0.0), (1069, 0.0), (1073, 0.0), (1081, 0.0), (1086, 0.0), (1089, 0.0), (1090, 0.0), (1091, 0.0), (1093, 0.0), (1094, 0.0), (1097, 0.0), (1101, 0.0), (1103, 0.0), (1105, 0.0), (1106, 0.0), (1108, 0.0), (1111, 0.0), (1113, 0.0), (1125, 0.0), (1126, 0.0), (1130, 0.0), (1133, 0.0), (1135, 0.0), (1139, 0.0), (1142, 0.0), (1143, 0.0), (1147, 0.0), (1149, 0.0), (1151, 0.0), (1152, 0.0), (1155, 0.0), (1156, 0.0), (1157, 0.0), (1159, 0.0), (1165, 0.0), (1166, 0.0), (1171, 0.0), (1172, 0.0), (1178, 0.0), (1180, 0.0), (1189, 0.0), (1190, 0.0), (1193, 0.0), (1196, 0.0), (1198, 0.0), (1200, 0.0), (1201, 0.0), (1212, 0.0), (1218, 0.0), (1221, 0.0), (1222, 0.0), (1227, 0.0), (1228, 0.0), (1233, 0.0), (1235, 0.0), (1238, 0.0), (1239, 0.0), (1240, 0.0), (1242, 0.0), (1244, 0.0), (1246, 0.0), (1249, 0.0), (1250, 0.0), (1253, 0.0), (1256, 0.0), (1258, 0.0), (1263, 0.0), (1265, 0.0), (1267, 0.0), (1268, 0.0), (1269, 0.0), (1271, 0.0), (1274, 0.0), (1278, 0.0), (1285, 0.0), (1287, 0.0), (1288, 0.0), (1289, 0.0), (1291, 0.0), (1293, 0.0), (1295, 0.0), (1296, 0.0), (1297, 0.0), (1299, 0.0), (1307, 0.0), (1310, 0.0), (1315, 0.0), (1316, 0.0), (1321, 0.0), (1322, 0.0), (1323, 0.0), (1326, 0.0), (1327, 0.0), (1328, 0.0), (1329, 0.0), (1331, 0.0), (1333, 0.0), (1336, 0.0), (1341, 0.0), (1342, 0.0), (1345, 0.0), (1346, 0.0), (1353, 0.0), (1354, 0.0), (1361, 0.0), (1368, 0.0), (1373, 0.0), (1374, 0.0), (1376, 0.0), (1379, 0.0), (1386, 0.0), (1389, 0.0), (1390, 0.0), (1399, 0.0), (1401, 0.0), (1405, 0.0), (1418, 0.0), (1424, 0.0), (1425, 0.0), (1437, 0.0), (1441, 0.0), (1444, 0.0), (1445, 0.0), (1447, 0.0), (1453, 0.0), (1457, 0.0), (1459, 0.0), (1460, 0.0), (1466, 0.0), (1467, 0.0), (1468, 0.0), (1470, 0.0), (1473, 0.0), (1485, 0.0), (1486, 0.0), (1487, 0.0), (1490, 0.0), (1491, 0.0), (1492, 0.0), (1495, 0.0), (1496, 0.0), (1501, 0.0), (1505, 0.0), (1508, 0.0), (1511, 0.0), (1512, 0.0), (1515, 0.0), (1517, 0.0), (1520, 0.0), (1521, 0.0), (1522, 0.0), (1523, 0.0), (1524, 0.0), (1525, 0.0), (1526, 0.0), (1529, 0.0), (1532, 0.0), (1534, 0.0), (1535, 0.0), (1541, 0.0), (1545, 0.0), (1548, 0.0), (1549, 0.0), (1552, 0.0), (1556, 0.0), (1557, 0.0), (1561, 0.0), (1563, 0.0), (1564, 0.0), (1569, 0.0), (1577, 0.0), (1578, 0.0), (1579, 0.0), (1581, 0.0), (1583, 0.0), (1584, 0.0), (1586, 0.0), (1589, 0.0), (1592, 0.0), (1596, 0.0), (1599, 0.0), (1600, 0.0), (1601, 0.0), (1602, 0.0), (1603, 0.0), (1604, 0.0), (1606, 0.0), (1607, 0.0), (1609, 0.0), (1610, 0.0), (1611, 0.0), (1613, 0.0), (1615, 0.0), (1618, 0.0), (1626, 0.0), (1636, 0.0), (1638, 0.0), (1639, 0.0), (1640, 0.0), (1644, 0.0), (1646, 0.0), (1649, 0.0), (1651, 0.0), (1654, 0.0), (1664, 0.0), (1668, 0.0), (1669, 0.0), (1673, 0.0), (1676, 0.0), (1679, 0.0), (1684, 0.0), (1686, 0.0), (1689, 0.0), (1692, 0.0), (1695, 0.0), (1697, 0.0), (1698, 0.0), (1700, 0.0), (1704, 0.0), (1709, 0.0), (1714, 0.0), (1715, 0.0), (1718, 0.0), (1725, 0.0), (1726, 0.0), (1728, 0.0), (1729, 0.0), (1731, 0.0), (1734, 0.0), (1737, 0.0), (1741, 0.0), (1745, 0.0), (1746, 0.0), (1750, 0.0), (1751, 0.0), (1755, 0.0), (1756, 0.0), (1758, 0.0), (1766, 0.0), (1767, 0.0), (1769, 0.0), (1771, 0.0), (1775, 0.0), (1777, 0.0), (1778, 0.0), (1783, 0.0), (1785, 0.0), (1786, 0.0), (1787, 0.0), (1790, 0.0), (1794, 0.0), (1795, 0.0), (1800, 0.0), (1802, 0.0), (1803, 0.0), (1804, 0.0), (1810, 0.0), (1818, 0.0), (1820, 0.0), (1823, 0.0), (1824, 0.0), (1825, 0.0), (1834, 0.0), (1835, 0.0), (1836, 0.0), (1839, 0.0), (1841, 0.0), (1842, 0.0), (1844, 0.0), (1849, 0.0), (1850, 0.0), (1855, 0.0), (1856, 0.0), (1863, 0.0), (1867, 0.0), (1868, 0.0), (1870, 0.0), (1879, 0.0), (1880, 0.0), (1883, 0.0), (1888, 0.0), (1889, 0.0), (1894, 0.0), (1895, 0.0), (1898, 0.0), (1899, 0.0), (1903, 0.0), (1906, 0.0), (1908, 0.0), (1911, 0.0), (1912, 0.0), (1913, 0.0), (1915, 0.0), (1917, 0.0), (1926, 0.0), (1928, 0.0), (1932, 0.0), (1935, 0.0), (1938, 0.0), (1944, 0.0), (1948, 0.0), (1955, 0.0), (1956, 0.0), (1957, 0.0), (1961, 0.0), (1963, 0.0), (1965, 0.0), (1966, 0.0), (1972, 0.0), (1974, 0.0), (1978, 0.0), (1979, 0.0), (1984, 0.0), (1988, 0.0), (2001, 0.0), (2002, 0.0), (2003, 0.0), (2005, 0.0), (2006, 0.0), (2007, 0.0), (2009, 0.0), (2017, 0.0), (2019, 0.0), (2021, 0.0), (2022, 0.0), (2025, 0.0), (2028, 0.0), (2030, 0.0), (2032, 0.0), (2033, 0.0), (2036, 0.0), (2038, 0.0), (2041, 0.0), (2042, 0.0), (2043, 0.0), (2046, 0.0), (2050, 0.0), (2052, 0.0), (2054, 0.0), (2056, 0.0), (2058, 0.0), (2059, 0.0), (2063, 0.0), (2064, 0.0), (2071, 0.0), (2079, 0.0), (2081, 0.0), (2085, 0.0), (2086, 0.0), (2090, 0.0), (2092, 0.0), (2095, 0.0), (2098, 0.0), (2101, 0.0), (2106, 0.0), (2107, 0.0), (2113, 0.0), (2114, 0.0), (2115, 0.0), (2118, 0.0), (2120, 0.0), (2124, 0.0), (2125, 0.0), (2128, 0.0), (2135, 0.0), (2138, 0.0), (2140, 0.0), (2145, 0.0), (2150, 0.0), (2152, 0.0), (2153, 0.0), (2156, 0.0), (2160, 0.0), (2161, 0.0), (2164, 0.0), (2165, 0.0), (2167, 0.0), (2168, 0.0), (2170, 0.0), (2171, 0.0), (2172, 0.0), (2175, 0.0), (2177, 0.0), (2179, 0.0), (2180, 0.0), (2182, 0.0), (2183, 0.0), (2185, 0.0), (2186, 0.0), (2194, 0.0), (2200, 0.0), (2202, 0.0), (2203, 0.0), (2204, 0.0), (2205, 0.0), (2207, 0.0), (2215, 0.0), (2217, 0.0), (2218, 0.0), (2219, 0.0), (2220, 0.0), (2222, 0.0), (2225, 0.0), (2227, 0.0), (2233, 0.0), (2234, 0.0), (2238, 0.0), (2239, 0.0), (2241, 0.0), (2243, 0.0), (2244, 0.0), (2247, 0.0), (2249, 0.0), (2253, 0.0), (2256, 0.0), (2258, 0.0), (2259, 0.0), (2261, 0.0), (2262, 0.0), (2263, 0.0), (2267, 0.0), (2271, 0.0), (2272, 0.0), (2274, 0.0), (2281, 0.0), (2282, 0.0), (2290, 0.0), (2291, 0.0), (2296, 0.0), (2297, 0.0), (2298, 0.0), (2300, 0.0), (2305, 0.0), (2307, 0.0), (2311, 0.0), (2312, 0.0), (2315, 0.0), (2322, 0.0), (2325, 0.0), (2327, 0.0), (2329, 0.0), (2331, 0.0), (2332, 0.0), (2333, 0.0), (2335, 0.0), (2337, 0.0), (2339, 0.0), (2341, 0.0), (2342, 0.0), (2345, 0.0), (2351, 0.0), (2352, 0.0), (2353, 0.0), (2357, 0.0), (2360, 0.0), (2364, 0.0), (2366, 0.0), (2368, 0.0), (2369, 0.0), (2372, 0.0), (2373, 0.0), (2376, 0.0), (2377, 0.0), (2380, 0.0), (2381, 0.0), (2384, 0.0), (2389, 0.0), (2395, 0.0), (2398, 0.0), (2409, 0.0), (2414, 0.0), (2420, 0.0), (2426, 0.0), (2431, 0.0), (2433, 0.0), (2435, 0.0), (2439, 0.0), (2445, 0.0), (2450, 0.0), (2451, 0.0), (2452, 0.0), (2455, 0.0), (2456, 0.0), (2458, 0.0), (2460, 0.0), (2462, 0.0), (2465, 0.0), (2470, 0.0), (2471, 0.0), (2472, 0.0), (2479, 0.0), (2483, 0.0), (2485, 0.0), (2491, 0.0), (2493, 0.0), (2497, 0.0), (2498, 0.0), (2499, 0.0), (2500, 0.0), (2503, 0.0), (2504, 0.0), (2508, 0.0), (2510, 0.0), (2511, 0.0), (2513, 0.0), (2514, 0.0), (2515, 0.0), (2516, 0.0), (2518, 0.0), (2521, 0.0), (2523, 0.0), (2532, 0.0), (2536, 0.0), (2539, 0.0), (2542, 0.0), (2543, 0.0), (2547, 0.0), (2548, 0.0), (2549, 0.0), (2551, 0.0), (2562, 0.0), (2564, 0.0), (2566, 0.0), (2574, 0.0), (2575, 0.0), (2577, 0.0), (2578, 0.0), (2582, 0.0), (2583, 0.0), (2584, 0.0), (2586, 0.0), (2588, 0.0), (2589, 0.0), (2590, 0.0), (2594, 0.0), (2596, 0.0), (2597, 0.0), (2604, 0.0), (2605, 0.0), (2608, 0.0), (2615, 0.0), (2616, 0.0), (2620, 0.0), (2627, 0.0), (2631, 0.0), (2637, 0.0), (2639, 0.0), (2641, 0.0), (2644, 0.0), (2648, 0.0), (2654, 0.0), (2656, 0.0), (2657, 0.0), (2658, 0.0), (2659, 0.0), (2660, 0.0), (2662, 0.0), (2663, 0.0), (2665, 0.0), (2666, 0.0), (2667, 0.0), (2669, 0.0), (2670, 0.0), (2671, 0.0), (2672, 0.0), (2675, 0.0), (2676, 0.0), (2677, 0.0), (2681, 0.0), (2684, 0.0), (2685, 0.0), (2686, 0.0), (2688, 0.0), (2690, 0.0), (2691, 0.0), (2693, 0.0), (2701, 0.0), (2703, 0.0), (2704, 0.0), (2708, 0.0), (2709, 0.0), (2715, 0.0), (2717, 0.0), (2719, 0.0), (2726, 0.0), (2729, 0.0), (2730, 0.0), (2732, 0.0), (2734, 0.0), (2737, 0.0), (2749, 0.0), (2750, 0.0), (2754, 0.0), (2756, 0.0), (2762, 0.0), (2763, 0.0), (2770, 0.0), (2773, 0.0), (2774, 0.0), (2781, 0.0), (2785, 0.0), (2793, 0.0), (2794, 0.0), (2799, 0.0), (2804, 0.0), (2805, 0.0), (2806, 0.0), (2807, 0.0), (2810, 0.0), (2811, 0.0), (2813, 0.0), (2814, 0.0), (2816, 0.0), (2817, 0.0), (2818, 0.0), (2823, 0.0), (2824, 0.0), (2827, 0.0), (2828, 0.0), (2829, 0.0), (2835, 0.0), (2836, 0.0), (2837, 0.0), (2839, 0.0), (2842, 0.0), (2843, 0.0), (2850, 0.0), (2851, 0.0), (2852, 0.0), (2855, 0.0), (2856, 0.0), (2860, 0.0), (2864, 0.0), (2865, 0.0), (2866, 0.0), (2867, 0.0), (2869, 0.0), (2873, 0.0), (2875, 0.0), (2877, 0.0), (2880, 0.0), (2891, 0.0), (2896, 0.0), (2898, 0.0), (2905, 0.0), (2906, 0.0), (2921, 0.0), (2922, 0.0), (2927, 0.0), (2928, 0.0), (2930, 0.0), (2935, 0.0), (2938, 0.0), (2941, 0.0), (2951, 0.0), (2952, 0.0), (2955, 0.0), (2956, 0.0), (2958, 0.0), (2967, 0.0), (2968, 0.0), (2973, 0.0), (2979, 0.0), (2982, 0.0), (2983, 0.0), (2990, 0.0), (3001, 0.0), (3002, 0.0), (3006, 0.0), (3008, 0.0), (3009, 0.0), (3021, 0.0), (3025, 0.0), (3029, 0.0), (3033, 0.0), (3034, 0.0), (3038, 0.0), (3039, 0.0), (3041, 0.0), (3047, 0.0), (3048, 0.0), (3054, 0.0), (3058, 0.0), (3059, 0.0), (3060, 0.0), (3061, 0.0), (3063, 0.0), (3066, 0.0), (3073, 0.0), (3077, 0.0), (3078, 0.0), (3080, 0.0), (3082, 0.0), (3087, 0.0), (3088, 0.0), (3089, 0.0), (3090, 0.0), (3092, 0.0), (3098, 0.0), (3102, 0.0), (3103, 0.0), (3104, 0.0), (3105, 0.0), (3106, 0.0), (3107, 0.0), (3109, 0.0), (3114, 0.0), (3115, 0.0), (3121, 0.0), (3130, 0.0), (3132, 0.0), (3138, 0.0), (3141, 0.0), (3144, 0.0), (3145, 0.0), (3162, 0.0), (3164, 0.0), (3169, 0.0), (3172, 0.0), (3175, 0.0), (3176, 0.0), (3177, 0.0), (3181, 0.0), (3188, 0.0), (3189, 0.0), (3190, 0.0), (3193, 0.0), (3197, 0.0), (3201, 0.0), (3202, 0.0), (3204, 0.0), (3205, 0.0), (3207, 0.0), (3208, 0.0), (3209, 0.0), (3212, 0.0), (3217, 0.0), (3221, 0.0), (3222, 0.0), (3223, 0.0), (3229, 0.0), (3231, 0.0), (3236, 0.0), (3244, 0.0), (3250, 0.0), (3251, 0.0), (3253, 0.0), (3256, 0.0), (3261, 0.0), (3265, 0.0), (3266, 0.0), (3270, 0.0), (3272, 0.0), (3277, 0.0), (3281, 0.0), (3286, 0.0), (3287, 0.0), (3288, 0.0), (3294, 0.0), (3295, 0.0), (3305, 0.0), (3309, 0.0), (3310, 0.0), (3320, 0.0), (3321, 0.0), (3323, 0.0), (3324, 0.0), (3332, 0.0), (3333, 0.0), (3340, 0.0), (3343, 0.0), (3345, 0.0), (3350, 0.0), (3356, 0.0), (3366, 0.0), (3368, 0.0), (3371, 0.0), (3375, 0.0), (3378, 0.0), (3383, 0.0), (3394, 0.0), (3397, 0.0), (3400, 0.0), (3401, 0.0), (3411, 0.0), (3415, 0.0), (3420, 0.0), (3422, 0.0), (3424, 0.0), (3439, 0.0), (3442, 0.0), (3444, 0.0), (3454, 0.0), (3457, 0.0), (3459, 0.0), (3461, 0.0), (3467, 0.0), (3469, 0.0), (3472, 0.0), (3473, 0.0), (3475, 0.0), (3476, 0.0), (3481, 0.0), (3482, 0.0), (3485, 0.0), (3489, 0.0), (3490, 0.0), (3494, 0.0), (3505, 0.0), (3509, 0.0), (3510, 0.0), (3515, 0.0), (3519, 0.0), (3522, 0.0), (3525, 0.0), (3528, 0.0), (3529, 0.0), (3530, 0.0), (3532, 0.0), (3533, 0.0), (3539, 0.0), (3543, 0.0), (3545, 0.0), (3547, 0.0), (3549, 0.0), (3550, 0.0), (3554, 0.0), (3562, 0.0), (3563, 0.0), (3566, 0.0), (3567, 0.0), (3568, 0.0), (3578, 0.0), (3580, 0.0), (3581, 0.0), (3585, 0.0), (3589, 0.0), (3591, 0.0), (3592, 0.0), (3594, 0.0), (3595, 0.0), (3598, 0.0), (3600, 0.0), (3603, 0.0), (3607, 0.0), (3609, 0.0), (3610, 0.0), (3617, 0.0), (3622, 0.0), (3625, 0.0), (3628, 0.0), (3630, 0.0), (3631, 0.0), (3632, 0.0), (3633, 0.0), (3644, 0.0), (3648, 0.0), (3649, 0.0), (3650, 0.0), (3662, 0.0), (3663, 0.0), (3671, 0.0), (3676, 0.0), (3681, 0.0), (3682, 0.0), (3683, 0.0), (3685, 0.0), (3686, 0.0), (3690, 0.0), (3693, 0.0), (3695, 0.0), (3697, 0.0), (3698, 0.0), (3700, 0.0), (3702, 0.0), (3703, 0.0), (3709, 0.0), (3712, 0.0), (3716, 0.0), (3717, 0.0), (3718, 0.0), (3722, 0.0), (3724, 0.0), (3726, 0.0), (3730, 0.0), (3732, 0.0), (3735, 0.0), (3736, 0.0), (3738, 0.0), (3740, 0.0), (3743, 0.0), (3748, 0.0), (3750, 0.0), (3752, 0.0), (3758, 0.0), (3759, 0.0), (3760, 0.0), (3761, 0.0), (3764, 0.0), (3783, 0.0), (3785, 0.0), (3786, 0.0), (3789, 0.0), (3790, 0.0), (3791, 0.0), (3796, 0.0), (3798, 0.0), (3800, 0.0), (3803, 0.0), (3805, 0.0), (3808, 0.0), (3812, 0.0), (3816, 0.0), (3817, 0.0), (3818, 0.0), (3820, 0.0), (3825, 0.0), (3830, 0.0), (3831, 0.0), (3834, 0.0), (3836, 0.0), (3837, 0.0), (3838, 0.0), (3840, 0.0), (3843, 0.0), (3846, 0.0), (3847, 0.0), (3851, 0.0), (3856, 0.0), (3858, 0.0), (3859, 0.0), (3861, 0.0), (3864, 0.0), (3865, 0.0), (3869, 0.0), (3870, 0.0), (3879, 0.0), (3885, 0.0), (3887, 0.0), (3896, 0.0), (3909, 0.0), (3912, 0.0), (3914, 0.0), (3918, 0.0), (3921, 0.0), (3926, 0.0), (3929, 0.0), (3930, 0.0), (3931, 0.0), (3933, 0.0), (3934, 0.0), (3936, 0.0), (3937, 0.0), (3940, 0.0), (3943, 0.0), (3948, 0.0), (3950, 0.0), (3955, 0.0), (3958, 0.0), (3964, 0.0), (3965, 0.0), (3968, 0.0), (3969, 0.0), (3971, 0.0), (3972, 0.0), (3976, 0.0), (3977, 0.0), (3979, 0.0), (3980, 0.0), (3981, 0.0), (3982, 0.0), (3985, 0.0), (3988, 0.0), (3991, 0.0), (3994, 0.0), (3996, 0.0), (3998, 0.0), (4001, 0.0), (4003, 0.0), (4006, 0.0), (4008, 0.0), (4009, 0.0), (4010, 0.0), (4012, 0.0), (4018, 0.0), (4021, 0.0), (4022, 0.0), (4026, 0.0), (4027, 0.0), (4028, 0.0), (4029, 0.0), (4031, 0.0), (4034, 0.0), (4037, 0.0), (4040, 0.0), (4041, 0.0), (4055, 0.0), (4057, 0.0), (4058, 0.0), (4061, 0.0), (4063, 0.0), (4065, 0.0), (4067, 0.0), (4070, 0.0), (4072, 0.0), (4073, 0.0), (4077, 0.0), (4078, 0.0), (4084, 0.0), (4086, 0.0), (4097, 0.0), (4099, 0.0), (4100, 0.0), (4108, 0.0), (4109, 0.0), (4110, 0.0), (4112, 0.0), (4114, 0.0), (4115, 0.0), (4125, 0.0), (4127, 0.0), (4131, 0.0), (4144, 0.0), (4146, 0.0), (4149, 0.0), (4150, 0.0), (4153, 0.0), (4157, 0.0), (4159, 0.0), (4166, 0.0), (4167, 0.0), (4168, 0.0), (4170, 0.0), (4173, 0.0), (4177, 0.0), (4179, 0.0), (4180, 0.0), (4181, 0.0), (4184, 0.0), (4185, 0.0), (4186, 0.0), (4188, 0.0), (4190, 0.0), (4191, 0.0), (4194, 0.0), (4196, 0.0), (4198, 0.0), (4199, 0.0), (4201, 0.0), (4204, 0.0), (4207, 0.0), (4210, 0.0), (4212, 0.0), (4214, 0.0), (4215, 0.0), (4217, 0.0), (4218, 0.0), (4223, 0.0), (4224, 0.0), (4226, 0.0), (4229, 0.0), (4234, 0.0), (4236, 0.0), (4237, 0.0), (4238, 0.0), (4239, 0.0), (4241, 0.0), (4250, 0.0), (4253, 0.0), (4256, 0.0), (4258, 0.0), (4260, 0.0), (4270, 0.0), (4271, 0.0), (4276, 0.0), (4278, 0.0), (4279, 0.0), (4291, 0.0), (4297, 0.0), (4300, 0.0), (4302, 0.0), (4303, 0.0), (4305, 0.0), (4313, 0.0), (4314, 0.0), (4315, 0.0), (4316, 0.0), (4317, 0.0), (4319, 0.0), (4323, 0.0), (4324, 0.0), (4327, 0.0), (4329, 0.0), (4332, 0.0), (4335, 0.0), (4338, 0.0), (4341, 0.0), (4342, 0.0), (4346, 0.0), (4347, 0.0), (4351, 0.0), (4352, 0.0), (4353, 0.0), (4358, 0.0), (4364, 0.0), (4367, 0.0), (4370, 0.0), (4372, 0.0), (4373, 0.0), (4385, 0.0), (4388, 0.0), (4393, 0.0), (4404, 0.0), (4405, 0.0), (4406, 0.0), (4408, 0.0), (4410, 0.0), (4413, 0.0), (4414, 0.0), (4415, 0.0), (4417, 0.0), (4421, 0.0), (4424, 0.0), (4425, 0.0), (4433, 0.0), (4434, 0.0), (4437, 0.0), (4439, 0.0), (4447, 0.0), (4449, 0.0), (4451, 0.0), (4453, 0.0), (4454, 0.0), (4455, 0.0), (4456, 0.0), (4457, 0.0), (4459, 0.0), (4460, 0.0), (4463, 0.0), (4467, 0.0), (4478, 0.0), (4480, 0.0), (4482, 0.0), (4483, 0.0), (4485, 0.0), (4491, 0.0), (4492, 0.0), (4493, 0.0), (4496, 0.0), (4498, 0.0), (4499, 0.0), (4500, 0.0), (4506, 0.0), (4508, 0.0), (4509, 0.0), (4519, 0.0), (4525, 0.0), (4526, 0.0), (4532, 0.0), (4539, 0.0), (4541, 0.0), (4542, 0.0), (4547, 0.0), (4549, 0.0), (4556, 0.0), (4558, 0.0), (4559, 0.0), (4560, 0.0), (4561, 0.0), (4562, 0.0), (4564, 0.0), (4565, 0.0), (4568, 0.0), (4569, 0.0), (4570, 0.0), (4577, 0.0), (4578, 0.0), (4580, 0.0), (4583, 0.0), (4592, 0.0), (4596, 0.0), (4597, 0.0), (4599, 0.0), (4600, 0.0), (4609, 0.0), (4613, 0.0), (4615, 0.0), (4618, 0.0), (4622, 0.0), (4628, 0.0), (4631, 0.0), (4635, 0.0), (4644, 0.0), (4647, 0.0), (4648, 0.0), (4651, 0.0), (4654, 0.0), (4655, 0.0), (4662, 0.0), (4667, 0.0), (4671, 0.0), (4672, 0.0), (4675, 0.0), (4676, 0.0), (4681, 0.0), (4683, 0.0), (4688, 0.0), (4690, 0.0), (4700, 0.0), (4702, 0.0), (4711, 0.0), (4714, 0.0), (4716, 0.0), (4720, 0.0), (4725, 0.0), (4726, 0.0), (4728, 0.0), (4730, 0.0), (4736, 0.0), (4737, 0.0), (4738, 0.0), (4740, 0.0), (4741, 0.0), (4742, 0.0), (4745, 0.0), (4750, 0.0), (4751, 0.0), (4754, 0.0), (4755, 0.0), (4758, 0.0), (4759, 0.0)]\n"
          ]
        }
      ]
    },
    {
      "cell_type": "code",
      "source": [
        "# Print the name of Similar Movies based on the index\n",
        "\n",
        "print('Top 30 Movies Suggested for You : \\n')\n",
        "\n",
        "i = 1\n",
        "\n",
        "for movie in Sorted_Similarity_Movies:\n",
        "  index = movie[0]\n",
        "  title_from_index = df[df.index==index]['Movie_Title'].values[0]\n",
        "  if(i<31):\n",
        "    print(i,'.',title_from_index)\n",
        "    i += 1\n"
      ],
      "metadata": {
        "colab": {
          "base_uri": "https://localhost:8080/"
        },
        "id": "UATRmCScu2XR",
        "outputId": "866b2796-798a-4fba-d59c-0a1aadc9ca9a"
      },
      "execution_count": 45,
      "outputs": [
        {
          "output_type": "stream",
          "name": "stdout",
          "text": [
            "Top 30 Movies Suggested for You : \n",
            "\n",
            "1 . Niagara\n",
            "2 . Caravans\n",
            "3 . Harry Brown\n",
            "4 . Back to the Future\n",
            "5 . My Week with Marilyn\n",
            "6 . Night of the Living Dead\n",
            "7 . Eye for an Eye\n",
            "8 . Duel in the Sun\n",
            "9 . Some Like It Hot\n",
            "10 . Enough\n",
            "11 . The Curse of Downers Grove\n",
            "12 . The Misfits\n",
            "13 . Alice Through the Looking Glass\n",
            "14 . Welcome to the Sticks\n",
            "15 . Small Soldiers\n",
            "16 . Sabotage\n",
            "17 . Premium Rush\n",
            "18 . Tora! Tora! Tora!\n",
            "19 . Amidst the Devil's Wings\n",
            "20 . Notes on a Scandal\n",
            "21 . Minority Report\n",
            "22 . Camping Sauvage\n",
            "23 . The Dark Knight Rises\n",
            "24 . We Are Your Friends\n",
            "25 . Dallas Buyers Club\n",
            "26 . The Raid\n",
            "27 . Source Code\n",
            "28 . The Lost Weekend\n",
            "29 . Savages\n",
            "30 . Master and Commander: The Far Side of the World\n"
          ]
        }
      ]
    },
    {
      "cell_type": "markdown",
      "source": [
        "# **Top 10 Movie Recommendation System**"
      ],
      "metadata": {
        "id": "5Bqa0i0ewX4B"
      }
    },
    {
      "cell_type": "code",
      "source": [
        "Movie_Name = input('Enter your favourite movie name : ')\n",
        "\n",
        "list_of_all_titles = df['Movie_Title'].tolist()\n",
        "\n",
        "Find_Close_Match = difflib.get_close_matches(Movie_Name, list_of_all_titles)\n",
        "\n",
        "Close_Match = Find_Close_Match[0]\n",
        "\n",
        "Index_of_Movie = df[df.Movie_Title == Close_Match]['Movie_ID'].values[0]\n",
        "\n",
        "Recommendation_Score = list(enumerate(Similarity_Score[Index_of_Movie]))\n",
        "\n",
        "sorted_similar_movies = sorted(Recommendation_Score, key = lambda x:x[1], reverse = True)\n",
        "\n",
        "print('Top 10 Movies suggested for you : \\n')\n",
        "\n",
        "i = 1\n",
        "for movie in Sorted_Similarity_Movies:\n",
        "  index = movie[0]\n",
        "  title_from_index = df[df.Movie_ID == index]['Movie_Title'].values\n",
        "  if(i<11):\n",
        "    print(i,'.',title_from_index)\n",
        "    i += 1\n",
        "\n"
      ],
      "metadata": {
        "colab": {
          "base_uri": "https://localhost:8080/"
        },
        "id": "z2HxBkqawATC",
        "outputId": "97bdcf64-eada-412d-e761-e3edc82d09a8"
      },
      "execution_count": 52,
      "outputs": [
        {
          "output_type": "stream",
          "name": "stdout",
          "text": [
            "Enter your favourite movie name : avtaar\n",
            "Top 10 Movies suggested for you : \n",
            "\n",
            "1 . ['Avatar']\n",
            "2 . ['The Girl on the Train']\n",
            "3 . ['Precious']\n",
            "4 . ['Run Lola Run']\n",
            "5 . ['Act of Valor']\n",
            "6 . ['Freaky Friday']\n",
            "7 . ['Bright Lights, Big City']\n",
            "8 . ['Cradle Will Rock']\n",
            "9 . ['The Godfather']\n",
            "10 . ['Gerry']\n"
          ]
        }
      ]
    },
    {
      "cell_type": "code",
      "source": [],
      "metadata": {
        "id": "6GQTGXEly-fF"
      },
      "execution_count": 51,
      "outputs": []
    }
  ]
}